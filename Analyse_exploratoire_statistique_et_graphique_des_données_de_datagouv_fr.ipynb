{
  "nbformat": 4,
  "nbformat_minor": 0,
  "metadata": {
    "colab": {
      "name": "Analyse exploratoire statistique et graphique des données de datagouv.fr.ipynb",
      "provenance": [],
      "collapsed_sections": [],
      "authorship_tag": "ABX9TyMatKb8tIqFco6DiURBskD3",
      "include_colab_link": true
    },
    "kernelspec": {
      "name": "python3",
      "display_name": "Python 3"
    }
  },
  "cells": [
    {
      "cell_type": "markdown",
      "metadata": {
        "id": "view-in-github",
        "colab_type": "text"
      },
      "source": [
        "<a href=\"https://colab.research.google.com/github/adew650/analyse-des-donnees-de-datagouv.fr/blob/main/Analyse_exploratoire_statistique_et_graphique_des_donn%C3%A9es_de_datagouv_fr.ipynb\" target=\"_parent\"><img src=\"https://colab.research.google.com/assets/colab-badge.svg\" alt=\"Open In Colab\"/></a>"
      ]
    },
    {
      "cell_type": "markdown",
      "metadata": {
        "id": "9mHFbA9PoEtp"
      },
      "source": [
        "Importation des librairies"
      ]
    },
    {
      "cell_type": "code",
      "metadata": {
        "id": "MgoQFVnMqv3f",
        "cellView": "both"
      },
      "source": [
        "#@title\n",
        "\n",
        "import pandas as pd \n",
        "import seaborn as snb\n",
        "import matplotlib.pyplot as plt\n",
        "import seaborn as snb"
      ],
      "execution_count": null,
      "outputs": []
    },
    {
      "cell_type": "markdown",
      "metadata": {
        "id": "ddtrn90q18zr"
      },
      "source": [
        "Chargement  des données de datagouv.fr "
      ]
    },
    {
      "cell_type": "code",
      "metadata": {
        "id": "1LHJwS3vq0uz",
        "cellView": "both"
      },
      "source": [
        "\n",
        "df18=pd.read_csv(\"inv-imm-20181231.csv\",sep=';',encoding='latin-1')\n",
        "df17=pd.read_csv(\"/content/INV_IMM_20170331.csv\",sep=';',encoding='latin-1')\n",
        "df13=pd.read_csv(\"/content/INV_IMM_20130502.csv\",sep=';',encoding='latin-1')\n",
        "df14=pd.read_csv('/content/INV_IMM_20140307.csv',sep=';',encoding='latin-1')\n",
        "df15=pd.read_csv(\"/content/INV_IMM_20151031.csv\",sep=';',encoding='latin-1')"
      ],
      "execution_count": null,
      "outputs": []
    },
    {
      "cell_type": "markdown",
      "metadata": {
        "id": "EPsFWs6NB5Zv"
      },
      "source": [
        "# Inventaire du parc immobiler de l'etat"
      ]
    },
    {
      "cell_type": "markdown",
      "metadata": {
        "id": "70Wddailh6wM"
      },
      "source": [
        "Nombre de batiments  de chaque ministère (année 2018)"
      ]
    },
    {
      "cell_type": "code",
      "metadata": {
        "id": "WiBXn_LP93Dn",
        "cellView": "both",
        "outputId": "9bb345ad-f460-466c-dd6d-62341d559e4d",
        "colab": {
          "base_uri": "https://localhost:8080/"
        }
      },
      "source": [
        "#@title\n",
        "df18['Ministère'].value_counts()"
      ],
      "execution_count": null,
      "outputs": [
        {
          "output_type": "execute_result",
          "data": {
            "text/plain": [
              "Ecologie - Développement durable - Energie - Aménagement du territoire    11828\n",
              "Intérieur - Outre-mer - Collectivités territoriales                       10230\n",
              "France Domaine                                                             3437\n",
              "Justice                                                                    1540\n",
              "Budget - Comptes publics - Fonction publique                               1383\n",
              "Education nationale - Enseignement supérieur - Recherche                    839\n",
              "Multi-occupants                                                             719\n",
              "Culture                                                                     646\n",
              "Affaires étrangères                                                         502\n",
              "Services du Premier ministre                                                405\n",
              "Agriculture                                                                 171\n",
              "Travail - Emploi                                                             80\n",
              "Economie - Finances - Industrie                                              77\n",
              "Santé                                                                        46\n",
              "Pouvoirs publics                                                             30\n",
              "Logement - Ville                                                              2\n",
              "Name: Ministère, dtype: int64"
            ]
          },
          "metadata": {
            "tags": []
          },
          "execution_count": 10
        }
      ]
    },
    {
      "cell_type": "markdown",
      "metadata": {
        "id": "uU9hhaKwlSjW"
      },
      "source": [
        "Nombre de batiment de chaque ministère (2017)"
      ]
    },
    {
      "cell_type": "code",
      "metadata": {
        "id": "gQWdvgMG63RE",
        "cellView": "form",
        "outputId": "05081862-f2a8-438b-839f-f079c9442401",
        "colab": {
          "base_uri": "https://localhost:8080/"
        }
      },
      "source": [
        "#@title\n",
        "df17['Ministère'].value_counts()"
      ],
      "execution_count": null,
      "outputs": [
        {
          "output_type": "execute_result",
          "data": {
            "text/plain": [
              "Ecologie - Développement durable - Energie - Aménagement du territoire    13229\n",
              "Intérieur - Outre-mer - Collectivités territoriales                       10406\n",
              "France Domaine                                                             3829\n",
              "Justice                                                                    1511\n",
              "Budget - Comptes publics - Fonction publique                               1442\n",
              "Culture                                                                     679\n",
              "Multi-occupants                                                             603\n",
              "Education nationale - Enseignement supérieur - Recherche                    542\n",
              "Affaires étrangères                                                         516\n",
              "Agriculture                                                                 289\n",
              "Services du Premier ministre                                                114\n",
              "Economie - Finances - Industrie                                              95\n",
              "Travail - Emploi                                                             82\n",
              "Santé                                                                        66\n",
              "Pouvoirs publics                                                             32\n",
              "Inconnu                                                                       1\n",
              "Logement - Ville                                                              1\n",
              "Name: Ministère, dtype: int64"
            ]
          },
          "metadata": {
            "tags": []
          },
          "execution_count": 11
        }
      ]
    },
    {
      "cell_type": "markdown",
      "metadata": {
        "id": "iZLkLPhHldpe"
      },
      "source": [
        "Nombre de batiment de chaque ministere (2015)"
      ]
    },
    {
      "cell_type": "code",
      "metadata": {
        "id": "KTiIwe7298LQ",
        "cellView": "form",
        "outputId": "b83c99d2-7cb1-406c-9fb7-82bbd64cdc43",
        "colab": {
          "base_uri": "https://localhost:8080/"
        }
      },
      "source": [
        "#@title\n",
        "df15['Ministère'].value_counts()"
      ],
      "execution_count": null,
      "outputs": [
        {
          "output_type": "execute_result",
          "data": {
            "text/plain": [
              "Ecologie - Développement durable - Energie - Aménagement du territoire    14114\n",
              "Intérieur - Outre-mer - Collectivités territoriales                       10490\n",
              "France Domaine                                                             3756\n",
              "Justice                                                                    1504\n",
              "Budget - Comptes publics - Fonction publique                               1497\n",
              "Culture                                                                     687\n",
              "Education nationale - Enseignement supérieur - Recherche                    574\n",
              "Multi-occupants                                                             546\n",
              "Affaires étrangères                                                         536\n",
              "Agriculture                                                                 367\n",
              "Economie - Finances - Industrie                                             111\n",
              "Services du Premier ministre                                                105\n",
              "Travail - Emploi                                                             85\n",
              "Santé                                                                        69\n",
              "Pouvoirs publics                                                             32\n",
              "Name: Ministère, dtype: int64"
            ]
          },
          "metadata": {
            "tags": []
          },
          "execution_count": 12
        }
      ]
    },
    {
      "cell_type": "markdown",
      "metadata": {
        "id": "3CbNqrgGC330"
      },
      "source": [
        "Nombre de batiment de chaque ministere (2014)"
      ]
    },
    {
      "cell_type": "code",
      "metadata": {
        "id": "x_UzQDfKCqUt",
        "cellView": "form",
        "outputId": "ce799e1b-ade5-4d61-8fb4-3efe5e86ee40",
        "colab": {
          "base_uri": "https://localhost:8080/"
        }
      },
      "source": [
        "#@title\n",
        "df14['Ministère'].value_counts()"
      ],
      "execution_count": null,
      "outputs": [
        {
          "output_type": "execute_result",
          "data": {
            "text/plain": [
              "Ecologie, Energie, Dév.dur., Amt.ter.                           15081\n",
              "Intérieur, Outre-mer et Collec. terr.                           10384\n",
              "France Domaine                                                   4996\n",
              "Budget, Comptes publics et Fonc. pub.                            1547\n",
              "Justice                                                          1475\n",
              "Éducation nationale                                              1145\n",
              "Culture et Communication                                          771\n",
              "Affaires étrangères et européennes                                580\n",
              "Agriculture et Pêche                                              469\n",
              "Multioccupation                                                   455\n",
              "Entité Contrôlée Ecologie, développement et aménagement dura      317\n",
              "Economie, Industrie et Emploi                                     122\n",
              "Santé, Jeunesse, Sports, et Vie assoc.                            105\n",
              "Travail, Relations soc., Fam. et Sol.                             103\n",
              "Services du Premier ministre                                       79\n",
              "Entité Contrôlée Santé, jeunesse et sports                         46\n",
              "Aviation civile                                                    35\n",
              "Entité Contrôlée Education nationale, enseignement supérieur       23\n",
              "Sénat                                                              14\n",
              "Enseignement supérieur et Recherche                                10\n",
              "Entité Contrôlée Budget, comptes publics et fonction publiqu       10\n",
              "Assemblée Nationale                                                 6\n",
              "Présidence de la République                                         5\n",
              "Entité Contrôlée Culture et communication                           4\n",
              "Secrétariat général de la défense nationale                         4\n",
              "Cour des Comptes                                                    4\n",
              "Entité Contrôlée Economie, finances et emploi                       4\n",
              "Conseil d'Etat                                                      4\n",
              "Entité Contrôlée Agriculture et pêche                               3\n",
              "Centre d'analyse stratégique                                        3\n",
              "Pouvoirs Publics                                                    2\n",
              "Entité Contrôlée Intérieur, outre-mer et collectivités terri        2\n",
              "Conseil constitutionnel                                             1\n",
              "Name: Ministère, dtype: int64"
            ]
          },
          "metadata": {
            "tags": []
          },
          "execution_count": 55
        }
      ]
    },
    {
      "cell_type": "markdown",
      "metadata": {
        "id": "XAS_YfJXl_Hx"
      },
      "source": [
        "Nombre de batiment de chaque ministère année 2014"
      ]
    },
    {
      "cell_type": "markdown",
      "metadata": {
        "id": "mqpYqYU7l99R"
      },
      "source": [
        "Nombre de batiment de chaque ministere pour l'année 2013"
      ]
    },
    {
      "cell_type": "code",
      "metadata": {
        "id": "ICbqQSIZ-DjR",
        "cellView": "form",
        "outputId": "d8e5140d-92c6-4b53-a31f-f8fd0fbf8a3e",
        "colab": {
          "base_uri": "https://localhost:8080/"
        }
      },
      "source": [
        "#@title\n",
        "df13['Ministère'].value_counts()"
      ],
      "execution_count": null,
      "outputs": [
        {
          "output_type": "execute_result",
          "data": {
            "text/plain": [
              "Ecologie, développement et aménagement durables.              15427\n",
              "Intérieur, outre-mer et collectivités territoriales.          10620\n",
              "France Domaine                                                 4361\n",
              "Budget, comptes publics et fonction publique.                  1617\n",
              "Justice.                                                       1415\n",
              "Education nationale, enseignement supérieur et recherche .     1390\n",
              "Affaires étrangères et européennes.                             804\n",
              "Culture et communication.                                       785\n",
              "Agriculture et pêche.                                           523\n",
              "Multioccupation                                                 316\n",
              "Economie, finances et emploi.                                   144\n",
              "Santé, jeunesse et sports.                                      127\n",
              "Travail, relations sociales et solidarité.                      118\n",
              "Premier ministre.                                                98\n",
              "Enseignement supérieur et Recherche                              28\n",
              "Pouvoirs publics                                                 17\n",
              "Name: Ministère, dtype: int64"
            ]
          },
          "metadata": {
            "tags": []
          },
          "execution_count": 14
        }
      ]
    },
    {
      "cell_type": "code",
      "metadata": {
        "id": "WXvqXOM8t20N",
        "cellView": "form"
      },
      "source": [
        "#@title\n",
        "\n",
        "ministere18 = 'Intérieur - Outre-mer - Collectivités territoriales'\n",
        "ministere17='Intérieur - Outre-mer - Collectivités territoriales'\n",
        "ministere13 ='Intérieur, outre-mer et collectivités territoriales.'\n",
        "ministere15='Intérieur - Outre-mer - Collectivités territoriales'\n",
        "ministere14='Intérieur, Outre-mer et Collec. terr.'"
      ],
      "execution_count": null,
      "outputs": []
    },
    {
      "cell_type": "code",
      "metadata": {
        "id": "gQqxVeb3tmcH",
        "cellView": "form"
      },
      "source": [
        "#@title\n",
        "df18=df18[df18['Ministère']==ministere18]\n",
        "df17=df17[df17['Ministère']==ministere17]\n",
        "df14=df14[df14['Ministère']==ministere14]\n",
        "df15=df15[df15['Ministère']==ministere15]\n",
        "df13=df13[df13['Ministère']==ministere13]"
      ],
      "execution_count": null,
      "outputs": []
    },
    {
      "cell_type": "code",
      "metadata": {
        "id": "2-9r6Oc2BuIm",
        "cellView": "form"
      },
      "source": [
        "#@title\n",
        "df18['count']=1\n",
        "df17['count']=1\n",
        "df15['count']=1\n",
        "df14['count']=1\n",
        "df13['count']=1"
      ],
      "execution_count": null,
      "outputs": []
    },
    {
      "cell_type": "markdown",
      "metadata": {
        "id": "m4rWiRGynKs3"
      },
      "source": [
        "#Nombre des  differents types de batiments du ministère de l'interieur (2018)"
      ]
    },
    {
      "cell_type": "code",
      "metadata": {
        "id": "YNDL8FlQ1xHM",
        "cellView": "form",
        "outputId": "10b9dec1-6453-4ee1-d35b-93201fa9ba81",
        "colab": {
          "base_uri": "https://localhost:8080/"
        }
      },
      "source": [
        "#@title\n",
        "df18['Type'].value_counts()"
      ],
      "execution_count": null,
      "outputs": [
        {
          "output_type": "execute_result",
          "data": {
            "text/plain": [
              "Bâtiment technique                      3525\n",
              "Espace aménagé                          2746\n",
              "Bureau                                  2155\n",
              "Ouvrage d'art des réseaux et voiries     471\n",
              "Bâtiment d'enseignement ou de sport      460\n",
              "Bâtiment sanitaire ou social             411\n",
              "Bâtiment agricole ou d'élevage           232\n",
              "Espace naturel                           138\n",
              "Réseaux et voirie                         62\n",
              "Bâtiment culturel                         18\n",
              "Édifice du culte                           7\n",
              "Monument et mémorial                       4\n",
              "Commerce                                   1\n",
              "Name: Type, dtype: int64"
            ]
          },
          "metadata": {
            "tags": []
          },
          "execution_count": 18
        }
      ]
    },
    {
      "cell_type": "markdown",
      "metadata": {
        "id": "HIwAp5ePpNY8"
      },
      "source": [
        "# Nombre des differents types des batiments du ministère de l'intérieur année 2017"
      ]
    },
    {
      "cell_type": "code",
      "metadata": {
        "id": "xmubqv9A_UmT",
        "outputId": "b277e262-d576-48a0-87d0-f9acf1a140ba",
        "colab": {
          "base_uri": "https://localhost:8080/"
        }
      },
      "source": [
        "df17['Type'].value_counts()"
      ],
      "execution_count": null,
      "outputs": [
        {
          "output_type": "execute_result",
          "data": {
            "text/plain": [
              "Bâtiment technique                      3543\n",
              "Espace aménagé                          2812\n",
              "Bureau                                  2267\n",
              "Ouvrage d'art des réseaux et voiries     456\n",
              "Bâtiment d'enseignement ou de sport      440\n",
              "Bâtiment sanitaire ou social             410\n",
              "Bâtiment agricole ou d'élevage           232\n",
              "Espace naturel                           152\n",
              "Réseaux et voirie                         67\n",
              "Bâtiment culturel                         17\n",
              "Édifice du culte                           6\n",
              "Monument et mémorial                       3\n",
              "Commerce                                   1\n",
              "Name: Type, dtype: int64"
            ]
          },
          "metadata": {
            "tags": []
          },
          "execution_count": 24
        }
      ]
    },
    {
      "cell_type": "markdown",
      "metadata": {
        "id": "uvekwtcFpi3I"
      },
      "source": [
        "# Nombre des differents types des batiments du ministère de l'intérieur année 2015"
      ]
    },
    {
      "cell_type": "code",
      "metadata": {
        "id": "rRA5vkrTAkDY",
        "outputId": "dd6615e7-885e-4503-9d15-b33b4d22f287",
        "colab": {
          "base_uri": "https://localhost:8080/"
        }
      },
      "source": [
        "df15['Type'].value_counts()"
      ],
      "execution_count": null,
      "outputs": [
        {
          "output_type": "execute_result",
          "data": {
            "text/plain": [
              "Bâtiment technique                      3501\n",
              "Espace aménagé                          2831\n",
              "Bureau                                  2350\n",
              "Ouvrage d'art des réseaux et voiries     471\n",
              "Bâtiment d'enseignement ou de sport      449\n",
              "Bâtiment sanitaire ou social             382\n",
              "Bâtiment agricole ou d'élevage           237\n",
              "Espace naturel                           177\n",
              "Réseaux et voirie                         65\n",
              "Bâtiment culturel                         17\n",
              "Édifice du culte                           6\n",
              "Monument et mémorial                       3\n",
              "Commerce                                   1\n",
              "Name: Type, dtype: int64"
            ]
          },
          "metadata": {
            "tags": []
          },
          "execution_count": 25
        }
      ]
    },
    {
      "cell_type": "markdown",
      "metadata": {
        "id": "UAYB1bwYuve1"
      },
      "source": [
        "# Nombre des differents types de batiments du ministere de l'interieur (2014)"
      ]
    },
    {
      "cell_type": "code",
      "metadata": {
        "id": "j4V-xJQfuLUU",
        "cellView": "form",
        "outputId": "634419d6-9cca-4a64-97a4-b7bda8211d1a",
        "colab": {
          "base_uri": "https://localhost:8080/"
        }
      },
      "source": [
        "#@title\n",
        "df14['Type'].value_counts()"
      ],
      "execution_count": null,
      "outputs": [
        {
          "output_type": "execute_result",
          "data": {
            "text/plain": [
              "Bâtiment technique                3332\n",
              "Espace aménagé                    2853\n",
              "Bureau                            2421\n",
              "Ouvrages d'art réseaux voiries     483\n",
              "Bât. enseignement ou sport         431\n",
              "Bâtiment sanitaire ou social       361\n",
              "Bâtiment agricole ou d'élevage     222\n",
              "Espace naturel                     193\n",
              "Réseaux et voiries                  66\n",
              "Bâtiment culturel                   11\n",
              "Edifice du culte                     5\n",
              "Monument et mémorial                 3\n",
              "Commerce                             3\n",
              "Name: Type, dtype: int64"
            ]
          },
          "metadata": {
            "tags": []
          },
          "execution_count": 46
        }
      ]
    },
    {
      "cell_type": "markdown",
      "metadata": {
        "id": "Tkk0P0eKveAH"
      },
      "source": [
        "# Nombre des differents batiments du ministère de l'intérieur pour l'année 2013"
      ]
    },
    {
      "cell_type": "code",
      "metadata": {
        "id": "O3GIMpRHu7Uc",
        "cellView": "form",
        "outputId": "44c355ca-ac98-41d7-91dc-b5a7d62130a6",
        "colab": {
          "base_uri": "https://localhost:8080/"
        }
      },
      "source": [
        "#@title\n",
        "df13['Type'].value_counts()"
      ],
      "execution_count": null,
      "outputs": [
        {
          "output_type": "execute_result",
          "data": {
            "text/plain": [
              "Bureau                            3525\n",
              "Bâtiment technique                2926\n",
              "Espace aménagé                    2454\n",
              "Ouvrages d'art réseaux voiries     484\n",
              "Bât. enseignement ou sport         437\n",
              "Bâtiment sanitaire ou social       301\n",
              "Bâtiment agricole ou d'élevage     237\n",
              "Espace naturel                     187\n",
              "Réseaux et voiries                  49\n",
              "Bâtiment culturel                   11\n",
              "Edifice du culte                     5\n",
              "Monument et mémorial                 2\n",
              "Commerce                             2\n",
              "Name: Type, dtype: int64"
            ]
          },
          "metadata": {
            "tags": []
          },
          "execution_count": 48
        }
      ]
    },
    {
      "cell_type": "code",
      "metadata": {
        "id": "cm4uS5xowNrM",
        "cellView": "form"
      },
      "source": [
        "#@title\n",
        "rr=df17.groupby(['Type']).count()"
      ],
      "execution_count": null,
      "outputs": []
    },
    {
      "cell_type": "code",
      "metadata": {
        "id": "MMhOeAvS3q32",
        "cellView": "form"
      },
      "source": [
        "#@title\n",
        "df_fonction_groupby=df17.groupby(['Fonction']).count()"
      ],
      "execution_count": null,
      "outputs": []
    },
    {
      "cell_type": "code",
      "metadata": {
        "id": "8YHOdQDo5acM",
        "cellView": "form"
      },
      "source": [
        "#@title\n",
        "df_fonction_groupby=df_fonction_groupby['count']"
      ],
      "execution_count": null,
      "outputs": []
    },
    {
      "cell_type": "code",
      "metadata": {
        "id": "d-_dgGNASPfA",
        "cellView": "form"
      },
      "source": [
        "#@title\n",
        "rr=rr.reset_index()"
      ],
      "execution_count": null,
      "outputs": []
    },
    {
      "cell_type": "code",
      "metadata": {
        "id": "HVNjPaPISdTh",
        "cellView": "form"
      },
      "source": [
        "#@title\n",
        "rr2=rr[['count','Type']]"
      ],
      "execution_count": null,
      "outputs": []
    },
    {
      "cell_type": "code",
      "metadata": {
        "id": "-NncPRaTSwku",
        "cellView": "form",
        "outputId": "7e8d3eaa-9dd1-4215-9879-f3ab0349ca55",
        "colab": {
          "base_uri": "https://localhost:8080/",
          "height": 452
        }
      },
      "source": [
        "#@title\n",
        "rr2"
      ],
      "execution_count": null,
      "outputs": [
        {
          "output_type": "execute_result",
          "data": {
            "text/html": [
              "<div>\n",
              "<style scoped>\n",
              "    .dataframe tbody tr th:only-of-type {\n",
              "        vertical-align: middle;\n",
              "    }\n",
              "\n",
              "    .dataframe tbody tr th {\n",
              "        vertical-align: top;\n",
              "    }\n",
              "\n",
              "    .dataframe thead th {\n",
              "        text-align: right;\n",
              "    }\n",
              "</style>\n",
              "<table border=\"1\" class=\"dataframe\">\n",
              "  <thead>\n",
              "    <tr style=\"text-align: right;\">\n",
              "      <th></th>\n",
              "      <th>count</th>\n",
              "      <th>Type</th>\n",
              "    </tr>\n",
              "  </thead>\n",
              "  <tbody>\n",
              "    <tr>\n",
              "      <th>0</th>\n",
              "      <td>2267</td>\n",
              "      <td>Bureau</td>\n",
              "    </tr>\n",
              "    <tr>\n",
              "      <th>1</th>\n",
              "      <td>232</td>\n",
              "      <td>Bâtiment agricole ou d'élevage</td>\n",
              "    </tr>\n",
              "    <tr>\n",
              "      <th>2</th>\n",
              "      <td>17</td>\n",
              "      <td>Bâtiment culturel</td>\n",
              "    </tr>\n",
              "    <tr>\n",
              "      <th>3</th>\n",
              "      <td>440</td>\n",
              "      <td>Bâtiment d'enseignement ou de sport</td>\n",
              "    </tr>\n",
              "    <tr>\n",
              "      <th>4</th>\n",
              "      <td>410</td>\n",
              "      <td>Bâtiment sanitaire ou social</td>\n",
              "    </tr>\n",
              "    <tr>\n",
              "      <th>5</th>\n",
              "      <td>3543</td>\n",
              "      <td>Bâtiment technique</td>\n",
              "    </tr>\n",
              "    <tr>\n",
              "      <th>6</th>\n",
              "      <td>1</td>\n",
              "      <td>Commerce</td>\n",
              "    </tr>\n",
              "    <tr>\n",
              "      <th>7</th>\n",
              "      <td>2812</td>\n",
              "      <td>Espace aménagé</td>\n",
              "    </tr>\n",
              "    <tr>\n",
              "      <th>8</th>\n",
              "      <td>152</td>\n",
              "      <td>Espace naturel</td>\n",
              "    </tr>\n",
              "    <tr>\n",
              "      <th>9</th>\n",
              "      <td>3</td>\n",
              "      <td>Monument et mémorial</td>\n",
              "    </tr>\n",
              "    <tr>\n",
              "      <th>10</th>\n",
              "      <td>456</td>\n",
              "      <td>Ouvrage d'art des réseaux et voiries</td>\n",
              "    </tr>\n",
              "    <tr>\n",
              "      <th>11</th>\n",
              "      <td>67</td>\n",
              "      <td>Réseaux et voirie</td>\n",
              "    </tr>\n",
              "    <tr>\n",
              "      <th>12</th>\n",
              "      <td>6</td>\n",
              "      <td>Édifice du culte</td>\n",
              "    </tr>\n",
              "  </tbody>\n",
              "</table>\n",
              "</div>"
            ],
            "text/plain": [
              "    count                                  Type\n",
              "0    2267                                Bureau\n",
              "1     232        Bâtiment agricole ou d'élevage\n",
              "2      17                    Bâtiment culturel \n",
              "3     440   Bâtiment d'enseignement ou de sport\n",
              "4     410          Bâtiment sanitaire ou social\n",
              "5    3543                    Bâtiment technique\n",
              "6       1                              Commerce\n",
              "7    2812                        Espace aménagé\n",
              "8     152                        Espace naturel\n",
              "9       3                  Monument et mémorial\n",
              "10    456  Ouvrage d'art des réseaux et voiries\n",
              "11     67                     Réseaux et voirie\n",
              "12      6                     Édifice du culte "
            ]
          },
          "metadata": {
            "tags": []
          },
          "execution_count": 65
        }
      ]
    },
    {
      "cell_type": "code",
      "metadata": {
        "id": "-kO5yyO5O6Mk",
        "cellView": "form"
      },
      "source": [
        "#@title\n",
        "rr15=df15.groupby(['Type']).count()\n",
        "rr15=rr15.reset_index()\n",
        "rr215=rr15[['Type','count']]"
      ],
      "execution_count": null,
      "outputs": []
    },
    {
      "cell_type": "code",
      "metadata": {
        "id": "234qRr0PTESR",
        "cellView": "form"
      },
      "source": [
        "#@title\n",
        "rr18=df18.groupby(['Type']).count()"
      ],
      "execution_count": null,
      "outputs": []
    },
    {
      "cell_type": "code",
      "metadata": {
        "id": "wrW7MtlfTEWe",
        "cellView": "form"
      },
      "source": [
        "#@title\n",
        "rr18=rr18.reset_index()"
      ],
      "execution_count": null,
      "outputs": []
    },
    {
      "cell_type": "code",
      "metadata": {
        "id": "4xjG0jaFTPl2",
        "cellView": "form"
      },
      "source": [
        "#@title\n",
        "rr218=rr18[['count','Type']]"
      ],
      "execution_count": null,
      "outputs": []
    },
    {
      "cell_type": "code",
      "metadata": {
        "id": "bi484j4HVm3l",
        "cellView": "form",
        "outputId": "512b5777-7bce-4f9b-d728-6cac978a612d",
        "colab": {
          "base_uri": "https://localhost:8080/",
          "height": 570
        }
      },
      "source": [
        "#@title\n",
        "import matplotlib.pyplot as plt\n",
        "fig, ax = plt.subplots(figsize=(10,6))\n",
        "\n",
        "barWidth = 0.3\n",
        "bars1 = list(rr218['count'])\n",
        "bars2 = list(rr2['count'])\n",
        "bars3=list(rr215['count'])\n",
        "\n",
        "r1 = np.arange(len(bars1))\n",
        "r2 = [x + barWidth for x in r1]\n",
        "r3= [x + barWidth for x in r2]\n",
        "r4= [x + barWidth for x in r2]\n",
        "\n",
        "plt.bar(r1, bars1, width = barWidth, color = 'blue', edgecolor = 'black', capsize=7, label='2018')\n",
        "plt.bar(r2, bars2, width = barWidth, color = 'cyan', edgecolor = 'black', capsize=7, label='2017')\n",
        "plt.bar(r4, bars3, width = barWidth, color = 'pink', edgecolor = 'black', capsize=7, label='2015')\n",
        "\n",
        "\n",
        "plt.xticks([r + barWidth for r in range(len(bars1))], list(rr218['Type']),rotation='vertical')\n",
        "\n",
        "plt.ylabel('nombre')\n",
        "plt.legend()\n",
        "plt.title('Repartition du Nombre de types de batiment de 2013 à 2018')\n",
        "plt.show()\n"
      ],
      "execution_count": null,
      "outputs": [
        {
          "output_type": "display_data",
          "data": {
            "image/png": "[encoded data removed]",
            "text/plain": [
              "<Figure size 720x432 with 1 Axes>"
            ]
          },
          "metadata": {
            "tags": [],
            "needs_background": "light"
          }
        }
      ]
    },
    {
      "cell_type": "markdown",
      "metadata": {
        "id": "DDVgEZ-GyBTM"
      },
      "source": [
        "# Les types de batiment les plus nombreux sont les bureaux , les batiments techniques ainsi que les espaces aménagés pour les années 2018, 2017,2015"
      ]
    },
    {
      "cell_type": "code",
      "metadata": {
        "id": "jHebgDmY-a78",
        "cellView": "form"
      },
      "source": [
        "#@title\n",
        "rr13=df13.groupby(['Type']).count()"
      ],
      "execution_count": null,
      "outputs": []
    },
    {
      "cell_type": "code",
      "metadata": {
        "id": "r1iCpyavTPox",
        "outputId": "523d3775-1107-44f8-99aa-a3acd774de4d",
        "colab": {
          "base_uri": "https://localhost:8080/",
          "height": 452
        }
      },
      "source": [
        "rr214"
      ],
      "execution_count": null,
      "outputs": [
        {
          "output_type": "execute_result",
          "data": {
            "text/html": [
              "<div>\n",
              "<style scoped>\n",
              "    .dataframe tbody tr th:only-of-type {\n",
              "        vertical-align: middle;\n",
              "    }\n",
              "\n",
              "    .dataframe tbody tr th {\n",
              "        vertical-align: top;\n",
              "    }\n",
              "\n",
              "    .dataframe thead th {\n",
              "        text-align: right;\n",
              "    }\n",
              "</style>\n",
              "<table border=\"1\" class=\"dataframe\">\n",
              "  <thead>\n",
              "    <tr style=\"text-align: right;\">\n",
              "      <th></th>\n",
              "      <th>Type</th>\n",
              "      <th>count</th>\n",
              "    </tr>\n",
              "  </thead>\n",
              "  <tbody>\n",
              "    <tr>\n",
              "      <th>0</th>\n",
              "      <td>Bureau</td>\n",
              "      <td>2421</td>\n",
              "    </tr>\n",
              "    <tr>\n",
              "      <th>1</th>\n",
              "      <td>Bât. enseignement ou sport</td>\n",
              "      <td>431</td>\n",
              "    </tr>\n",
              "    <tr>\n",
              "      <th>2</th>\n",
              "      <td>Bâtiment agricole ou d'élevage</td>\n",
              "      <td>222</td>\n",
              "    </tr>\n",
              "    <tr>\n",
              "      <th>3</th>\n",
              "      <td>Bâtiment culturel</td>\n",
              "      <td>11</td>\n",
              "    </tr>\n",
              "    <tr>\n",
              "      <th>4</th>\n",
              "      <td>Bâtiment sanitaire ou social</td>\n",
              "      <td>361</td>\n",
              "    </tr>\n",
              "    <tr>\n",
              "      <th>5</th>\n",
              "      <td>Bâtiment technique</td>\n",
              "      <td>3332</td>\n",
              "    </tr>\n",
              "    <tr>\n",
              "      <th>6</th>\n",
              "      <td>Commerce</td>\n",
              "      <td>3</td>\n",
              "    </tr>\n",
              "    <tr>\n",
              "      <th>7</th>\n",
              "      <td>Edifice du culte</td>\n",
              "      <td>5</td>\n",
              "    </tr>\n",
              "    <tr>\n",
              "      <th>8</th>\n",
              "      <td>Espace aménagé</td>\n",
              "      <td>2853</td>\n",
              "    </tr>\n",
              "    <tr>\n",
              "      <th>9</th>\n",
              "      <td>Espace naturel</td>\n",
              "      <td>193</td>\n",
              "    </tr>\n",
              "    <tr>\n",
              "      <th>10</th>\n",
              "      <td>Monument et mémorial</td>\n",
              "      <td>3</td>\n",
              "    </tr>\n",
              "    <tr>\n",
              "      <th>11</th>\n",
              "      <td>Ouvrages d'art réseaux voiries</td>\n",
              "      <td>483</td>\n",
              "    </tr>\n",
              "    <tr>\n",
              "      <th>12</th>\n",
              "      <td>Réseaux et voiries</td>\n",
              "      <td>66</td>\n",
              "    </tr>\n",
              "  </tbody>\n",
              "</table>\n",
              "</div>"
            ],
            "text/plain": [
              "                              Type  count\n",
              "0                           Bureau   2421\n",
              "1       Bât. enseignement ou sport    431\n",
              "2   Bâtiment agricole ou d'élevage    222\n",
              "3                Bâtiment culturel     11\n",
              "4     Bâtiment sanitaire ou social    361\n",
              "5               Bâtiment technique   3332\n",
              "6                         Commerce      3\n",
              "7                 Edifice du culte      5\n",
              "8                   Espace aménagé   2853\n",
              "9                   Espace naturel    193\n",
              "10            Monument et mémorial      3\n",
              "11  Ouvrages d'art réseaux voiries    483\n",
              "12              Réseaux et voiries     66"
            ]
          },
          "metadata": {
            "tags": []
          },
          "execution_count": 194
        }
      ]
    },
    {
      "cell_type": "code",
      "metadata": {
        "id": "h_GVUK7f-jC3",
        "cellView": "form"
      },
      "source": [
        "#@title\n",
        "rr13=rr13.reset_index()"
      ],
      "execution_count": null,
      "outputs": []
    },
    {
      "cell_type": "code",
      "metadata": {
        "id": "Oh8YSb6xF7FA",
        "cellView": "form"
      },
      "source": [
        "#@title\n",
        "rr213=rr13[['Type','count']]"
      ],
      "execution_count": null,
      "outputs": []
    },
    {
      "cell_type": "code",
      "metadata": {
        "id": "gYlsLMn6GA7n",
        "cellView": "form",
        "outputId": "fb722b6c-118c-456f-84ec-4ccdffcfe438",
        "colab": {
          "base_uri": "https://localhost:8080/",
          "height": 452
        }
      },
      "source": [
        "#@title\n",
        "rr213"
      ],
      "execution_count": null,
      "outputs": [
        {
          "output_type": "execute_result",
          "data": {
            "text/html": [
              "<div>\n",
              "<style scoped>\n",
              "    .dataframe tbody tr th:only-of-type {\n",
              "        vertical-align: middle;\n",
              "    }\n",
              "\n",
              "    .dataframe tbody tr th {\n",
              "        vertical-align: top;\n",
              "    }\n",
              "\n",
              "    .dataframe thead th {\n",
              "        text-align: right;\n",
              "    }\n",
              "</style>\n",
              "<table border=\"1\" class=\"dataframe\">\n",
              "  <thead>\n",
              "    <tr style=\"text-align: right;\">\n",
              "      <th></th>\n",
              "      <th>Type</th>\n",
              "      <th>count</th>\n",
              "    </tr>\n",
              "  </thead>\n",
              "  <tbody>\n",
              "    <tr>\n",
              "      <th>0</th>\n",
              "      <td>Bureau</td>\n",
              "      <td>3525</td>\n",
              "    </tr>\n",
              "    <tr>\n",
              "      <th>1</th>\n",
              "      <td>Bât. enseignement ou sport</td>\n",
              "      <td>437</td>\n",
              "    </tr>\n",
              "    <tr>\n",
              "      <th>2</th>\n",
              "      <td>Bâtiment agricole ou d'élevage</td>\n",
              "      <td>237</td>\n",
              "    </tr>\n",
              "    <tr>\n",
              "      <th>3</th>\n",
              "      <td>Bâtiment culturel</td>\n",
              "      <td>11</td>\n",
              "    </tr>\n",
              "    <tr>\n",
              "      <th>4</th>\n",
              "      <td>Bâtiment sanitaire ou social</td>\n",
              "      <td>301</td>\n",
              "    </tr>\n",
              "    <tr>\n",
              "      <th>5</th>\n",
              "      <td>Bâtiment technique</td>\n",
              "      <td>2926</td>\n",
              "    </tr>\n",
              "    <tr>\n",
              "      <th>6</th>\n",
              "      <td>Commerce</td>\n",
              "      <td>2</td>\n",
              "    </tr>\n",
              "    <tr>\n",
              "      <th>7</th>\n",
              "      <td>Edifice du culte</td>\n",
              "      <td>5</td>\n",
              "    </tr>\n",
              "    <tr>\n",
              "      <th>8</th>\n",
              "      <td>Espace aménagé</td>\n",
              "      <td>2454</td>\n",
              "    </tr>\n",
              "    <tr>\n",
              "      <th>9</th>\n",
              "      <td>Espace naturel</td>\n",
              "      <td>187</td>\n",
              "    </tr>\n",
              "    <tr>\n",
              "      <th>10</th>\n",
              "      <td>Monument et mémorial</td>\n",
              "      <td>2</td>\n",
              "    </tr>\n",
              "    <tr>\n",
              "      <th>11</th>\n",
              "      <td>Ouvrages d'art réseaux voiries</td>\n",
              "      <td>484</td>\n",
              "    </tr>\n",
              "    <tr>\n",
              "      <th>12</th>\n",
              "      <td>Réseaux et voiries</td>\n",
              "      <td>49</td>\n",
              "    </tr>\n",
              "  </tbody>\n",
              "</table>\n",
              "</div>"
            ],
            "text/plain": [
              "                              Type  count\n",
              "0                           Bureau   3525\n",
              "1       Bât. enseignement ou sport    437\n",
              "2   Bâtiment agricole ou d'élevage    237\n",
              "3                Bâtiment culturel     11\n",
              "4     Bâtiment sanitaire ou social    301\n",
              "5               Bâtiment technique   2926\n",
              "6                         Commerce      2\n",
              "7                 Edifice du culte      5\n",
              "8                   Espace aménagé   2454\n",
              "9                   Espace naturel    187\n",
              "10            Monument et mémorial      2\n",
              "11  Ouvrages d'art réseaux voiries    484\n",
              "12              Réseaux et voiries     49"
            ]
          },
          "metadata": {
            "tags": []
          },
          "execution_count": 83
        }
      ]
    },
    {
      "cell_type": "code",
      "metadata": {
        "id": "KoY5mZqOPei2",
        "cellView": "form",
        "outputId": "7cdaa1b7-d7f7-4726-e1c5-a09bda57de3c",
        "colab": {
          "base_uri": "https://localhost:8080/",
          "height": 452
        }
      },
      "source": [
        "#@title\n",
        "rr215"
      ],
      "execution_count": null,
      "outputs": [
        {
          "output_type": "execute_result",
          "data": {
            "text/html": [
              "<div>\n",
              "<style scoped>\n",
              "    .dataframe tbody tr th:only-of-type {\n",
              "        vertical-align: middle;\n",
              "    }\n",
              "\n",
              "    .dataframe tbody tr th {\n",
              "        vertical-align: top;\n",
              "    }\n",
              "\n",
              "    .dataframe thead th {\n",
              "        text-align: right;\n",
              "    }\n",
              "</style>\n",
              "<table border=\"1\" class=\"dataframe\">\n",
              "  <thead>\n",
              "    <tr style=\"text-align: right;\">\n",
              "      <th></th>\n",
              "      <th>Type</th>\n",
              "      <th>count</th>\n",
              "    </tr>\n",
              "  </thead>\n",
              "  <tbody>\n",
              "    <tr>\n",
              "      <th>0</th>\n",
              "      <td>Bureau</td>\n",
              "      <td>2350</td>\n",
              "    </tr>\n",
              "    <tr>\n",
              "      <th>1</th>\n",
              "      <td>Bâtiment agricole ou d'élevage</td>\n",
              "      <td>237</td>\n",
              "    </tr>\n",
              "    <tr>\n",
              "      <th>2</th>\n",
              "      <td>Bâtiment culturel</td>\n",
              "      <td>17</td>\n",
              "    </tr>\n",
              "    <tr>\n",
              "      <th>3</th>\n",
              "      <td>Bâtiment d'enseignement ou de sport</td>\n",
              "      <td>449</td>\n",
              "    </tr>\n",
              "    <tr>\n",
              "      <th>4</th>\n",
              "      <td>Bâtiment sanitaire ou social</td>\n",
              "      <td>382</td>\n",
              "    </tr>\n",
              "    <tr>\n",
              "      <th>5</th>\n",
              "      <td>Bâtiment technique</td>\n",
              "      <td>3501</td>\n",
              "    </tr>\n",
              "    <tr>\n",
              "      <th>6</th>\n",
              "      <td>Commerce</td>\n",
              "      <td>1</td>\n",
              "    </tr>\n",
              "    <tr>\n",
              "      <th>7</th>\n",
              "      <td>Espace aménagé</td>\n",
              "      <td>2831</td>\n",
              "    </tr>\n",
              "    <tr>\n",
              "      <th>8</th>\n",
              "      <td>Espace naturel</td>\n",
              "      <td>177</td>\n",
              "    </tr>\n",
              "    <tr>\n",
              "      <th>9</th>\n",
              "      <td>Monument et mémorial</td>\n",
              "      <td>3</td>\n",
              "    </tr>\n",
              "    <tr>\n",
              "      <th>10</th>\n",
              "      <td>Ouvrage d'art des réseaux et voiries</td>\n",
              "      <td>471</td>\n",
              "    </tr>\n",
              "    <tr>\n",
              "      <th>11</th>\n",
              "      <td>Réseaux et voirie</td>\n",
              "      <td>65</td>\n",
              "    </tr>\n",
              "    <tr>\n",
              "      <th>12</th>\n",
              "      <td>Édifice du culte</td>\n",
              "      <td>6</td>\n",
              "    </tr>\n",
              "  </tbody>\n",
              "</table>\n",
              "</div>"
            ],
            "text/plain": [
              "                                    Type  count\n",
              "0                                 Bureau   2350\n",
              "1         Bâtiment agricole ou d'élevage    237\n",
              "2                     Bâtiment culturel      17\n",
              "3    Bâtiment d'enseignement ou de sport    449\n",
              "4           Bâtiment sanitaire ou social    382\n",
              "5                     Bâtiment technique   3501\n",
              "6                               Commerce      1\n",
              "7                         Espace aménagé   2831\n",
              "8                         Espace naturel    177\n",
              "9                   Monument et mémorial      3\n",
              "10  Ouvrage d'art des réseaux et voiries    471\n",
              "11                     Réseaux et voirie     65\n",
              "12                     Édifice du culte       6"
            ]
          },
          "metadata": {
            "tags": []
          },
          "execution_count": 78
        }
      ]
    },
    {
      "cell_type": "code",
      "metadata": {
        "id": "lw3f72vOWwnR",
        "cellView": "form"
      },
      "source": [
        "#@title\n",
        "rr14=df14.groupby(['Type']).count()\n",
        "rr14=rr14.reset_index()\n",
        "rr214=rr14[['Type','count']]"
      ],
      "execution_count": null,
      "outputs": []
    },
    {
      "cell_type": "code",
      "metadata": {
        "id": "aU2AZWzjXWug",
        "cellView": "form",
        "outputId": "3931547c-0bda-4d8d-eb91-51882be9c4b1",
        "colab": {
          "base_uri": "https://localhost:8080/",
          "height": 452
        }
      },
      "source": [
        "#@title\n",
        "rr214"
      ],
      "execution_count": null,
      "outputs": [
        {
          "output_type": "execute_result",
          "data": {
            "text/html": [
              "<div>\n",
              "<style scoped>\n",
              "    .dataframe tbody tr th:only-of-type {\n",
              "        vertical-align: middle;\n",
              "    }\n",
              "\n",
              "    .dataframe tbody tr th {\n",
              "        vertical-align: top;\n",
              "    }\n",
              "\n",
              "    .dataframe thead th {\n",
              "        text-align: right;\n",
              "    }\n",
              "</style>\n",
              "<table border=\"1\" class=\"dataframe\">\n",
              "  <thead>\n",
              "    <tr style=\"text-align: right;\">\n",
              "      <th></th>\n",
              "      <th>Type</th>\n",
              "      <th>count</th>\n",
              "    </tr>\n",
              "  </thead>\n",
              "  <tbody>\n",
              "    <tr>\n",
              "      <th>0</th>\n",
              "      <td>Bureau</td>\n",
              "      <td>2421</td>\n",
              "    </tr>\n",
              "    <tr>\n",
              "      <th>1</th>\n",
              "      <td>Bât. enseignement ou sport</td>\n",
              "      <td>431</td>\n",
              "    </tr>\n",
              "    <tr>\n",
              "      <th>2</th>\n",
              "      <td>Bâtiment agricole ou d'élevage</td>\n",
              "      <td>222</td>\n",
              "    </tr>\n",
              "    <tr>\n",
              "      <th>3</th>\n",
              "      <td>Bâtiment culturel</td>\n",
              "      <td>11</td>\n",
              "    </tr>\n",
              "    <tr>\n",
              "      <th>4</th>\n",
              "      <td>Bâtiment sanitaire ou social</td>\n",
              "      <td>361</td>\n",
              "    </tr>\n",
              "    <tr>\n",
              "      <th>5</th>\n",
              "      <td>Bâtiment technique</td>\n",
              "      <td>3332</td>\n",
              "    </tr>\n",
              "    <tr>\n",
              "      <th>6</th>\n",
              "      <td>Commerce</td>\n",
              "      <td>3</td>\n",
              "    </tr>\n",
              "    <tr>\n",
              "      <th>7</th>\n",
              "      <td>Edifice du culte</td>\n",
              "      <td>5</td>\n",
              "    </tr>\n",
              "    <tr>\n",
              "      <th>8</th>\n",
              "      <td>Espace aménagé</td>\n",
              "      <td>2853</td>\n",
              "    </tr>\n",
              "    <tr>\n",
              "      <th>9</th>\n",
              "      <td>Espace naturel</td>\n",
              "      <td>193</td>\n",
              "    </tr>\n",
              "    <tr>\n",
              "      <th>10</th>\n",
              "      <td>Monument et mémorial</td>\n",
              "      <td>3</td>\n",
              "    </tr>\n",
              "    <tr>\n",
              "      <th>11</th>\n",
              "      <td>Ouvrages d'art réseaux voiries</td>\n",
              "      <td>483</td>\n",
              "    </tr>\n",
              "    <tr>\n",
              "      <th>12</th>\n",
              "      <td>Réseaux et voiries</td>\n",
              "      <td>66</td>\n",
              "    </tr>\n",
              "  </tbody>\n",
              "</table>\n",
              "</div>"
            ],
            "text/plain": [
              "                              Type  count\n",
              "0                           Bureau   2421\n",
              "1       Bât. enseignement ou sport    431\n",
              "2   Bâtiment agricole ou d'élevage    222\n",
              "3                Bâtiment culturel     11\n",
              "4     Bâtiment sanitaire ou social    361\n",
              "5               Bâtiment technique   3332\n",
              "6                         Commerce      3\n",
              "7                 Edifice du culte      5\n",
              "8                   Espace aménagé   2853\n",
              "9                   Espace naturel    193\n",
              "10            Monument et mémorial      3\n",
              "11  Ouvrages d'art réseaux voiries    483\n",
              "12              Réseaux et voiries     66"
            ]
          },
          "metadata": {
            "tags": []
          },
          "execution_count": 80
        }
      ]
    },
    {
      "cell_type": "code",
      "metadata": {
        "id": "t7APXV7jgK7T",
        "cellView": "form",
        "outputId": "775eb310-9420-4080-8909-0d609d8d37a8",
        "colab": {
          "base_uri": "https://localhost:8080/",
          "height": 536
        }
      },
      "source": [
        "#@title\n",
        "import matplotlib.pyplot as plt\n",
        "fig, ax = plt.subplots(figsize=(10,6))\n",
        "\n",
        "barWidth = 0.25\n",
        "bars13= list(rr213['count'])\n",
        "bars14 = list(rr214['count'])\n",
        "\n",
        "\n",
        "r1 = np.arange(len(bars13))\n",
        "r2 = [x + barWidth for x in r1]\n",
        "\n",
        "\n",
        "plt.bar(r1, bars13, width = barWidth, color = 'green', edgecolor = 'black', capsize=7, label='2013')\n",
        "plt.bar(r2, bars14, width = barWidth, color = 'yellow', edgecolor = 'black', capsize=7, label='2014')\n",
        "\n",
        "\n",
        "plt.xticks([r + barWidth for r in range(len(bars13))], list(rr213['Type']),rotation='vertical')\n",
        "\n",
        "plt.ylabel('nombre')\n",
        "plt.legend()\n",
        "plt.title('Repartition du Nombre de types de batiment de 2013 à 2014')\n",
        "plt.show()"
      ],
      "execution_count": null,
      "outputs": [
        {
          "output_type": "display_data",
          "data": {
            "image/png": "[encoded data removed]",
            "text/plain": [
              "<Figure size 720x432 with 1 Axes>"
            ]
          },
          "metadata": {
            "tags": [],
            "needs_background": "light"
          }
        }
      ]
    },
    {
      "cell_type": "markdown",
      "metadata": {
        "id": "3WLFMFex2zGA"
      },
      "source": [
        "# Les types de batiments les plus nombreux pour l'année 2013 et 2014 sont les bureaux , les batiments techniques ainsi que les espaces aménagés"
      ]
    },
    {
      "cell_type": "markdown",
      "metadata": {
        "id": "25xuqCIi4gj8"
      },
      "source": [
        "# On va donc visualiser pour ces  3 types de batiments les différentes fonctions correspondant à leurs sous categories grâce à un diagramme en flux \n"
      ]
    },
    {
      "cell_type": "code",
      "metadata": {
        "id": "nOpihmTPVKyr",
        "cellView": "form"
      },
      "source": [
        "#@title\n",
        "df17type_fonction=df17.groupby(['Type','Fonction']).count()"
      ],
      "execution_count": null,
      "outputs": []
    },
    {
      "cell_type": "code",
      "metadata": {
        "id": "dJyzkA-HVi5W",
        "cellView": "form"
      },
      "source": [
        "#@title\n",
        "df17type_fonction=df17type_fonction['count']"
      ],
      "execution_count": null,
      "outputs": []
    },
    {
      "cell_type": "code",
      "metadata": {
        "id": "o8Pp9MAIZp2U",
        "cellView": "form"
      },
      "source": [
        "#@title\n",
        "df18type_fonction=df18.groupby(['Type','Fonction']).count()"
      ],
      "execution_count": null,
      "outputs": []
    },
    {
      "cell_type": "code",
      "metadata": {
        "id": "qY7hpbEqZvgo",
        "cellView": "form"
      },
      "source": [
        "#@title\n",
        "df18type_fonction=df18type_fonction['count']"
      ],
      "execution_count": null,
      "outputs": []
    },
    {
      "cell_type": "code",
      "metadata": {
        "id": "ok2sfH5fap6D",
        "cellView": "form"
      },
      "source": [
        "#@title\n",
        "df18type_fonction=df18type_fonction.to_frame()"
      ],
      "execution_count": null,
      "outputs": []
    },
    {
      "cell_type": "code",
      "metadata": {
        "id": "XaJWSNejh8pc",
        "cellView": "form"
      },
      "source": [
        "#@title\n",
        "df18type_fonction=df18type_fonction.reset_index()"
      ],
      "execution_count": null,
      "outputs": []
    },
    {
      "cell_type": "code",
      "metadata": {
        "id": "xAcxX5XxiCu_",
        "cellView": "form"
      },
      "source": [
        "#@title\n",
        "df18type_fonction=df18type_fonction.set_index('Type')"
      ],
      "execution_count": null,
      "outputs": []
    },
    {
      "cell_type": "code",
      "metadata": {
        "id": "xM4pQk-ps-F4",
        "cellView": "form"
      },
      "source": [
        "#@title\n",
        "df_diagsankey=df18type_fonction.loc[[\"Bureau\",\"Bâtiment technique\"]]"
      ],
      "execution_count": null,
      "outputs": []
    },
    {
      "cell_type": "code",
      "metadata": {
        "id": "gfChTPdUte9l",
        "cellView": "form"
      },
      "source": [
        "#@title\n",
        "df_diagsankey18=df18type_fonction.loc[[\"Bureau\",\"Bâtiment technique\",'Espace aménagé']]"
      ],
      "execution_count": null,
      "outputs": []
    },
    {
      "cell_type": "code",
      "metadata": {
        "id": "TzDV2TK2ybfr",
        "cellView": "form"
      },
      "source": [
        "#@title\n",
        "sank=df_diagsankey18.reset_index()"
      ],
      "execution_count": null,
      "outputs": []
    },
    {
      "cell_type": "code",
      "metadata": {
        "id": "Rl2pgEoZQgn2",
        "cellView": "form",
        "outputId": "4872cf8f-a439-4880-cb94-bcf8ade5e21b",
        "colab": {
          "base_uri": "https://localhost:8080/",
          "height": 542
        }
      },
      "source": [
        "#@title\n",
        "all_nodes = sank.Type.values.tolist() + sank.Fonction.values.tolist()\n",
        "source_indices = [all_nodes.index(types) for types in sank.Type]\n",
        "target_indices = [all_nodes.index(fonction) for fonction in sank.Fonction]\n",
        "\n",
        "fig = go.Figure(data=[go.Sankey(\n",
        "    # Define nodes\n",
        "    node = dict(\n",
        "      pad = 5,\n",
        "      thickness = 60,\n",
        "      label =  all_nodes,\n",
        "      color =  \"red\"\n",
        "      \n",
        "    ),\n",
        "\n",
        "    # Add links\n",
        "    link = dict(\n",
        "      source =  source_indices,\n",
        "      target =  target_indices,\n",
        "      value =  sank['count'],\n",
        "))])\n",
        "\n",
        "fig.update_layout(title_text=\"visualisation de la repartiion des fonctions des differents de types de batiments \",\n",
        "                  font_size=9)\n",
        "fig.show()"
      ],
      "execution_count": null,
      "outputs": [
        {
          "output_type": "display_data",
          "data": {
            "text/html": [
              "<html>\n",
              "<head><meta charset=\"utf-8\" /></head>\n",
              "<body>\n",
              "    <div>\n",
              "            <script src=\"https://cdnjs.cloudflare.com/ajax/libs/mathjax/2.7.5/MathJax.js?config=TeX-AMS-MML_SVG\"></script><script type=\"text/javascript\">if (window.MathJax) {MathJax.Hub.Config({SVG: {font: \"STIX-Web\"}});}</script>\n",
              "                <script type=\"text/javascript\">window.PlotlyConfig = {MathJaxConfig: 'local'};</script>\n",
              "        <script src=\"https://cdn.plot.ly/plotly-latest.min.js\"></script>    \n",
              "            <div id=\"f3cbeb9e-d8a5-4447-b0ce-57929466a13d\" class=\"plotly-graph-div\" style=\"height:525px; width:100%;\"></div>\n",
              "            <script type=\"text/javascript\">\n",
              "                \n",
              "                    window.PLOTLYENV=window.PLOTLYENV || {};\n",
              "                    \n",
              "                if (document.getElementById(\"f3cbeb9e-d8a5-4447-b0ce-57929466a13d\")) {\n",
              "                    Plotly.newPlot(\n",
              "                        'f3cbeb9e-d8a5-4447-b0ce-57929466a13d',\n",
              "                        [{\"link\": {\"source\": [0, 0, 0, 0, 0, 0, 0, 0, 0, 9, 9, 9, 9, 9, 9, 9, 9, 9, 9, 9, 9, 9, 9, 23, 23, 23, 23, 23, 23, 23], \"target\": [30, 31, 32, 33, 34, 35, 36, 37, 38, 39, 40, 41, 42, 9, 44, 45, 46, 47, 48, 49, 50, 51, 52, 53, 54, 55, 56, 57, 58, 59], \"value\": [1, 607, 961, 1, 452, 89, 38, 3, 3, 809, 7, 849, 6, 1098, 2, 6, 23, 600, 20, 2, 6, 33, 64, 230, 1223, 14, 156, 4, 3, 1116]}, \"node\": {\"color\": \"red\", \"label\": [\"Bureau\", \"Bureau\", \"Bureau\", \"Bureau\", \"Bureau\", \"Bureau\", \"Bureau\", \"Bureau\", \"Bureau\", \"B\\u00e2timent technique\", \"B\\u00e2timent technique\", \"B\\u00e2timent technique\", \"B\\u00e2timent technique\", \"B\\u00e2timent technique\", \"B\\u00e2timent technique\", \"B\\u00e2timent technique\", \"B\\u00e2timent technique\", \"B\\u00e2timent technique\", \"B\\u00e2timent technique\", \"B\\u00e2timent technique\", \"B\\u00e2timent technique\", \"B\\u00e2timent technique\", \"B\\u00e2timent technique\", \"Espace am\\u00e9nag\\u00e9\", \"Espace am\\u00e9nag\\u00e9\", \"Espace am\\u00e9nag\\u00e9\", \"Espace am\\u00e9nag\\u00e9\", \"Espace am\\u00e9nag\\u00e9\", \"Espace am\\u00e9nag\\u00e9\", \"Espace am\\u00e9nag\\u00e9\", \"Ambassade\", \"Commissariat\", \"Gendarmerie\", \"H\\u00f4tel des finances\", \"Immeuble de bureaux\", \"Pr\\u00e9fecture\", \"Sous-pr\\u00e9fecture\", \"Tribunal\", \"Tr\\u00e9sorerie\", \"Atelier r\\u00e9paration, entretien\", \"Blockhaus\", \"B\\u00e2timent de stockage\", \"B\\u00e2timent scientifique\", \"B\\u00e2timent technique\", \"Centre Informatique\", \"Centre entretien, intervention\", \"D\\u00e9p\\u00f4t d'archives\", \"Garage\", \"Installation production indus.\", \"Laboratoire\", \"Observatoire\", \"Poste de commandement\", \"Stand de tir\", \"Aire de lavage\", \"Aire de stationnement\", \"Camp d'entra\\u00eenement\", \"Champ d'exercice\", \"Champ de tir\", \"D\\u00e9charge\", \"Terrain de jeux ou de loisirs\"], \"pad\": 5, \"thickness\": 60}, \"type\": \"sankey\"}],\n",
              "                        {\"font\": {\"size\": 9}, \"template\": {\"data\": {\"bar\": [{\"error_x\": {\"color\": \"#2a3f5f\"}, \"error_y\": {\"color\": \"#2a3f5f\"}, \"marker\": {\"line\": {\"color\": \"#E5ECF6\", \"width\": 0.5}}, \"type\": \"bar\"}], \"barpolar\": [{\"marker\": {\"line\": {\"color\": \"#E5ECF6\", \"width\": 0.5}}, \"type\": \"barpolar\"}], \"carpet\": [{\"aaxis\": {\"endlinecolor\": \"#2a3f5f\", \"gridcolor\": \"white\", \"linecolor\": \"white\", \"minorgridcolor\": \"white\", \"startlinecolor\": \"#2a3f5f\"}, \"baxis\": {\"endlinecolor\": \"#2a3f5f\", \"gridcolor\": \"white\", \"linecolor\": \"white\", \"minorgridcolor\": \"white\", \"startlinecolor\": \"#2a3f5f\"}, \"type\": \"carpet\"}], \"choropleth\": [{\"colorbar\": {\"outlinewidth\": 0, \"ticks\": \"\"}, \"type\": \"choropleth\"}], \"contour\": [{\"colorbar\": {\"outlinewidth\": 0, \"ticks\": \"\"}, \"colorscale\": [[0.0, \"#0d0887\"], [0.1111111111111111, \"#46039f\"], [0.2222222222222222, \"#7201a8\"], [0.3333333333333333, \"#9c179e\"], [0.4444444444444444, \"#bd3786\"], [0.5555555555555556, \"#d8576b\"], [0.6666666666666666, \"#ed7953\"], [0.7777777777777778, \"#fb9f3a\"], [0.8888888888888888, \"#fdca26\"], [1.0, \"#f0f921\"]], \"type\": \"contour\"}], \"contourcarpet\": [{\"colorbar\": {\"outlinewidth\": 0, \"ticks\": \"\"}, \"type\": \"contourcarpet\"}], \"heatmap\": [{\"colorbar\": {\"outlinewidth\": 0, \"ticks\": \"\"}, \"colorscale\": [[0.0, \"#0d0887\"], [0.1111111111111111, \"#46039f\"], [0.2222222222222222, \"#7201a8\"], [0.3333333333333333, \"#9c179e\"], [0.4444444444444444, \"#bd3786\"], [0.5555555555555556, \"#d8576b\"], [0.6666666666666666, \"#ed7953\"], [0.7777777777777778, \"#fb9f3a\"], [0.8888888888888888, \"#fdca26\"], [1.0, \"#f0f921\"]], \"type\": \"heatmap\"}], \"heatmapgl\": [{\"colorbar\": {\"outlinewidth\": 0, \"ticks\": \"\"}, \"colorscale\": [[0.0, \"#0d0887\"], [0.1111111111111111, \"#46039f\"], [0.2222222222222222, \"#7201a8\"], [0.3333333333333333, \"#9c179e\"], [0.4444444444444444, \"#bd3786\"], [0.5555555555555556, \"#d8576b\"], [0.6666666666666666, \"#ed7953\"], [0.7777777777777778, \"#fb9f3a\"], [0.8888888888888888, \"#fdca26\"], [1.0, \"#f0f921\"]], \"type\": \"heatmapgl\"}], \"histogram\": [{\"marker\": {\"colorbar\": {\"outlinewidth\": 0, \"ticks\": \"\"}}, \"type\": \"histogram\"}], \"histogram2d\": [{\"colorbar\": {\"outlinewidth\": 0, \"ticks\": \"\"}, \"colorscale\": [[0.0, \"#0d0887\"], [0.1111111111111111, \"#46039f\"], [0.2222222222222222, \"#7201a8\"], [0.3333333333333333, \"#9c179e\"], [0.4444444444444444, \"#bd3786\"], [0.5555555555555556, \"#d8576b\"], [0.6666666666666666, \"#ed7953\"], [0.7777777777777778, \"#fb9f3a\"], [0.8888888888888888, \"#fdca26\"], [1.0, \"#f0f921\"]], \"type\": \"histogram2d\"}], \"histogram2dcontour\": [{\"colorbar\": {\"outlinewidth\": 0, \"ticks\": \"\"}, \"colorscale\": [[0.0, \"#0d0887\"], [0.1111111111111111, \"#46039f\"], [0.2222222222222222, \"#7201a8\"], [0.3333333333333333, \"#9c179e\"], [0.4444444444444444, \"#bd3786\"], [0.5555555555555556, \"#d8576b\"], [0.6666666666666666, \"#ed7953\"], [0.7777777777777778, \"#fb9f3a\"], [0.8888888888888888, \"#fdca26\"], [1.0, \"#f0f921\"]], \"type\": \"histogram2dcontour\"}], \"mesh3d\": [{\"colorbar\": {\"outlinewidth\": 0, \"ticks\": \"\"}, \"type\": \"mesh3d\"}], \"parcoords\": [{\"line\": {\"colorbar\": {\"outlinewidth\": 0, \"ticks\": \"\"}}, \"type\": \"parcoords\"}], \"pie\": [{\"automargin\": true, \"type\": \"pie\"}], \"scatter\": [{\"marker\": {\"colorbar\": {\"outlinewidth\": 0, \"ticks\": \"\"}}, \"type\": \"scatter\"}], \"scatter3d\": [{\"line\": {\"colorbar\": {\"outlinewidth\": 0, \"ticks\": \"\"}}, \"marker\": {\"colorbar\": {\"outlinewidth\": 0, \"ticks\": \"\"}}, \"type\": \"scatter3d\"}], \"scattercarpet\": [{\"marker\": {\"colorbar\": {\"outlinewidth\": 0, \"ticks\": \"\"}}, \"type\": \"scattercarpet\"}], \"scattergeo\": [{\"marker\": {\"colorbar\": {\"outlinewidth\": 0, \"ticks\": \"\"}}, \"type\": \"scattergeo\"}], \"scattergl\": [{\"marker\": {\"colorbar\": {\"outlinewidth\": 0, \"ticks\": \"\"}}, \"type\": \"scattergl\"}], \"scattermapbox\": [{\"marker\": {\"colorbar\": {\"outlinewidth\": 0, \"ticks\": \"\"}}, \"type\": \"scattermapbox\"}], \"scatterpolar\": [{\"marker\": {\"colorbar\": {\"outlinewidth\": 0, \"ticks\": \"\"}}, \"type\": \"scatterpolar\"}], \"scatterpolargl\": [{\"marker\": {\"colorbar\": {\"outlinewidth\": 0, \"ticks\": \"\"}}, \"type\": \"scatterpolargl\"}], \"scatterternary\": [{\"marker\": {\"colorbar\": {\"outlinewidth\": 0, \"ticks\": \"\"}}, \"type\": \"scatterternary\"}], \"surface\": [{\"colorbar\": {\"outlinewidth\": 0, \"ticks\": \"\"}, \"colorscale\": [[0.0, \"#0d0887\"], [0.1111111111111111, \"#46039f\"], [0.2222222222222222, \"#7201a8\"], [0.3333333333333333, \"#9c179e\"], [0.4444444444444444, \"#bd3786\"], [0.5555555555555556, \"#d8576b\"], [0.6666666666666666, \"#ed7953\"], [0.7777777777777778, \"#fb9f3a\"], [0.8888888888888888, \"#fdca26\"], [1.0, \"#f0f921\"]], \"type\": \"surface\"}], \"table\": [{\"cells\": {\"fill\": {\"color\": \"#EBF0F8\"}, \"line\": {\"color\": \"white\"}}, \"header\": {\"fill\": {\"color\": \"#C8D4E3\"}, \"line\": {\"color\": \"white\"}}, \"type\": \"table\"}]}, \"layout\": {\"annotationdefaults\": {\"arrowcolor\": \"#2a3f5f\", \"arrowhead\": 0, \"arrowwidth\": 1}, \"coloraxis\": {\"colorbar\": {\"outlinewidth\": 0, \"ticks\": \"\"}}, \"colorscale\": {\"diverging\": [[0, \"#8e0152\"], [0.1, \"#c51b7d\"], [0.2, \"#de77ae\"], [0.3, \"#f1b6da\"], [0.4, \"#fde0ef\"], [0.5, \"#f7f7f7\"], [0.6, \"#e6f5d0\"], [0.7, \"#b8e186\"], [0.8, \"#7fbc41\"], [0.9, \"#4d9221\"], [1, \"#276419\"]], \"sequential\": [[0.0, \"#0d0887\"], [0.1111111111111111, \"#46039f\"], [0.2222222222222222, \"#7201a8\"], [0.3333333333333333, \"#9c179e\"], [0.4444444444444444, \"#bd3786\"], [0.5555555555555556, \"#d8576b\"], [0.6666666666666666, \"#ed7953\"], [0.7777777777777778, \"#fb9f3a\"], [0.8888888888888888, \"#fdca26\"], [1.0, \"#f0f921\"]], \"sequentialminus\": [[0.0, \"#0d0887\"], [0.1111111111111111, \"#46039f\"], [0.2222222222222222, \"#7201a8\"], [0.3333333333333333, \"#9c179e\"], [0.4444444444444444, \"#bd3786\"], [0.5555555555555556, \"#d8576b\"], [0.6666666666666666, \"#ed7953\"], [0.7777777777777778, \"#fb9f3a\"], [0.8888888888888888, \"#fdca26\"], [1.0, \"#f0f921\"]]}, \"colorway\": [\"#636efa\", \"#EF553B\", \"#00cc96\", \"#ab63fa\", \"#FFA15A\", \"#19d3f3\", \"#FF6692\", \"#B6E880\", \"#FF97FF\", \"#FECB52\"], \"font\": {\"color\": \"#2a3f5f\"}, \"geo\": {\"bgcolor\": \"white\", \"lakecolor\": \"white\", \"landcolor\": \"#E5ECF6\", \"showlakes\": true, \"showland\": true, \"subunitcolor\": \"white\"}, \"hoverlabel\": {\"align\": \"left\"}, \"hovermode\": \"closest\", \"mapbox\": {\"style\": \"light\"}, \"paper_bgcolor\": \"white\", \"plot_bgcolor\": \"#E5ECF6\", \"polar\": {\"angularaxis\": {\"gridcolor\": \"white\", \"linecolor\": \"white\", \"ticks\": \"\"}, \"bgcolor\": \"#E5ECF6\", \"radialaxis\": {\"gridcolor\": \"white\", \"linecolor\": \"white\", \"ticks\": \"\"}}, \"scene\": {\"xaxis\": {\"backgroundcolor\": \"#E5ECF6\", \"gridcolor\": \"white\", \"gridwidth\": 2, \"linecolor\": \"white\", \"showbackground\": true, \"ticks\": \"\", \"zerolinecolor\": \"white\"}, \"yaxis\": {\"backgroundcolor\": \"#E5ECF6\", \"gridcolor\": \"white\", \"gridwidth\": 2, \"linecolor\": \"white\", \"showbackground\": true, \"ticks\": \"\", \"zerolinecolor\": \"white\"}, \"zaxis\": {\"backgroundcolor\": \"#E5ECF6\", \"gridcolor\": \"white\", \"gridwidth\": 2, \"linecolor\": \"white\", \"showbackground\": true, \"ticks\": \"\", \"zerolinecolor\": \"white\"}}, \"shapedefaults\": {\"line\": {\"color\": \"#2a3f5f\"}}, \"ternary\": {\"aaxis\": {\"gridcolor\": \"white\", \"linecolor\": \"white\", \"ticks\": \"\"}, \"baxis\": {\"gridcolor\": \"white\", \"linecolor\": \"white\", \"ticks\": \"\"}, \"bgcolor\": \"#E5ECF6\", \"caxis\": {\"gridcolor\": \"white\", \"linecolor\": \"white\", \"ticks\": \"\"}}, \"title\": {\"x\": 0.05}, \"xaxis\": {\"automargin\": true, \"gridcolor\": \"white\", \"linecolor\": \"white\", \"ticks\": \"\", \"title\": {\"standoff\": 15}, \"zerolinecolor\": \"white\", \"zerolinewidth\": 2}, \"yaxis\": {\"automargin\": true, \"gridcolor\": \"white\", \"linecolor\": \"white\", \"ticks\": \"\", \"title\": {\"standoff\": 15}, \"zerolinecolor\": \"white\", \"zerolinewidth\": 2}}}, \"title\": {\"text\": \"visualisation de la repartiion des fonctions des differents de types de batiments \"}},\n",
              "                        {\"responsive\": true}\n",
              "                    ).then(function(){\n",
              "                            \n",
              "var gd = document.getElementById('f3cbeb9e-d8a5-4447-b0ce-57929466a13d');\n",
              "var x = new MutationObserver(function (mutations, observer) {{\n",
              "        var display = window.getComputedStyle(gd).display;\n",
              "        if (!display || display === 'none') {{\n",
              "            console.log([gd, 'removed!']);\n",
              "            Plotly.purge(gd);\n",
              "            observer.disconnect();\n",
              "        }}\n",
              "}});\n",
              "\n",
              "// Listen for the removal of the full notebook cells\n",
              "var notebookContainer = gd.closest('#notebook-container');\n",
              "if (notebookContainer) {{\n",
              "    x.observe(notebookContainer, {childList: true});\n",
              "}}\n",
              "\n",
              "// Listen for the clearing of the current output cell\n",
              "var outputEl = gd.closest('.output');\n",
              "if (outputEl) {{\n",
              "    x.observe(outputEl, {childList: true});\n",
              "}}\n",
              "\n",
              "                        })\n",
              "                };\n",
              "                \n",
              "            </script>\n",
              "        </div>\n",
              "</body>\n",
              "</html>"
            ]
          },
          "metadata": {
            "tags": []
          }
        }
      ]
    },
    {
      "cell_type": "markdown",
      "metadata": {
        "id": "RgWHXsdhe9ni"
      },
      "source": [
        "Les batiments de type bureau sont aux nombres de 2155 et sont composés de 9 sous-categories(Gendarmerie, Commissariat, Immeubles de bureaux,Ambassades, Prefectures,Sous Prefecture,Hotel de finances, tresorerie,Tribunal) .Les sous categories les plus importantes sont : la gendarmerie avec 961 bureaux, les commissariats qui occupent 601 bureaux , puis les immeubles de bureaux qui representent 452 bureaux.\n",
        "Les batiments de type Espace aménagé sont aux nombres de 2750 et sont composés de 7 sous-categories (Aire de stationnement, terrains de jeux ou de loisirs , aire de lavage, champs d'exercice , camp d'entrainement , champ de tir,decharge) Les proportions les plus importantes de ces batiments sont observées pour les Aires de stationnements(1222 batiments ) et les terrains de jeux ou de loisirs(1120 batiments)\n",
        "Les 3530 batiments techniques se distinguent en 14 sous-catégories (Atelier repartion entretien,batiment de stockage , garage, Blochaus,Batiment scientifique, Depot d'archive stand de tir,laboratoire, observatoire,centre informatique, poste de commandement , centre d'entretien et d'intervention). Les Batiments techniques , les ateliers réparations entretiens ainsi que les batiments de stockages et de gararges representent la majorité de ce type ."
      ]
    },
    {
      "cell_type": "code",
      "metadata": {
        "id": "MOIVjF965fiL",
        "cellView": "form",
        "outputId": "8878112f-46a5-482d-89cf-b4a180baf8ab",
        "colab": {
          "base_uri": "https://localhost:8080/",
          "height": 979
        }
      },
      "source": [
        "#@title\n",
        "sank"
      ],
      "execution_count": null,
      "outputs": [
        {
          "output_type": "execute_result",
          "data": {
            "text/html": [
              "<div>\n",
              "<style scoped>\n",
              "    .dataframe tbody tr th:only-of-type {\n",
              "        vertical-align: middle;\n",
              "    }\n",
              "\n",
              "    .dataframe tbody tr th {\n",
              "        vertical-align: top;\n",
              "    }\n",
              "\n",
              "    .dataframe thead th {\n",
              "        text-align: right;\n",
              "    }\n",
              "</style>\n",
              "<table border=\"1\" class=\"dataframe\">\n",
              "  <thead>\n",
              "    <tr style=\"text-align: right;\">\n",
              "      <th></th>\n",
              "      <th>Type</th>\n",
              "      <th>Fonction</th>\n",
              "      <th>count</th>\n",
              "    </tr>\n",
              "  </thead>\n",
              "  <tbody>\n",
              "    <tr>\n",
              "      <th>0</th>\n",
              "      <td>Bureau</td>\n",
              "      <td>Ambassade</td>\n",
              "      <td>1</td>\n",
              "    </tr>\n",
              "    <tr>\n",
              "      <th>1</th>\n",
              "      <td>Bureau</td>\n",
              "      <td>Commissariat</td>\n",
              "      <td>607</td>\n",
              "    </tr>\n",
              "    <tr>\n",
              "      <th>2</th>\n",
              "      <td>Bureau</td>\n",
              "      <td>Gendarmerie</td>\n",
              "      <td>961</td>\n",
              "    </tr>\n",
              "    <tr>\n",
              "      <th>3</th>\n",
              "      <td>Bureau</td>\n",
              "      <td>Hôtel des finances</td>\n",
              "      <td>1</td>\n",
              "    </tr>\n",
              "    <tr>\n",
              "      <th>4</th>\n",
              "      <td>Bureau</td>\n",
              "      <td>Immeuble de bureaux</td>\n",
              "      <td>452</td>\n",
              "    </tr>\n",
              "    <tr>\n",
              "      <th>5</th>\n",
              "      <td>Bureau</td>\n",
              "      <td>Préfecture</td>\n",
              "      <td>89</td>\n",
              "    </tr>\n",
              "    <tr>\n",
              "      <th>6</th>\n",
              "      <td>Bureau</td>\n",
              "      <td>Sous-préfecture</td>\n",
              "      <td>38</td>\n",
              "    </tr>\n",
              "    <tr>\n",
              "      <th>7</th>\n",
              "      <td>Bureau</td>\n",
              "      <td>Tribunal</td>\n",
              "      <td>3</td>\n",
              "    </tr>\n",
              "    <tr>\n",
              "      <th>8</th>\n",
              "      <td>Bureau</td>\n",
              "      <td>Trésorerie</td>\n",
              "      <td>3</td>\n",
              "    </tr>\n",
              "    <tr>\n",
              "      <th>9</th>\n",
              "      <td>Bâtiment technique</td>\n",
              "      <td>Atelier réparation, entretien</td>\n",
              "      <td>809</td>\n",
              "    </tr>\n",
              "    <tr>\n",
              "      <th>10</th>\n",
              "      <td>Bâtiment technique</td>\n",
              "      <td>Blockhaus</td>\n",
              "      <td>7</td>\n",
              "    </tr>\n",
              "    <tr>\n",
              "      <th>11</th>\n",
              "      <td>Bâtiment technique</td>\n",
              "      <td>Bâtiment de stockage</td>\n",
              "      <td>849</td>\n",
              "    </tr>\n",
              "    <tr>\n",
              "      <th>12</th>\n",
              "      <td>Bâtiment technique</td>\n",
              "      <td>Bâtiment scientifique</td>\n",
              "      <td>6</td>\n",
              "    </tr>\n",
              "    <tr>\n",
              "      <th>13</th>\n",
              "      <td>Bâtiment technique</td>\n",
              "      <td>Bâtiment technique</td>\n",
              "      <td>1098</td>\n",
              "    </tr>\n",
              "    <tr>\n",
              "      <th>14</th>\n",
              "      <td>Bâtiment technique</td>\n",
              "      <td>Centre Informatique</td>\n",
              "      <td>2</td>\n",
              "    </tr>\n",
              "    <tr>\n",
              "      <th>15</th>\n",
              "      <td>Bâtiment technique</td>\n",
              "      <td>Centre entretien, intervention</td>\n",
              "      <td>6</td>\n",
              "    </tr>\n",
              "    <tr>\n",
              "      <th>16</th>\n",
              "      <td>Bâtiment technique</td>\n",
              "      <td>Dépôt d'archives</td>\n",
              "      <td>23</td>\n",
              "    </tr>\n",
              "    <tr>\n",
              "      <th>17</th>\n",
              "      <td>Bâtiment technique</td>\n",
              "      <td>Garage</td>\n",
              "      <td>600</td>\n",
              "    </tr>\n",
              "    <tr>\n",
              "      <th>18</th>\n",
              "      <td>Bâtiment technique</td>\n",
              "      <td>Installation production indus.</td>\n",
              "      <td>20</td>\n",
              "    </tr>\n",
              "    <tr>\n",
              "      <th>19</th>\n",
              "      <td>Bâtiment technique</td>\n",
              "      <td>Laboratoire</td>\n",
              "      <td>2</td>\n",
              "    </tr>\n",
              "    <tr>\n",
              "      <th>20</th>\n",
              "      <td>Bâtiment technique</td>\n",
              "      <td>Observatoire</td>\n",
              "      <td>6</td>\n",
              "    </tr>\n",
              "    <tr>\n",
              "      <th>21</th>\n",
              "      <td>Bâtiment technique</td>\n",
              "      <td>Poste de commandement</td>\n",
              "      <td>33</td>\n",
              "    </tr>\n",
              "    <tr>\n",
              "      <th>22</th>\n",
              "      <td>Bâtiment technique</td>\n",
              "      <td>Stand de tir</td>\n",
              "      <td>64</td>\n",
              "    </tr>\n",
              "    <tr>\n",
              "      <th>23</th>\n",
              "      <td>Espace aménagé</td>\n",
              "      <td>Aire de lavage</td>\n",
              "      <td>230</td>\n",
              "    </tr>\n",
              "    <tr>\n",
              "      <th>24</th>\n",
              "      <td>Espace aménagé</td>\n",
              "      <td>Aire de stationnement</td>\n",
              "      <td>1223</td>\n",
              "    </tr>\n",
              "    <tr>\n",
              "      <th>25</th>\n",
              "      <td>Espace aménagé</td>\n",
              "      <td>Camp d'entraînement</td>\n",
              "      <td>14</td>\n",
              "    </tr>\n",
              "    <tr>\n",
              "      <th>26</th>\n",
              "      <td>Espace aménagé</td>\n",
              "      <td>Champ d'exercice</td>\n",
              "      <td>156</td>\n",
              "    </tr>\n",
              "    <tr>\n",
              "      <th>27</th>\n",
              "      <td>Espace aménagé</td>\n",
              "      <td>Champ de tir</td>\n",
              "      <td>4</td>\n",
              "    </tr>\n",
              "    <tr>\n",
              "      <th>28</th>\n",
              "      <td>Espace aménagé</td>\n",
              "      <td>Décharge</td>\n",
              "      <td>3</td>\n",
              "    </tr>\n",
              "    <tr>\n",
              "      <th>29</th>\n",
              "      <td>Espace aménagé</td>\n",
              "      <td>Terrain de jeux ou de loisirs</td>\n",
              "      <td>1116</td>\n",
              "    </tr>\n",
              "  </tbody>\n",
              "</table>\n",
              "</div>"
            ],
            "text/plain": [
              "                  Type                        Fonction  count\n",
              "0               Bureau                       Ambassade      1\n",
              "1               Bureau                    Commissariat    607\n",
              "2               Bureau                     Gendarmerie    961\n",
              "3               Bureau              Hôtel des finances      1\n",
              "4               Bureau             Immeuble de bureaux    452\n",
              "5               Bureau                      Préfecture     89\n",
              "6               Bureau                 Sous-préfecture     38\n",
              "7               Bureau                        Tribunal      3\n",
              "8               Bureau                      Trésorerie      3\n",
              "9   Bâtiment technique   Atelier réparation, entretien    809\n",
              "10  Bâtiment technique                       Blockhaus      7\n",
              "11  Bâtiment technique            Bâtiment de stockage    849\n",
              "12  Bâtiment technique           Bâtiment scientifique      6\n",
              "13  Bâtiment technique              Bâtiment technique   1098\n",
              "14  Bâtiment technique             Centre Informatique      2\n",
              "15  Bâtiment technique  Centre entretien, intervention      6\n",
              "16  Bâtiment technique                Dépôt d'archives     23\n",
              "17  Bâtiment technique                          Garage    600\n",
              "18  Bâtiment technique  Installation production indus.     20\n",
              "19  Bâtiment technique                     Laboratoire      2\n",
              "20  Bâtiment technique                    Observatoire      6\n",
              "21  Bâtiment technique           Poste de commandement     33\n",
              "22  Bâtiment technique                    Stand de tir     64\n",
              "23      Espace aménagé                  Aire de lavage    230\n",
              "24      Espace aménagé           Aire de stationnement   1223\n",
              "25      Espace aménagé             Camp d'entraînement     14\n",
              "26      Espace aménagé                Champ d'exercice    156\n",
              "27      Espace aménagé                    Champ de tir      4\n",
              "28      Espace aménagé                        Décharge      3\n",
              "29      Espace aménagé   Terrain de jeux ou de loisirs   1116"
            ]
          },
          "metadata": {
            "tags": []
          },
          "execution_count": 49
        }
      ]
    },
    {
      "cell_type": "markdown",
      "metadata": {
        "id": "xEKq9T75v15K"
      },
      "source": [
        "ici on remarque"
      ]
    },
    {
      "cell_type": "code",
      "metadata": {
        "id": "ZZO3ylZV6xjL",
        "cellView": "form"
      },
      "source": [
        "#@title\n",
        "import plotly.graph_objects as go"
      ],
      "execution_count": null,
      "outputs": []
    },
    {
      "cell_type": "code",
      "metadata": {
        "id": "0XECO-Y0ItOR",
        "cellView": "form"
      },
      "source": [
        "#@title\n",
        "df17type_fonction=df17.groupby(['Type','Fonction']).count()"
      ],
      "execution_count": null,
      "outputs": []
    },
    {
      "cell_type": "code",
      "metadata": {
        "id": "QnPOiMX9I1na",
        "cellView": "form"
      },
      "source": [
        "#@title\n",
        "df17type_fonction=df17type_fonction['count']"
      ],
      "execution_count": null,
      "outputs": []
    },
    {
      "cell_type": "code",
      "metadata": {
        "id": "QbxXOb1uEneo",
        "cellView": "form"
      },
      "source": [
        "#@title\n",
        "df17type_fonction=df17type_fonction.to_frame()"
      ],
      "execution_count": null,
      "outputs": []
    },
    {
      "cell_type": "code",
      "metadata": {
        "id": "msuOIv3oayaN",
        "cellView": "form",
        "outputId": "1e60d0c1-8829-4f3a-9476-e03cb11faee0",
        "colab": {
          "base_uri": "https://localhost:8080/",
          "height": 450
        }
      },
      "source": [
        "#@title\n",
        "df17type_fonction"
      ],
      "execution_count": null,
      "outputs": [
        {
          "output_type": "execute_result",
          "data": {
            "text/html": [
              "<div>\n",
              "<style scoped>\n",
              "    .dataframe tbody tr th:only-of-type {\n",
              "        vertical-align: middle;\n",
              "    }\n",
              "\n",
              "    .dataframe tbody tr th {\n",
              "        vertical-align: top;\n",
              "    }\n",
              "\n",
              "    .dataframe thead th {\n",
              "        text-align: right;\n",
              "    }\n",
              "</style>\n",
              "<table border=\"1\" class=\"dataframe\">\n",
              "  <thead>\n",
              "    <tr style=\"text-align: right;\">\n",
              "      <th></th>\n",
              "      <th></th>\n",
              "      <th>count</th>\n",
              "    </tr>\n",
              "    <tr>\n",
              "      <th>Type</th>\n",
              "      <th>Fonction</th>\n",
              "      <th></th>\n",
              "    </tr>\n",
              "  </thead>\n",
              "  <tbody>\n",
              "    <tr>\n",
              "      <th rowspan=\"5\" valign=\"top\">Bureau</th>\n",
              "      <th>Ambassade</th>\n",
              "      <td>2</td>\n",
              "    </tr>\n",
              "    <tr>\n",
              "      <th>Commissariat</th>\n",
              "      <td>616</td>\n",
              "    </tr>\n",
              "    <tr>\n",
              "      <th>Gendarmerie</th>\n",
              "      <td>1084</td>\n",
              "    </tr>\n",
              "    <tr>\n",
              "      <th>Immeuble de bureaux</th>\n",
              "      <td>421</td>\n",
              "    </tr>\n",
              "    <tr>\n",
              "      <th>Préfecture</th>\n",
              "      <td>99</td>\n",
              "    </tr>\n",
              "    <tr>\n",
              "      <th>...</th>\n",
              "      <th>...</th>\n",
              "      <td>...</td>\n",
              "    </tr>\n",
              "    <tr>\n",
              "      <th rowspan=\"3\" valign=\"top\">Réseaux et voirie</th>\n",
              "      <th>Réseau d'adduction d'eau</th>\n",
              "      <td>3</td>\n",
              "    </tr>\n",
              "    <tr>\n",
              "      <th>Réseau d'assainissement</th>\n",
              "      <td>2</td>\n",
              "    </tr>\n",
              "    <tr>\n",
              "      <th>Voie de circulation routière</th>\n",
              "      <td>34</td>\n",
              "    </tr>\n",
              "    <tr>\n",
              "      <th rowspan=\"2\" valign=\"top\">Édifice du culte</th>\n",
              "      <th>Chapelle</th>\n",
              "      <td>5</td>\n",
              "    </tr>\n",
              "    <tr>\n",
              "      <th>Édifice du culte</th>\n",
              "      <td>1</td>\n",
              "    </tr>\n",
              "  </tbody>\n",
              "</table>\n",
              "<p>85 rows × 1 columns</p>\n",
              "</div>"
            ],
            "text/plain": [
              "                                                count\n",
              "Type              Fonction                           \n",
              "Bureau            Ambassade                         2\n",
              "                  Commissariat                    616\n",
              "                  Gendarmerie                    1084\n",
              "                  Immeuble de bureaux             421\n",
              "                  Préfecture                       99\n",
              "...                                               ...\n",
              "Réseaux et voirie Réseau d'adduction d'eau          3\n",
              "                  Réseau d'assainissement           2\n",
              "                  Voie de circulation routière     34\n",
              "Édifice du culte  Chapelle                          5\n",
              "                  Édifice du culte                  1\n",
              "\n",
              "[85 rows x 1 columns]"
            ]
          },
          "metadata": {
            "tags": []
          },
          "execution_count": 105
        }
      ]
    },
    {
      "cell_type": "code",
      "metadata": {
        "id": "OAjoTorLKFJH",
        "cellView": "form"
      },
      "source": [
        "#@title\n",
        "df17type_fonction=df17type_fonction.reset_index()"
      ],
      "execution_count": null,
      "outputs": []
    },
    {
      "cell_type": "code",
      "metadata": {
        "id": "4NwEMvhIKFYM",
        "cellView": "form"
      },
      "source": [
        "#@title\n",
        "df17type_fonction=df17type_fonction.set_index('Type')"
      ],
      "execution_count": null,
      "outputs": []
    },
    {
      "cell_type": "code",
      "metadata": {
        "id": "-ciPJP-gKaOg",
        "cellView": "form"
      },
      "source": [
        "#@title\n",
        "df_diagsankey17=df17type_fonction.loc[[\"Bureau\",\"Bâtiment technique\",'Espace aménagé']]"
      ],
      "execution_count": null,
      "outputs": []
    },
    {
      "cell_type": "code",
      "metadata": {
        "id": "bRL25xkZKnVr",
        "cellView": "form"
      },
      "source": [
        "#@title\n",
        "sank17=df_diagsankey17.reset_index()"
      ],
      "execution_count": null,
      "outputs": []
    },
    {
      "cell_type": "code",
      "metadata": {
        "id": "IyMJjcozLYSb",
        "outputId": "9ee9a507-0bc4-47f9-cbe1-5c521e7ddfac",
        "colab": {
          "base_uri": "https://localhost:8080/",
          "height": 948
        }
      },
      "source": [
        "sank17"
      ],
      "execution_count": null,
      "outputs": [
        {
          "output_type": "execute_result",
          "data": {
            "text/html": [
              "<div>\n",
              "<style scoped>\n",
              "    .dataframe tbody tr th:only-of-type {\n",
              "        vertical-align: middle;\n",
              "    }\n",
              "\n",
              "    .dataframe tbody tr th {\n",
              "        vertical-align: top;\n",
              "    }\n",
              "\n",
              "    .dataframe thead th {\n",
              "        text-align: right;\n",
              "    }\n",
              "</style>\n",
              "<table border=\"1\" class=\"dataframe\">\n",
              "  <thead>\n",
              "    <tr style=\"text-align: right;\">\n",
              "      <th></th>\n",
              "      <th>Type</th>\n",
              "      <th>Fonction</th>\n",
              "      <th>count</th>\n",
              "    </tr>\n",
              "  </thead>\n",
              "  <tbody>\n",
              "    <tr>\n",
              "      <th>0</th>\n",
              "      <td>Bureau</td>\n",
              "      <td>Ambassade</td>\n",
              "      <td>2</td>\n",
              "    </tr>\n",
              "    <tr>\n",
              "      <th>1</th>\n",
              "      <td>Bureau</td>\n",
              "      <td>Commissariat</td>\n",
              "      <td>616</td>\n",
              "    </tr>\n",
              "    <tr>\n",
              "      <th>2</th>\n",
              "      <td>Bureau</td>\n",
              "      <td>Gendarmerie</td>\n",
              "      <td>1084</td>\n",
              "    </tr>\n",
              "    <tr>\n",
              "      <th>3</th>\n",
              "      <td>Bureau</td>\n",
              "      <td>Immeuble de bureaux</td>\n",
              "      <td>421</td>\n",
              "    </tr>\n",
              "    <tr>\n",
              "      <th>4</th>\n",
              "      <td>Bureau</td>\n",
              "      <td>Préfecture</td>\n",
              "      <td>99</td>\n",
              "    </tr>\n",
              "    <tr>\n",
              "      <th>5</th>\n",
              "      <td>Bureau</td>\n",
              "      <td>Sous-préfecture</td>\n",
              "      <td>39</td>\n",
              "    </tr>\n",
              "    <tr>\n",
              "      <th>6</th>\n",
              "      <td>Bureau</td>\n",
              "      <td>Tribunal</td>\n",
              "      <td>3</td>\n",
              "    </tr>\n",
              "    <tr>\n",
              "      <th>7</th>\n",
              "      <td>Bureau</td>\n",
              "      <td>Trésorerie</td>\n",
              "      <td>3</td>\n",
              "    </tr>\n",
              "    <tr>\n",
              "      <th>8</th>\n",
              "      <td>Bâtiment technique</td>\n",
              "      <td>Atelier réparation, entretien</td>\n",
              "      <td>848</td>\n",
              "    </tr>\n",
              "    <tr>\n",
              "      <th>9</th>\n",
              "      <td>Bâtiment technique</td>\n",
              "      <td>Blockhaus</td>\n",
              "      <td>5</td>\n",
              "    </tr>\n",
              "    <tr>\n",
              "      <th>10</th>\n",
              "      <td>Bâtiment technique</td>\n",
              "      <td>Bâtiment de stockage</td>\n",
              "      <td>877</td>\n",
              "    </tr>\n",
              "    <tr>\n",
              "      <th>11</th>\n",
              "      <td>Bâtiment technique</td>\n",
              "      <td>Bâtiment scientifique</td>\n",
              "      <td>6</td>\n",
              "    </tr>\n",
              "    <tr>\n",
              "      <th>12</th>\n",
              "      <td>Bâtiment technique</td>\n",
              "      <td>Bâtiment technique</td>\n",
              "      <td>1094</td>\n",
              "    </tr>\n",
              "    <tr>\n",
              "      <th>13</th>\n",
              "      <td>Bâtiment technique</td>\n",
              "      <td>Centre Informatique</td>\n",
              "      <td>2</td>\n",
              "    </tr>\n",
              "    <tr>\n",
              "      <th>14</th>\n",
              "      <td>Bâtiment technique</td>\n",
              "      <td>Centre entretien, intervention</td>\n",
              "      <td>5</td>\n",
              "    </tr>\n",
              "    <tr>\n",
              "      <th>15</th>\n",
              "      <td>Bâtiment technique</td>\n",
              "      <td>Dépôt d'archives</td>\n",
              "      <td>28</td>\n",
              "    </tr>\n",
              "    <tr>\n",
              "      <th>16</th>\n",
              "      <td>Bâtiment technique</td>\n",
              "      <td>Garage</td>\n",
              "      <td>569</td>\n",
              "    </tr>\n",
              "    <tr>\n",
              "      <th>17</th>\n",
              "      <td>Bâtiment technique</td>\n",
              "      <td>Installation production indus.</td>\n",
              "      <td>21</td>\n",
              "    </tr>\n",
              "    <tr>\n",
              "      <th>18</th>\n",
              "      <td>Bâtiment technique</td>\n",
              "      <td>Laboratoire</td>\n",
              "      <td>1</td>\n",
              "    </tr>\n",
              "    <tr>\n",
              "      <th>19</th>\n",
              "      <td>Bâtiment technique</td>\n",
              "      <td>Observatoire</td>\n",
              "      <td>6</td>\n",
              "    </tr>\n",
              "    <tr>\n",
              "      <th>20</th>\n",
              "      <td>Bâtiment technique</td>\n",
              "      <td>Poste de commandement</td>\n",
              "      <td>19</td>\n",
              "    </tr>\n",
              "    <tr>\n",
              "      <th>21</th>\n",
              "      <td>Bâtiment technique</td>\n",
              "      <td>Stand de tir</td>\n",
              "      <td>62</td>\n",
              "    </tr>\n",
              "    <tr>\n",
              "      <th>22</th>\n",
              "      <td>Espace aménagé</td>\n",
              "      <td>Aire de lavage</td>\n",
              "      <td>238</td>\n",
              "    </tr>\n",
              "    <tr>\n",
              "      <th>23</th>\n",
              "      <td>Espace aménagé</td>\n",
              "      <td>Aire de stationnement</td>\n",
              "      <td>1250</td>\n",
              "    </tr>\n",
              "    <tr>\n",
              "      <th>24</th>\n",
              "      <td>Espace aménagé</td>\n",
              "      <td>Camp d'entraînement</td>\n",
              "      <td>17</td>\n",
              "    </tr>\n",
              "    <tr>\n",
              "      <th>25</th>\n",
              "      <td>Espace aménagé</td>\n",
              "      <td>Champ d'exercice</td>\n",
              "      <td>158</td>\n",
              "    </tr>\n",
              "    <tr>\n",
              "      <th>26</th>\n",
              "      <td>Espace aménagé</td>\n",
              "      <td>Champ de tir</td>\n",
              "      <td>4</td>\n",
              "    </tr>\n",
              "    <tr>\n",
              "      <th>27</th>\n",
              "      <td>Espace aménagé</td>\n",
              "      <td>Décharge</td>\n",
              "      <td>3</td>\n",
              "    </tr>\n",
              "    <tr>\n",
              "      <th>28</th>\n",
              "      <td>Espace aménagé</td>\n",
              "      <td>Terrain de jeux ou de loisirs</td>\n",
              "      <td>1142</td>\n",
              "    </tr>\n",
              "  </tbody>\n",
              "</table>\n",
              "</div>"
            ],
            "text/plain": [
              "                  Type                        Fonction  count\n",
              "0               Bureau                       Ambassade      2\n",
              "1               Bureau                    Commissariat    616\n",
              "2               Bureau                     Gendarmerie   1084\n",
              "3               Bureau             Immeuble de bureaux    421\n",
              "4               Bureau                      Préfecture     99\n",
              "5               Bureau                 Sous-préfecture     39\n",
              "6               Bureau                        Tribunal      3\n",
              "7               Bureau                      Trésorerie      3\n",
              "8   Bâtiment technique   Atelier réparation, entretien    848\n",
              "9   Bâtiment technique                       Blockhaus      5\n",
              "10  Bâtiment technique            Bâtiment de stockage    877\n",
              "11  Bâtiment technique           Bâtiment scientifique      6\n",
              "12  Bâtiment technique              Bâtiment technique   1094\n",
              "13  Bâtiment technique             Centre Informatique      2\n",
              "14  Bâtiment technique  Centre entretien, intervention      5\n",
              "15  Bâtiment technique                Dépôt d'archives     28\n",
              "16  Bâtiment technique                          Garage    569\n",
              "17  Bâtiment technique  Installation production indus.     21\n",
              "18  Bâtiment technique                     Laboratoire      1\n",
              "19  Bâtiment technique                    Observatoire      6\n",
              "20  Bâtiment technique           Poste de commandement     19\n",
              "21  Bâtiment technique                    Stand de tir     62\n",
              "22      Espace aménagé                  Aire de lavage    238\n",
              "23      Espace aménagé           Aire de stationnement   1250\n",
              "24      Espace aménagé             Camp d'entraînement     17\n",
              "25      Espace aménagé                Champ d'exercice    158\n",
              "26      Espace aménagé                    Champ de tir      4\n",
              "27      Espace aménagé                        Décharge      3\n",
              "28      Espace aménagé   Terrain de jeux ou de loisirs   1142"
            ]
          },
          "metadata": {
            "tags": []
          },
          "execution_count": 114
        }
      ]
    },
    {
      "cell_type": "code",
      "metadata": {
        "id": "mY0Q557SLbc6",
        "cellView": "form",
        "outputId": "590c5c46-d49b-4cbf-aadd-88198239d255",
        "colab": {
          "base_uri": "https://localhost:8080/",
          "height": 542
        }
      },
      "source": [
        "#@title\n",
        "all_nodes = sank17.Type.values.tolist() + sank17.Fonction.values.tolist()\n",
        "source_indices = [all_nodes.index(types) for types in sank17.Type]\n",
        "target_indices = [all_nodes.index(fonction) for fonction in sank17.Fonction]\n",
        "\n",
        "fig = go.Figure(data=[go.Sankey(\n",
        "    # Define nodes\n",
        "    node = dict(\n",
        "      pad = 5,\n",
        "      thickness = 60,\n",
        "      label =  all_nodes,\n",
        "      color =  \"blue\"\n",
        "      \n",
        "    ),\n",
        "\n",
        "    # Add links\n",
        "    link = dict(\n",
        "      source =  source_indices,\n",
        "      target =  target_indices,\n",
        "      value =  sank17['count'],\n",
        "))])\n",
        "\n",
        "fig.update_layout(title_text=\"visualisation de la repartiion des fonctions des differents de types de batiments pour 2017 \",\n",
        "                  font_size=9)\n",
        "fig.show()"
      ],
      "execution_count": null,
      "outputs": [
        {
          "output_type": "display_data",
          "data": {
            "text/html": [
              "<html>\n",
              "<head><meta charset=\"utf-8\" /></head>\n",
              "<body>\n",
              "    <div>\n",
              "            <script src=\"https://cdnjs.cloudflare.com/ajax/libs/mathjax/2.7.5/MathJax.js?config=TeX-AMS-MML_SVG\"></script><script type=\"text/javascript\">if (window.MathJax) {MathJax.Hub.Config({SVG: {font: \"STIX-Web\"}});}</script>\n",
              "                <script type=\"text/javascript\">window.PlotlyConfig = {MathJaxConfig: 'local'};</script>\n",
              "        <script src=\"https://cdn.plot.ly/plotly-latest.min.js\"></script>    \n",
              "            <div id=\"53be1127-3c1d-4e4f-ac75-1e51a89b4517\" class=\"plotly-graph-div\" style=\"height:525px; width:100%;\"></div>\n",
              "            <script type=\"text/javascript\">\n",
              "                \n",
              "                    window.PLOTLYENV=window.PLOTLYENV || {};\n",
              "                    \n",
              "                if (document.getElementById(\"53be1127-3c1d-4e4f-ac75-1e51a89b4517\")) {\n",
              "                    Plotly.newPlot(\n",
              "                        '53be1127-3c1d-4e4f-ac75-1e51a89b4517',\n",
              "                        [{\"link\": {\"source\": [0, 0, 0, 0, 0, 0, 0, 0, 8, 8, 8, 8, 8, 8, 8, 8, 8, 8, 8, 8, 8, 8, 22, 22, 22, 22, 22, 22, 22], \"target\": [29, 30, 31, 32, 33, 34, 35, 36, 37, 38, 39, 40, 8, 42, 43, 44, 45, 46, 47, 48, 49, 50, 51, 52, 53, 54, 55, 56, 57], \"value\": [2, 616, 1084, 421, 99, 39, 3, 3, 848, 5, 877, 6, 1094, 2, 5, 28, 569, 21, 1, 6, 19, 62, 238, 1250, 17, 158, 4, 3, 1142]}, \"node\": {\"color\": \"blue\", \"label\": [\"Bureau\", \"Bureau\", \"Bureau\", \"Bureau\", \"Bureau\", \"Bureau\", \"Bureau\", \"Bureau\", \"B\\u00e2timent technique\", \"B\\u00e2timent technique\", \"B\\u00e2timent technique\", \"B\\u00e2timent technique\", \"B\\u00e2timent technique\", \"B\\u00e2timent technique\", \"B\\u00e2timent technique\", \"B\\u00e2timent technique\", \"B\\u00e2timent technique\", \"B\\u00e2timent technique\", \"B\\u00e2timent technique\", \"B\\u00e2timent technique\", \"B\\u00e2timent technique\", \"B\\u00e2timent technique\", \"Espace am\\u00e9nag\\u00e9\", \"Espace am\\u00e9nag\\u00e9\", \"Espace am\\u00e9nag\\u00e9\", \"Espace am\\u00e9nag\\u00e9\", \"Espace am\\u00e9nag\\u00e9\", \"Espace am\\u00e9nag\\u00e9\", \"Espace am\\u00e9nag\\u00e9\", \"Ambassade\", \"Commissariat\", \"Gendarmerie\", \"Immeuble de bureaux\", \"Pr\\u00e9fecture\", \"Sous-pr\\u00e9fecture\", \"Tribunal\", \"Tr\\u00e9sorerie\", \"Atelier r\\u00e9paration, entretien\", \"Blockhaus\", \"B\\u00e2timent de stockage\", \"B\\u00e2timent scientifique\", \"B\\u00e2timent technique\", \"Centre Informatique\", \"Centre entretien, intervention\", \"D\\u00e9p\\u00f4t d'archives\", \"Garage\", \"Installation production indus.\", \"Laboratoire\", \"Observatoire\", \"Poste de commandement\", \"Stand de tir\", \"Aire de lavage\", \"Aire de stationnement\", \"Camp d'entra\\u00eenement\", \"Champ d'exercice\", \"Champ de tir\", \"D\\u00e9charge\", \"Terrain de jeux ou de loisirs\"], \"pad\": 5, \"thickness\": 60}, \"type\": \"sankey\"}],\n",
              "                        {\"font\": {\"size\": 9}, \"template\": {\"data\": {\"bar\": [{\"error_x\": {\"color\": \"#2a3f5f\"}, \"error_y\": {\"color\": \"#2a3f5f\"}, \"marker\": {\"line\": {\"color\": \"#E5ECF6\", \"width\": 0.5}}, \"type\": \"bar\"}], \"barpolar\": [{\"marker\": {\"line\": {\"color\": \"#E5ECF6\", \"width\": 0.5}}, \"type\": \"barpolar\"}], \"carpet\": [{\"aaxis\": {\"endlinecolor\": \"#2a3f5f\", \"gridcolor\": \"white\", \"linecolor\": \"white\", \"minorgridcolor\": \"white\", \"startlinecolor\": \"#2a3f5f\"}, \"baxis\": {\"endlinecolor\": \"#2a3f5f\", \"gridcolor\": \"white\", \"linecolor\": \"white\", \"minorgridcolor\": \"white\", \"startlinecolor\": \"#2a3f5f\"}, \"type\": \"carpet\"}], \"choropleth\": [{\"colorbar\": {\"outlinewidth\": 0, \"ticks\": \"\"}, \"type\": \"choropleth\"}], \"contour\": [{\"colorbar\": {\"outlinewidth\": 0, \"ticks\": \"\"}, \"colorscale\": [[0.0, \"#0d0887\"], [0.1111111111111111, \"#46039f\"], [0.2222222222222222, \"#7201a8\"], [0.3333333333333333, \"#9c179e\"], [0.4444444444444444, \"#bd3786\"], [0.5555555555555556, \"#d8576b\"], [0.6666666666666666, \"#ed7953\"], [0.7777777777777778, \"#fb9f3a\"], [0.8888888888888888, \"#fdca26\"], [1.0, \"#f0f921\"]], \"type\": \"contour\"}], \"contourcarpet\": [{\"colorbar\": {\"outlinewidth\": 0, \"ticks\": \"\"}, \"type\": \"contourcarpet\"}], \"heatmap\": [{\"colorbar\": {\"outlinewidth\": 0, \"ticks\": \"\"}, \"colorscale\": [[0.0, \"#0d0887\"], [0.1111111111111111, \"#46039f\"], [0.2222222222222222, \"#7201a8\"], [0.3333333333333333, \"#9c179e\"], [0.4444444444444444, \"#bd3786\"], [0.5555555555555556, \"#d8576b\"], [0.6666666666666666, \"#ed7953\"], [0.7777777777777778, \"#fb9f3a\"], [0.8888888888888888, \"#fdca26\"], [1.0, \"#f0f921\"]], \"type\": \"heatmap\"}], \"heatmapgl\": [{\"colorbar\": {\"outlinewidth\": 0, \"ticks\": \"\"}, \"colorscale\": [[0.0, \"#0d0887\"], [0.1111111111111111, \"#46039f\"], [0.2222222222222222, \"#7201a8\"], [0.3333333333333333, \"#9c179e\"], [0.4444444444444444, \"#bd3786\"], [0.5555555555555556, \"#d8576b\"], [0.6666666666666666, \"#ed7953\"], [0.7777777777777778, \"#fb9f3a\"], [0.8888888888888888, \"#fdca26\"], [1.0, \"#f0f921\"]], \"type\": \"heatmapgl\"}], \"histogram\": [{\"marker\": {\"colorbar\": {\"outlinewidth\": 0, \"ticks\": \"\"}}, \"type\": \"histogram\"}], \"histogram2d\": [{\"colorbar\": {\"outlinewidth\": 0, \"ticks\": \"\"}, \"colorscale\": [[0.0, \"#0d0887\"], [0.1111111111111111, \"#46039f\"], [0.2222222222222222, \"#7201a8\"], [0.3333333333333333, \"#9c179e\"], [0.4444444444444444, \"#bd3786\"], [0.5555555555555556, \"#d8576b\"], [0.6666666666666666, \"#ed7953\"], [0.7777777777777778, \"#fb9f3a\"], [0.8888888888888888, \"#fdca26\"], [1.0, \"#f0f921\"]], \"type\": \"histogram2d\"}], \"histogram2dcontour\": [{\"colorbar\": {\"outlinewidth\": 0, \"ticks\": \"\"}, \"colorscale\": [[0.0, \"#0d0887\"], [0.1111111111111111, \"#46039f\"], [0.2222222222222222, \"#7201a8\"], [0.3333333333333333, \"#9c179e\"], [0.4444444444444444, \"#bd3786\"], [0.5555555555555556, \"#d8576b\"], [0.6666666666666666, \"#ed7953\"], [0.7777777777777778, \"#fb9f3a\"], [0.8888888888888888, \"#fdca26\"], [1.0, \"#f0f921\"]], \"type\": \"histogram2dcontour\"}], \"mesh3d\": [{\"colorbar\": {\"outlinewidth\": 0, \"ticks\": \"\"}, \"type\": \"mesh3d\"}], \"parcoords\": [{\"line\": {\"colorbar\": {\"outlinewidth\": 0, \"ticks\": \"\"}}, \"type\": \"parcoords\"}], \"pie\": [{\"automargin\": true, \"type\": \"pie\"}], \"scatter\": [{\"marker\": {\"colorbar\": {\"outlinewidth\": 0, \"ticks\": \"\"}}, \"type\": \"scatter\"}], \"scatter3d\": [{\"line\": {\"colorbar\": {\"outlinewidth\": 0, \"ticks\": \"\"}}, \"marker\": {\"colorbar\": {\"outlinewidth\": 0, \"ticks\": \"\"}}, \"type\": \"scatter3d\"}], \"scattercarpet\": [{\"marker\": {\"colorbar\": {\"outlinewidth\": 0, \"ticks\": \"\"}}, \"type\": \"scattercarpet\"}], \"scattergeo\": [{\"marker\": {\"colorbar\": {\"outlinewidth\": 0, \"ticks\": \"\"}}, \"type\": \"scattergeo\"}], \"scattergl\": [{\"marker\": {\"colorbar\": {\"outlinewidth\": 0, \"ticks\": \"\"}}, \"type\": \"scattergl\"}], \"scattermapbox\": [{\"marker\": {\"colorbar\": {\"outlinewidth\": 0, \"ticks\": \"\"}}, \"type\": \"scattermapbox\"}], \"scatterpolar\": [{\"marker\": {\"colorbar\": {\"outlinewidth\": 0, \"ticks\": \"\"}}, \"type\": \"scatterpolar\"}], \"scatterpolargl\": [{\"marker\": {\"colorbar\": {\"outlinewidth\": 0, \"ticks\": \"\"}}, \"type\": \"scatterpolargl\"}], \"scatterternary\": [{\"marker\": {\"colorbar\": {\"outlinewidth\": 0, \"ticks\": \"\"}}, \"type\": \"scatterternary\"}], \"surface\": [{\"colorbar\": {\"outlinewidth\": 0, \"ticks\": \"\"}, \"colorscale\": [[0.0, \"#0d0887\"], [0.1111111111111111, \"#46039f\"], [0.2222222222222222, \"#7201a8\"], [0.3333333333333333, \"#9c179e\"], [0.4444444444444444, \"#bd3786\"], [0.5555555555555556, \"#d8576b\"], [0.6666666666666666, \"#ed7953\"], [0.7777777777777778, \"#fb9f3a\"], [0.8888888888888888, \"#fdca26\"], [1.0, \"#f0f921\"]], \"type\": \"surface\"}], \"table\": [{\"cells\": {\"fill\": {\"color\": \"#EBF0F8\"}, \"line\": {\"color\": \"white\"}}, \"header\": {\"fill\": {\"color\": \"#C8D4E3\"}, \"line\": {\"color\": \"white\"}}, \"type\": \"table\"}]}, \"layout\": {\"annotationdefaults\": {\"arrowcolor\": \"#2a3f5f\", \"arrowhead\": 0, \"arrowwidth\": 1}, \"coloraxis\": {\"colorbar\": {\"outlinewidth\": 0, \"ticks\": \"\"}}, \"colorscale\": {\"diverging\": [[0, \"#8e0152\"], [0.1, \"#c51b7d\"], [0.2, \"#de77ae\"], [0.3, \"#f1b6da\"], [0.4, \"#fde0ef\"], [0.5, \"#f7f7f7\"], [0.6, \"#e6f5d0\"], [0.7, \"#b8e186\"], [0.8, \"#7fbc41\"], [0.9, \"#4d9221\"], [1, \"#276419\"]], \"sequential\": [[0.0, \"#0d0887\"], [0.1111111111111111, \"#46039f\"], [0.2222222222222222, \"#7201a8\"], [0.3333333333333333, \"#9c179e\"], [0.4444444444444444, \"#bd3786\"], [0.5555555555555556, \"#d8576b\"], [0.6666666666666666, \"#ed7953\"], [0.7777777777777778, \"#fb9f3a\"], [0.8888888888888888, \"#fdca26\"], [1.0, \"#f0f921\"]], \"sequentialminus\": [[0.0, \"#0d0887\"], [0.1111111111111111, \"#46039f\"], [0.2222222222222222, \"#7201a8\"], [0.3333333333333333, \"#9c179e\"], [0.4444444444444444, \"#bd3786\"], [0.5555555555555556, \"#d8576b\"], [0.6666666666666666, \"#ed7953\"], [0.7777777777777778, \"#fb9f3a\"], [0.8888888888888888, \"#fdca26\"], [1.0, \"#f0f921\"]]}, \"colorway\": [\"#636efa\", \"#EF553B\", \"#00cc96\", \"#ab63fa\", \"#FFA15A\", \"#19d3f3\", \"#FF6692\", \"#B6E880\", \"#FF97FF\", \"#FECB52\"], \"font\": {\"color\": \"#2a3f5f\"}, \"geo\": {\"bgcolor\": \"white\", \"lakecolor\": \"white\", \"landcolor\": \"#E5ECF6\", \"showlakes\": true, \"showland\": true, \"subunitcolor\": \"white\"}, \"hoverlabel\": {\"align\": \"left\"}, \"hovermode\": \"closest\", \"mapbox\": {\"style\": \"light\"}, \"paper_bgcolor\": \"white\", \"plot_bgcolor\": \"#E5ECF6\", \"polar\": {\"angularaxis\": {\"gridcolor\": \"white\", \"linecolor\": \"white\", \"ticks\": \"\"}, \"bgcolor\": \"#E5ECF6\", \"radialaxis\": {\"gridcolor\": \"white\", \"linecolor\": \"white\", \"ticks\": \"\"}}, \"scene\": {\"xaxis\": {\"backgroundcolor\": \"#E5ECF6\", \"gridcolor\": \"white\", \"gridwidth\": 2, \"linecolor\": \"white\", \"showbackground\": true, \"ticks\": \"\", \"zerolinecolor\": \"white\"}, \"yaxis\": {\"backgroundcolor\": \"#E5ECF6\", \"gridcolor\": \"white\", \"gridwidth\": 2, \"linecolor\": \"white\", \"showbackground\": true, \"ticks\": \"\", \"zerolinecolor\": \"white\"}, \"zaxis\": {\"backgroundcolor\": \"#E5ECF6\", \"gridcolor\": \"white\", \"gridwidth\": 2, \"linecolor\": \"white\", \"showbackground\": true, \"ticks\": \"\", \"zerolinecolor\": \"white\"}}, \"shapedefaults\": {\"line\": {\"color\": \"#2a3f5f\"}}, \"ternary\": {\"aaxis\": {\"gridcolor\": \"white\", \"linecolor\": \"white\", \"ticks\": \"\"}, \"baxis\": {\"gridcolor\": \"white\", \"linecolor\": \"white\", \"ticks\": \"\"}, \"bgcolor\": \"#E5ECF6\", \"caxis\": {\"gridcolor\": \"white\", \"linecolor\": \"white\", \"ticks\": \"\"}}, \"title\": {\"x\": 0.05}, \"xaxis\": {\"automargin\": true, \"gridcolor\": \"white\", \"linecolor\": \"white\", \"ticks\": \"\", \"title\": {\"standoff\": 15}, \"zerolinecolor\": \"white\", \"zerolinewidth\": 2}, \"yaxis\": {\"automargin\": true, \"gridcolor\": \"white\", \"linecolor\": \"white\", \"ticks\": \"\", \"title\": {\"standoff\": 15}, \"zerolinecolor\": \"white\", \"zerolinewidth\": 2}}}, \"title\": {\"text\": \"visualisation de la repartiion des fonctions des differents de types de batiments pour 2017 \"}},\n",
              "                        {\"responsive\": true}\n",
              "                    ).then(function(){\n",
              "                            \n",
              "var gd = document.getElementById('53be1127-3c1d-4e4f-ac75-1e51a89b4517');\n",
              "var x = new MutationObserver(function (mutations, observer) {{\n",
              "        var display = window.getComputedStyle(gd).display;\n",
              "        if (!display || display === 'none') {{\n",
              "            console.log([gd, 'removed!']);\n",
              "            Plotly.purge(gd);\n",
              "            observer.disconnect();\n",
              "        }}\n",
              "}});\n",
              "\n",
              "// Listen for the removal of the full notebook cells\n",
              "var notebookContainer = gd.closest('#notebook-container');\n",
              "if (notebookContainer) {{\n",
              "    x.observe(notebookContainer, {childList: true});\n",
              "}}\n",
              "\n",
              "// Listen for the clearing of the current output cell\n",
              "var outputEl = gd.closest('.output');\n",
              "if (outputEl) {{\n",
              "    x.observe(outputEl, {childList: true});\n",
              "}}\n",
              "\n",
              "                        })\n",
              "                };\n",
              "                \n",
              "            </script>\n",
              "        </div>\n",
              "</body>\n",
              "</html>"
            ]
          },
          "metadata": {
            "tags": []
          }
        }
      ]
    },
    {
      "cell_type": "markdown",
      "metadata": {
        "id": "G5sijepghOnS"
      },
      "source": [
        "Le diagramme pour l'année de 2017 represente les différentes sous categories des types Bureau, Espace amenagé, et Batiment technique sous forme de flux.La gendarmerie, les commissariats et les immeubles de bureaux representent la majeure partie des  batiments de  bureaux.\n",
        "Les espaces amenagés sont composés en grande partie d'aires de stationnements et de terrains de jeux ou de loisirs.\n",
        "La plupart des batiments techniques sont des  batiments techniques (d'ou la boucle (1090)), des  ateliers réparations, des batiments de stockages ainsi que des garages.\n"
      ]
    },
    {
      "cell_type": "code",
      "metadata": {
        "id": "lbkSYXqUxLKr",
        "cellView": "form"
      },
      "source": [
        "#@title\n",
        "df15type_fonction=df15.groupby(['Type','Fonction']).count()\n",
        "df15type_fonction=df15type_fonction['count']\n",
        "df15type_fonction=df15type_fonction.to_frame()\n",
        "df15type_fonction=df15type_fonction.reset_index()\n",
        "df15type_fonction=df15type_fonction.set_index('Type')\n",
        "df_diagsankey15=df15type_fonction.loc[[\"Bureau\",\"Bâtiment technique\",'Espace aménagé']]\n",
        "sank15=df_diagsankey15.reset_index()"
      ],
      "execution_count": null,
      "outputs": []
    },
    {
      "cell_type": "code",
      "metadata": {
        "id": "CF79p_P5xLQG",
        "outputId": "b40047ba-3ff0-42f9-fa50-697f53fa91e2",
        "colab": {
          "base_uri": "https://localhost:8080/",
          "height": 1000
        }
      },
      "source": [
        "sank15"
      ],
      "execution_count": null,
      "outputs": [
        {
          "output_type": "execute_result",
          "data": {
            "text/html": [
              "<div>\n",
              "<style scoped>\n",
              "    .dataframe tbody tr th:only-of-type {\n",
              "        vertical-align: middle;\n",
              "    }\n",
              "\n",
              "    .dataframe tbody tr th {\n",
              "        vertical-align: top;\n",
              "    }\n",
              "\n",
              "    .dataframe thead th {\n",
              "        text-align: right;\n",
              "    }\n",
              "</style>\n",
              "<table border=\"1\" class=\"dataframe\">\n",
              "  <thead>\n",
              "    <tr style=\"text-align: right;\">\n",
              "      <th></th>\n",
              "      <th>Type</th>\n",
              "      <th>Fonction</th>\n",
              "      <th>count</th>\n",
              "    </tr>\n",
              "  </thead>\n",
              "  <tbody>\n",
              "    <tr>\n",
              "      <th>0</th>\n",
              "      <td>Bureau</td>\n",
              "      <td>Ambassade</td>\n",
              "      <td>2</td>\n",
              "    </tr>\n",
              "    <tr>\n",
              "      <th>1</th>\n",
              "      <td>Bureau</td>\n",
              "      <td>Atelier réparation, entretien</td>\n",
              "      <td>1</td>\n",
              "    </tr>\n",
              "    <tr>\n",
              "      <th>2</th>\n",
              "      <td>Bureau</td>\n",
              "      <td>Bâtiment technique</td>\n",
              "      <td>2</td>\n",
              "    </tr>\n",
              "    <tr>\n",
              "      <th>3</th>\n",
              "      <td>Bureau</td>\n",
              "      <td>Commissariat</td>\n",
              "      <td>609</td>\n",
              "    </tr>\n",
              "    <tr>\n",
              "      <th>4</th>\n",
              "      <td>Bureau</td>\n",
              "      <td>Gendarmerie</td>\n",
              "      <td>1159</td>\n",
              "    </tr>\n",
              "    <tr>\n",
              "      <th>5</th>\n",
              "      <td>Bureau</td>\n",
              "      <td>Immeuble de bureaux</td>\n",
              "      <td>430</td>\n",
              "    </tr>\n",
              "    <tr>\n",
              "      <th>6</th>\n",
              "      <td>Bureau</td>\n",
              "      <td>Poste de commandement</td>\n",
              "      <td>1</td>\n",
              "    </tr>\n",
              "    <tr>\n",
              "      <th>7</th>\n",
              "      <td>Bureau</td>\n",
              "      <td>Préfecture</td>\n",
              "      <td>101</td>\n",
              "    </tr>\n",
              "    <tr>\n",
              "      <th>8</th>\n",
              "      <td>Bureau</td>\n",
              "      <td>Sous-préfecture</td>\n",
              "      <td>41</td>\n",
              "    </tr>\n",
              "    <tr>\n",
              "      <th>9</th>\n",
              "      <td>Bureau</td>\n",
              "      <td>Tribunal</td>\n",
              "      <td>3</td>\n",
              "    </tr>\n",
              "    <tr>\n",
              "      <th>10</th>\n",
              "      <td>Bureau</td>\n",
              "      <td>Trésorerie</td>\n",
              "      <td>1</td>\n",
              "    </tr>\n",
              "    <tr>\n",
              "      <th>11</th>\n",
              "      <td>Bâtiment technique</td>\n",
              "      <td>Aire de stationnement</td>\n",
              "      <td>2</td>\n",
              "    </tr>\n",
              "    <tr>\n",
              "      <th>12</th>\n",
              "      <td>Bâtiment technique</td>\n",
              "      <td>Atelier réparation, entretien</td>\n",
              "      <td>859</td>\n",
              "    </tr>\n",
              "    <tr>\n",
              "      <th>13</th>\n",
              "      <td>Bâtiment technique</td>\n",
              "      <td>Blockhaus</td>\n",
              "      <td>6</td>\n",
              "    </tr>\n",
              "    <tr>\n",
              "      <th>14</th>\n",
              "      <td>Bâtiment technique</td>\n",
              "      <td>Bâtiment de stockage</td>\n",
              "      <td>866</td>\n",
              "    </tr>\n",
              "    <tr>\n",
              "      <th>15</th>\n",
              "      <td>Bâtiment technique</td>\n",
              "      <td>Bâtiment scientifique</td>\n",
              "      <td>7</td>\n",
              "    </tr>\n",
              "    <tr>\n",
              "      <th>16</th>\n",
              "      <td>Bâtiment technique</td>\n",
              "      <td>Bâtiment technique</td>\n",
              "      <td>1062</td>\n",
              "    </tr>\n",
              "    <tr>\n",
              "      <th>17</th>\n",
              "      <td>Bâtiment technique</td>\n",
              "      <td>Centre Informatique</td>\n",
              "      <td>2</td>\n",
              "    </tr>\n",
              "    <tr>\n",
              "      <th>18</th>\n",
              "      <td>Bâtiment technique</td>\n",
              "      <td>Centre entretien, intervention</td>\n",
              "      <td>5</td>\n",
              "    </tr>\n",
              "    <tr>\n",
              "      <th>19</th>\n",
              "      <td>Bâtiment technique</td>\n",
              "      <td>Chenil</td>\n",
              "      <td>1</td>\n",
              "    </tr>\n",
              "    <tr>\n",
              "      <th>20</th>\n",
              "      <td>Bâtiment technique</td>\n",
              "      <td>Dépôt d'archives</td>\n",
              "      <td>27</td>\n",
              "    </tr>\n",
              "    <tr>\n",
              "      <th>21</th>\n",
              "      <td>Bâtiment technique</td>\n",
              "      <td>Garage</td>\n",
              "      <td>557</td>\n",
              "    </tr>\n",
              "    <tr>\n",
              "      <th>22</th>\n",
              "      <td>Bâtiment technique</td>\n",
              "      <td>Gendarmerie</td>\n",
              "      <td>1</td>\n",
              "    </tr>\n",
              "    <tr>\n",
              "      <th>23</th>\n",
              "      <td>Bâtiment technique</td>\n",
              "      <td>Installation production indus.</td>\n",
              "      <td>21</td>\n",
              "    </tr>\n",
              "    <tr>\n",
              "      <th>24</th>\n",
              "      <td>Bâtiment technique</td>\n",
              "      <td>Laboratoire</td>\n",
              "      <td>1</td>\n",
              "    </tr>\n",
              "    <tr>\n",
              "      <th>25</th>\n",
              "      <td>Bâtiment technique</td>\n",
              "      <td>Observatoire</td>\n",
              "      <td>5</td>\n",
              "    </tr>\n",
              "    <tr>\n",
              "      <th>26</th>\n",
              "      <td>Bâtiment technique</td>\n",
              "      <td>Poste de commandement</td>\n",
              "      <td>16</td>\n",
              "    </tr>\n",
              "    <tr>\n",
              "      <th>27</th>\n",
              "      <td>Bâtiment technique</td>\n",
              "      <td>Stand de tir</td>\n",
              "      <td>63</td>\n",
              "    </tr>\n",
              "    <tr>\n",
              "      <th>28</th>\n",
              "      <td>Espace aménagé</td>\n",
              "      <td>Aire de lavage</td>\n",
              "      <td>242</td>\n",
              "    </tr>\n",
              "    <tr>\n",
              "      <th>29</th>\n",
              "      <td>Espace aménagé</td>\n",
              "      <td>Aire de stationnement</td>\n",
              "      <td>1244</td>\n",
              "    </tr>\n",
              "    <tr>\n",
              "      <th>30</th>\n",
              "      <td>Espace aménagé</td>\n",
              "      <td>Atelier réparation, entretien</td>\n",
              "      <td>1</td>\n",
              "    </tr>\n",
              "    <tr>\n",
              "      <th>31</th>\n",
              "      <td>Espace aménagé</td>\n",
              "      <td>Camp d'entraînement</td>\n",
              "      <td>16</td>\n",
              "    </tr>\n",
              "    <tr>\n",
              "      <th>32</th>\n",
              "      <td>Espace aménagé</td>\n",
              "      <td>Champ d'exercice</td>\n",
              "      <td>160</td>\n",
              "    </tr>\n",
              "    <tr>\n",
              "      <th>33</th>\n",
              "      <td>Espace aménagé</td>\n",
              "      <td>Champ de tir</td>\n",
              "      <td>5</td>\n",
              "    </tr>\n",
              "    <tr>\n",
              "      <th>34</th>\n",
              "      <td>Espace aménagé</td>\n",
              "      <td>Décharge</td>\n",
              "      <td>3</td>\n",
              "    </tr>\n",
              "    <tr>\n",
              "      <th>35</th>\n",
              "      <td>Espace aménagé</td>\n",
              "      <td>Gendarmerie</td>\n",
              "      <td>2</td>\n",
              "    </tr>\n",
              "    <tr>\n",
              "      <th>36</th>\n",
              "      <td>Espace aménagé</td>\n",
              "      <td>Terrain cultivé</td>\n",
              "      <td>1</td>\n",
              "    </tr>\n",
              "    <tr>\n",
              "      <th>37</th>\n",
              "      <td>Espace aménagé</td>\n",
              "      <td>Terrain de jeux ou de loisirs</td>\n",
              "      <td>1157</td>\n",
              "    </tr>\n",
              "  </tbody>\n",
              "</table>\n",
              "</div>"
            ],
            "text/plain": [
              "                  Type                        Fonction  count\n",
              "0               Bureau                       Ambassade      2\n",
              "1               Bureau   Atelier réparation, entretien      1\n",
              "2               Bureau              Bâtiment technique      2\n",
              "3               Bureau                    Commissariat    609\n",
              "4               Bureau                     Gendarmerie   1159\n",
              "5               Bureau             Immeuble de bureaux    430\n",
              "6               Bureau           Poste de commandement      1\n",
              "7               Bureau                      Préfecture    101\n",
              "8               Bureau                 Sous-préfecture     41\n",
              "9               Bureau                        Tribunal      3\n",
              "10              Bureau                      Trésorerie      1\n",
              "11  Bâtiment technique           Aire de stationnement      2\n",
              "12  Bâtiment technique   Atelier réparation, entretien    859\n",
              "13  Bâtiment technique                       Blockhaus      6\n",
              "14  Bâtiment technique            Bâtiment de stockage    866\n",
              "15  Bâtiment technique           Bâtiment scientifique      7\n",
              "16  Bâtiment technique              Bâtiment technique   1062\n",
              "17  Bâtiment technique             Centre Informatique      2\n",
              "18  Bâtiment technique  Centre entretien, intervention      5\n",
              "19  Bâtiment technique                          Chenil      1\n",
              "20  Bâtiment technique                Dépôt d'archives     27\n",
              "21  Bâtiment technique                          Garage    557\n",
              "22  Bâtiment technique                     Gendarmerie      1\n",
              "23  Bâtiment technique  Installation production indus.     21\n",
              "24  Bâtiment technique                     Laboratoire      1\n",
              "25  Bâtiment technique                    Observatoire      5\n",
              "26  Bâtiment technique           Poste de commandement     16\n",
              "27  Bâtiment technique                    Stand de tir     63\n",
              "28      Espace aménagé                  Aire de lavage    242\n",
              "29      Espace aménagé           Aire de stationnement   1244\n",
              "30      Espace aménagé   Atelier réparation, entretien      1\n",
              "31      Espace aménagé             Camp d'entraînement     16\n",
              "32      Espace aménagé                Champ d'exercice    160\n",
              "33      Espace aménagé                    Champ de tir      5\n",
              "34      Espace aménagé                        Décharge      3\n",
              "35      Espace aménagé                     Gendarmerie      2\n",
              "36      Espace aménagé                 Terrain cultivé      1\n",
              "37      Espace aménagé   Terrain de jeux ou de loisirs   1157"
            ]
          },
          "metadata": {
            "tags": []
          },
          "execution_count": 124
        }
      ]
    },
    {
      "cell_type": "code",
      "metadata": {
        "id": "248zPynkzOOD",
        "cellView": "form",
        "outputId": "ab9fc71d-8538-4310-88f8-ed2f8ebc6f1e",
        "colab": {
          "base_uri": "https://localhost:8080/",
          "height": 542
        }
      },
      "source": [
        "#@title\n",
        "all_nodes = sank15.Type.values.tolist() + sank15.Fonction.values.tolist()\n",
        "source_indices = [all_nodes.index(types) for types in sank15.Type]\n",
        "target_indices = [all_nodes.index(fonction) for fonction in sank15.Fonction]\n",
        "\n",
        "fig = go.Figure(data=[go.Sankey(\n",
        "    # Define nodes\n",
        "    node = dict(\n",
        "      pad = 5,\n",
        "      thickness = 60,\n",
        "      line = dict(color = \"black\", width = 1.0),\n",
        "      label =  all_nodes,\n",
        "      color =  \"pink\"\n",
        "      \n",
        "    ),\n",
        "\n",
        "    # Add links\n",
        "    link = dict(\n",
        "      source =  source_indices,\n",
        "      target =  target_indices,\n",
        "      value =  sank15['count'],\n",
        "))])\n",
        "\n",
        "fig.update_layout(title_text=\"visualisation de la repartiion des fonctions des differents de types de batiments 2015 \",\n",
        "                  font_size=9)\n",
        "fig.show()"
      ],
      "execution_count": null,
      "outputs": [
        {
          "output_type": "display_data",
          "data": {
            "text/html": [
              "<html>\n",
              "<head><meta charset=\"utf-8\" /></head>\n",
              "<body>\n",
              "    <div>\n",
              "            <script src=\"https://cdnjs.cloudflare.com/ajax/libs/mathjax/2.7.5/MathJax.js?config=TeX-AMS-MML_SVG\"></script><script type=\"text/javascript\">if (window.MathJax) {MathJax.Hub.Config({SVG: {font: \"STIX-Web\"}});}</script>\n",
              "                <script type=\"text/javascript\">window.PlotlyConfig = {MathJaxConfig: 'local'};</script>\n",
              "        <script src=\"https://cdn.plot.ly/plotly-latest.min.js\"></script>    \n",
              "            <div id=\"411a93fc-e6bd-40b6-b45e-84e695c436f3\" class=\"plotly-graph-div\" style=\"height:525px; width:100%;\"></div>\n",
              "            <script type=\"text/javascript\">\n",
              "                \n",
              "                    window.PLOTLYENV=window.PLOTLYENV || {};\n",
              "                    \n",
              "                if (document.getElementById(\"411a93fc-e6bd-40b6-b45e-84e695c436f3\")) {\n",
              "                    Plotly.newPlot(\n",
              "                        '411a93fc-e6bd-40b6-b45e-84e695c436f3',\n",
              "                        [{\"link\": {\"source\": [0, 0, 0, 0, 0, 0, 0, 0, 0, 0, 0, 11, 11, 11, 11, 11, 11, 11, 11, 11, 11, 11, 11, 11, 11, 11, 11, 11, 28, 28, 28, 28, 28, 28, 28, 28, 28, 28], \"target\": [38, 39, 11, 41, 42, 43, 44, 45, 46, 47, 48, 49, 39, 51, 52, 53, 11, 55, 56, 57, 58, 59, 42, 61, 62, 63, 44, 65, 66, 49, 39, 69, 70, 71, 72, 42, 74, 75], \"value\": [2, 1, 2, 609, 1159, 430, 1, 101, 41, 3, 1, 2, 859, 6, 866, 7, 1062, 2, 5, 1, 27, 557, 1, 21, 1, 5, 16, 63, 242, 1244, 1, 16, 160, 5, 3, 2, 1, 1157]}, \"node\": {\"color\": \"pink\", \"label\": [\"Bureau\", \"Bureau\", \"Bureau\", \"Bureau\", \"Bureau\", \"Bureau\", \"Bureau\", \"Bureau\", \"Bureau\", \"Bureau\", \"Bureau\", \"B\\u00e2timent technique\", \"B\\u00e2timent technique\", \"B\\u00e2timent technique\", \"B\\u00e2timent technique\", \"B\\u00e2timent technique\", \"B\\u00e2timent technique\", \"B\\u00e2timent technique\", \"B\\u00e2timent technique\", \"B\\u00e2timent technique\", \"B\\u00e2timent technique\", \"B\\u00e2timent technique\", \"B\\u00e2timent technique\", \"B\\u00e2timent technique\", \"B\\u00e2timent technique\", \"B\\u00e2timent technique\", \"B\\u00e2timent technique\", \"B\\u00e2timent technique\", \"Espace am\\u00e9nag\\u00e9\", \"Espace am\\u00e9nag\\u00e9\", \"Espace am\\u00e9nag\\u00e9\", \"Espace am\\u00e9nag\\u00e9\", \"Espace am\\u00e9nag\\u00e9\", \"Espace am\\u00e9nag\\u00e9\", \"Espace am\\u00e9nag\\u00e9\", \"Espace am\\u00e9nag\\u00e9\", \"Espace am\\u00e9nag\\u00e9\", \"Espace am\\u00e9nag\\u00e9\", \"Ambassade\", \"Atelier r\\u00e9paration, entretien\", \"B\\u00e2timent technique\", \"Commissariat\", \"Gendarmerie\", \"Immeuble de bureaux\", \"Poste de commandement\", \"Pr\\u00e9fecture\", \"Sous-pr\\u00e9fecture\", \"Tribunal\", \"Tr\\u00e9sorerie\", \"Aire de stationnement\", \"Atelier r\\u00e9paration, entretien\", \"Blockhaus\", \"B\\u00e2timent de stockage\", \"B\\u00e2timent scientifique\", \"B\\u00e2timent technique\", \"Centre Informatique\", \"Centre entretien, intervention\", \"Chenil\", \"D\\u00e9p\\u00f4t d'archives\", \"Garage\", \"Gendarmerie\", \"Installation production indus.\", \"Laboratoire\", \"Observatoire\", \"Poste de commandement\", \"Stand de tir\", \"Aire de lavage\", \"Aire de stationnement\", \"Atelier r\\u00e9paration, entretien\", \"Camp d'entra\\u00eenement\", \"Champ d'exercice\", \"Champ de tir\", \"D\\u00e9charge\", \"Gendarmerie\", \"Terrain cultiv\\u00e9\", \"Terrain de jeux ou de loisirs\"], \"line\": {\"color\": \"black\", \"width\": 1.0}, \"pad\": 5, \"thickness\": 60}, \"type\": \"sankey\"}],\n",
              "                        {\"font\": {\"size\": 9}, \"template\": {\"data\": {\"bar\": [{\"error_x\": {\"color\": \"#2a3f5f\"}, \"error_y\": {\"color\": \"#2a3f5f\"}, \"marker\": {\"line\": {\"color\": \"#E5ECF6\", \"width\": 0.5}}, \"type\": \"bar\"}], \"barpolar\": [{\"marker\": {\"line\": {\"color\": \"#E5ECF6\", \"width\": 0.5}}, \"type\": \"barpolar\"}], \"carpet\": [{\"aaxis\": {\"endlinecolor\": \"#2a3f5f\", \"gridcolor\": \"white\", \"linecolor\": \"white\", \"minorgridcolor\": \"white\", \"startlinecolor\": \"#2a3f5f\"}, \"baxis\": {\"endlinecolor\": \"#2a3f5f\", \"gridcolor\": \"white\", \"linecolor\": \"white\", \"minorgridcolor\": \"white\", \"startlinecolor\": \"#2a3f5f\"}, \"type\": \"carpet\"}], \"choropleth\": [{\"colorbar\": {\"outlinewidth\": 0, \"ticks\": \"\"}, \"type\": \"choropleth\"}], \"contour\": [{\"colorbar\": {\"outlinewidth\": 0, \"ticks\": \"\"}, \"colorscale\": [[0.0, \"#0d0887\"], [0.1111111111111111, \"#46039f\"], [0.2222222222222222, \"#7201a8\"], [0.3333333333333333, \"#9c179e\"], [0.4444444444444444, \"#bd3786\"], [0.5555555555555556, \"#d8576b\"], [0.6666666666666666, \"#ed7953\"], [0.7777777777777778, \"#fb9f3a\"], [0.8888888888888888, \"#fdca26\"], [1.0, \"#f0f921\"]], \"type\": \"contour\"}], \"contourcarpet\": [{\"colorbar\": {\"outlinewidth\": 0, \"ticks\": \"\"}, \"type\": \"contourcarpet\"}], \"heatmap\": [{\"colorbar\": {\"outlinewidth\": 0, \"ticks\": \"\"}, \"colorscale\": [[0.0, \"#0d0887\"], [0.1111111111111111, \"#46039f\"], [0.2222222222222222, \"#7201a8\"], [0.3333333333333333, \"#9c179e\"], [0.4444444444444444, \"#bd3786\"], [0.5555555555555556, \"#d8576b\"], [0.6666666666666666, \"#ed7953\"], [0.7777777777777778, \"#fb9f3a\"], [0.8888888888888888, \"#fdca26\"], [1.0, \"#f0f921\"]], \"type\": \"heatmap\"}], \"heatmapgl\": [{\"colorbar\": {\"outlinewidth\": 0, \"ticks\": \"\"}, \"colorscale\": [[0.0, \"#0d0887\"], [0.1111111111111111, \"#46039f\"], [0.2222222222222222, \"#7201a8\"], [0.3333333333333333, \"#9c179e\"], [0.4444444444444444, \"#bd3786\"], [0.5555555555555556, \"#d8576b\"], [0.6666666666666666, \"#ed7953\"], [0.7777777777777778, \"#fb9f3a\"], [0.8888888888888888, \"#fdca26\"], [1.0, \"#f0f921\"]], \"type\": \"heatmapgl\"}], \"histogram\": [{\"marker\": {\"colorbar\": {\"outlinewidth\": 0, \"ticks\": \"\"}}, \"type\": \"histogram\"}], \"histogram2d\": [{\"colorbar\": {\"outlinewidth\": 0, \"ticks\": \"\"}, \"colorscale\": [[0.0, \"#0d0887\"], [0.1111111111111111, \"#46039f\"], [0.2222222222222222, \"#7201a8\"], [0.3333333333333333, \"#9c179e\"], [0.4444444444444444, \"#bd3786\"], [0.5555555555555556, \"#d8576b\"], [0.6666666666666666, \"#ed7953\"], [0.7777777777777778, \"#fb9f3a\"], [0.8888888888888888, \"#fdca26\"], [1.0, \"#f0f921\"]], \"type\": \"histogram2d\"}], \"histogram2dcontour\": [{\"colorbar\": {\"outlinewidth\": 0, \"ticks\": \"\"}, \"colorscale\": [[0.0, \"#0d0887\"], [0.1111111111111111, \"#46039f\"], [0.2222222222222222, \"#7201a8\"], [0.3333333333333333, \"#9c179e\"], [0.4444444444444444, \"#bd3786\"], [0.5555555555555556, \"#d8576b\"], [0.6666666666666666, \"#ed7953\"], [0.7777777777777778, \"#fb9f3a\"], [0.8888888888888888, \"#fdca26\"], [1.0, \"#f0f921\"]], \"type\": \"histogram2dcontour\"}], \"mesh3d\": [{\"colorbar\": {\"outlinewidth\": 0, \"ticks\": \"\"}, \"type\": \"mesh3d\"}], \"parcoords\": [{\"line\": {\"colorbar\": {\"outlinewidth\": 0, \"ticks\": \"\"}}, \"type\": \"parcoords\"}], \"pie\": [{\"automargin\": true, \"type\": \"pie\"}], \"scatter\": [{\"marker\": {\"colorbar\": {\"outlinewidth\": 0, \"ticks\": \"\"}}, \"type\": \"scatter\"}], \"scatter3d\": [{\"line\": {\"colorbar\": {\"outlinewidth\": 0, \"ticks\": \"\"}}, \"marker\": {\"colorbar\": {\"outlinewidth\": 0, \"ticks\": \"\"}}, \"type\": \"scatter3d\"}], \"scattercarpet\": [{\"marker\": {\"colorbar\": {\"outlinewidth\": 0, \"ticks\": \"\"}}, \"type\": \"scattercarpet\"}], \"scattergeo\": [{\"marker\": {\"colorbar\": {\"outlinewidth\": 0, \"ticks\": \"\"}}, \"type\": \"scattergeo\"}], \"scattergl\": [{\"marker\": {\"colorbar\": {\"outlinewidth\": 0, \"ticks\": \"\"}}, \"type\": \"scattergl\"}], \"scattermapbox\": [{\"marker\": {\"colorbar\": {\"outlinewidth\": 0, \"ticks\": \"\"}}, \"type\": \"scattermapbox\"}], \"scatterpolar\": [{\"marker\": {\"colorbar\": {\"outlinewidth\": 0, \"ticks\": \"\"}}, \"type\": \"scatterpolar\"}], \"scatterpolargl\": [{\"marker\": {\"colorbar\": {\"outlinewidth\": 0, \"ticks\": \"\"}}, \"type\": \"scatterpolargl\"}], \"scatterternary\": [{\"marker\": {\"colorbar\": {\"outlinewidth\": 0, \"ticks\": \"\"}}, \"type\": \"scatterternary\"}], \"surface\": [{\"colorbar\": {\"outlinewidth\": 0, \"ticks\": \"\"}, \"colorscale\": [[0.0, \"#0d0887\"], [0.1111111111111111, \"#46039f\"], [0.2222222222222222, \"#7201a8\"], [0.3333333333333333, \"#9c179e\"], [0.4444444444444444, \"#bd3786\"], [0.5555555555555556, \"#d8576b\"], [0.6666666666666666, \"#ed7953\"], [0.7777777777777778, \"#fb9f3a\"], [0.8888888888888888, \"#fdca26\"], [1.0, \"#f0f921\"]], \"type\": \"surface\"}], \"table\": [{\"cells\": {\"fill\": {\"color\": \"#EBF0F8\"}, \"line\": {\"color\": \"white\"}}, \"header\": {\"fill\": {\"color\": \"#C8D4E3\"}, \"line\": {\"color\": \"white\"}}, \"type\": \"table\"}]}, \"layout\": {\"annotationdefaults\": {\"arrowcolor\": \"#2a3f5f\", \"arrowhead\": 0, \"arrowwidth\": 1}, \"coloraxis\": {\"colorbar\": {\"outlinewidth\": 0, \"ticks\": \"\"}}, \"colorscale\": {\"diverging\": [[0, \"#8e0152\"], [0.1, \"#c51b7d\"], [0.2, \"#de77ae\"], [0.3, \"#f1b6da\"], [0.4, \"#fde0ef\"], [0.5, \"#f7f7f7\"], [0.6, \"#e6f5d0\"], [0.7, \"#b8e186\"], [0.8, \"#7fbc41\"], [0.9, \"#4d9221\"], [1, \"#276419\"]], \"sequential\": [[0.0, \"#0d0887\"], [0.1111111111111111, \"#46039f\"], [0.2222222222222222, \"#7201a8\"], [0.3333333333333333, \"#9c179e\"], [0.4444444444444444, \"#bd3786\"], [0.5555555555555556, \"#d8576b\"], [0.6666666666666666, \"#ed7953\"], [0.7777777777777778, \"#fb9f3a\"], [0.8888888888888888, \"#fdca26\"], [1.0, \"#f0f921\"]], \"sequentialminus\": [[0.0, \"#0d0887\"], [0.1111111111111111, \"#46039f\"], [0.2222222222222222, \"#7201a8\"], [0.3333333333333333, \"#9c179e\"], [0.4444444444444444, \"#bd3786\"], [0.5555555555555556, \"#d8576b\"], [0.6666666666666666, \"#ed7953\"], [0.7777777777777778, \"#fb9f3a\"], [0.8888888888888888, \"#fdca26\"], [1.0, \"#f0f921\"]]}, \"colorway\": [\"#636efa\", \"#EF553B\", \"#00cc96\", \"#ab63fa\", \"#FFA15A\", \"#19d3f3\", \"#FF6692\", \"#B6E880\", \"#FF97FF\", \"#FECB52\"], \"font\": {\"color\": \"#2a3f5f\"}, \"geo\": {\"bgcolor\": \"white\", \"lakecolor\": \"white\", \"landcolor\": \"#E5ECF6\", \"showlakes\": true, \"showland\": true, \"subunitcolor\": \"white\"}, \"hoverlabel\": {\"align\": \"left\"}, \"hovermode\": \"closest\", \"mapbox\": {\"style\": \"light\"}, \"paper_bgcolor\": \"white\", \"plot_bgcolor\": \"#E5ECF6\", \"polar\": {\"angularaxis\": {\"gridcolor\": \"white\", \"linecolor\": \"white\", \"ticks\": \"\"}, \"bgcolor\": \"#E5ECF6\", \"radialaxis\": {\"gridcolor\": \"white\", \"linecolor\": \"white\", \"ticks\": \"\"}}, \"scene\": {\"xaxis\": {\"backgroundcolor\": \"#E5ECF6\", \"gridcolor\": \"white\", \"gridwidth\": 2, \"linecolor\": \"white\", \"showbackground\": true, \"ticks\": \"\", \"zerolinecolor\": \"white\"}, \"yaxis\": {\"backgroundcolor\": \"#E5ECF6\", \"gridcolor\": \"white\", \"gridwidth\": 2, \"linecolor\": \"white\", \"showbackground\": true, \"ticks\": \"\", \"zerolinecolor\": \"white\"}, \"zaxis\": {\"backgroundcolor\": \"#E5ECF6\", \"gridcolor\": \"white\", \"gridwidth\": 2, \"linecolor\": \"white\", \"showbackground\": true, \"ticks\": \"\", \"zerolinecolor\": \"white\"}}, \"shapedefaults\": {\"line\": {\"color\": \"#2a3f5f\"}}, \"ternary\": {\"aaxis\": {\"gridcolor\": \"white\", \"linecolor\": \"white\", \"ticks\": \"\"}, \"baxis\": {\"gridcolor\": \"white\", \"linecolor\": \"white\", \"ticks\": \"\"}, \"bgcolor\": \"#E5ECF6\", \"caxis\": {\"gridcolor\": \"white\", \"linecolor\": \"white\", \"ticks\": \"\"}}, \"title\": {\"x\": 0.05}, \"xaxis\": {\"automargin\": true, \"gridcolor\": \"white\", \"linecolor\": \"white\", \"ticks\": \"\", \"title\": {\"standoff\": 15}, \"zerolinecolor\": \"white\", \"zerolinewidth\": 2}, \"yaxis\": {\"automargin\": true, \"gridcolor\": \"white\", \"linecolor\": \"white\", \"ticks\": \"\", \"title\": {\"standoff\": 15}, \"zerolinecolor\": \"white\", \"zerolinewidth\": 2}}}, \"title\": {\"text\": \"visualisation de la repartiion des fonctions des differents de types de batiments 2015 \"}},\n",
              "                        {\"responsive\": true}\n",
              "                    ).then(function(){\n",
              "                            \n",
              "var gd = document.getElementById('411a93fc-e6bd-40b6-b45e-84e695c436f3');\n",
              "var x = new MutationObserver(function (mutations, observer) {{\n",
              "        var display = window.getComputedStyle(gd).display;\n",
              "        if (!display || display === 'none') {{\n",
              "            console.log([gd, 'removed!']);\n",
              "            Plotly.purge(gd);\n",
              "            observer.disconnect();\n",
              "        }}\n",
              "}});\n",
              "\n",
              "// Listen for the removal of the full notebook cells\n",
              "var notebookContainer = gd.closest('#notebook-container');\n",
              "if (notebookContainer) {{\n",
              "    x.observe(notebookContainer, {childList: true});\n",
              "}}\n",
              "\n",
              "// Listen for the clearing of the current output cell\n",
              "var outputEl = gd.closest('.output');\n",
              "if (outputEl) {{\n",
              "    x.observe(outputEl, {childList: true});\n",
              "}}\n",
              "\n",
              "                        })\n",
              "                };\n",
              "                \n",
              "            </script>\n",
              "        </div>\n",
              "</body>\n",
              "</html>"
            ]
          },
          "metadata": {
            "tags": []
          }
        }
      ]
    },
    {
      "cell_type": "markdown",
      "metadata": {
        "id": "cxxP1vPLl_Qa"
      },
      "source": [
        "les batiments de type bureau affichent 11 sous categories (Commisariat,immeuble de bureau, prefecture, ambassade, prefecture, sous prefecture,tribunal ,tresorie, poste de commandement , batiment technique,atelier reparation entretien) La gendarmerie , les commisariats et les immeubles de bureaux  representent la majorité des bureaux.\n",
        "Les Batiments techiniques constituent une sous categorie des batiments de type bureau cela est representé par un flux partant de la source bureau .Ils sont composés de 17 sous categories(poste de commandement, gendarmerie,batiment technique,batiment de stockage, garage batiment scientifique,etc).\n",
        "La majorité des batiments techniques sont des batiments techniques, des ateliers reparations entretiens , des batiments de stockages ainsi que les garages.\n",
        "Les batiments espaces aménagés sont repartis en 10 sous categories . Les aires de stationnement et les terrains de jeux et de loisirs constituent la majeure partie de ce type de batiment"
      ]
    },
    {
      "cell_type": "code",
      "metadata": {
        "id": "rLeLUBmaxLN8"
      },
      "source": [
        "df14type_fonction=df14.groupby(['Type','Fonction']).count()\n",
        "df14type_fonction=df14type_fonction['count']\n",
        "df14type_fonction=df14type_fonction.to_frame()\n",
        "df14type_fonction=df14type_fonction.reset_index()\n",
        "df14type_fonction=df14type_fonction.set_index('Type')\n",
        "df_diagsankey14=df14type_fonction.loc[[\"Bureau\",\"Bâtiment technique\",'Espace aménagé']]\n",
        "sank14=df_diagsankey14.reset_index()"
      ],
      "execution_count": null,
      "outputs": []
    },
    {
      "cell_type": "code",
      "metadata": {
        "id": "uSYqxJQ0xLIV",
        "outputId": "78e010c8-4557-491e-acd7-570e467ff78a",
        "colab": {
          "base_uri": "https://localhost:8080/",
          "height": 1000
        }
      },
      "source": [
        "sank14"
      ],
      "execution_count": null,
      "outputs": [
        {
          "output_type": "execute_result",
          "data": {
            "text/html": [
              "<div>\n",
              "<style scoped>\n",
              "    .dataframe tbody tr th:only-of-type {\n",
              "        vertical-align: middle;\n",
              "    }\n",
              "\n",
              "    .dataframe tbody tr th {\n",
              "        vertical-align: top;\n",
              "    }\n",
              "\n",
              "    .dataframe thead th {\n",
              "        text-align: right;\n",
              "    }\n",
              "</style>\n",
              "<table border=\"1\" class=\"dataframe\">\n",
              "  <thead>\n",
              "    <tr style=\"text-align: right;\">\n",
              "      <th></th>\n",
              "      <th>Type</th>\n",
              "      <th>Fonction</th>\n",
              "      <th>count</th>\n",
              "    </tr>\n",
              "  </thead>\n",
              "  <tbody>\n",
              "    <tr>\n",
              "      <th>0</th>\n",
              "      <td>Bureau</td>\n",
              "      <td>Ambassade</td>\n",
              "      <td>2</td>\n",
              "    </tr>\n",
              "    <tr>\n",
              "      <th>1</th>\n",
              "      <td>Bureau</td>\n",
              "      <td>Atelier réparation, entretien</td>\n",
              "      <td>2</td>\n",
              "    </tr>\n",
              "    <tr>\n",
              "      <th>2</th>\n",
              "      <td>Bureau</td>\n",
              "      <td>Bibliothèque</td>\n",
              "      <td>1</td>\n",
              "    </tr>\n",
              "    <tr>\n",
              "      <th>3</th>\n",
              "      <td>Bureau</td>\n",
              "      <td>Bâtiment de casernement</td>\n",
              "      <td>5</td>\n",
              "    </tr>\n",
              "    <tr>\n",
              "      <th>4</th>\n",
              "      <td>Bureau</td>\n",
              "      <td>Centre d'examen</td>\n",
              "      <td>1</td>\n",
              "    </tr>\n",
              "    <tr>\n",
              "      <th>5</th>\n",
              "      <td>Bureau</td>\n",
              "      <td>Chenil</td>\n",
              "      <td>1</td>\n",
              "    </tr>\n",
              "    <tr>\n",
              "      <th>6</th>\n",
              "      <td>Bureau</td>\n",
              "      <td>Commissariat</td>\n",
              "      <td>606</td>\n",
              "    </tr>\n",
              "    <tr>\n",
              "      <th>7</th>\n",
              "      <td>Bureau</td>\n",
              "      <td>Dépôt d'archives</td>\n",
              "      <td>1</td>\n",
              "    </tr>\n",
              "    <tr>\n",
              "      <th>8</th>\n",
              "      <td>Bureau</td>\n",
              "      <td>Garage</td>\n",
              "      <td>1</td>\n",
              "    </tr>\n",
              "    <tr>\n",
              "      <th>9</th>\n",
              "      <td>Bureau</td>\n",
              "      <td>Gendarmerie</td>\n",
              "      <td>1264</td>\n",
              "    </tr>\n",
              "    <tr>\n",
              "      <th>10</th>\n",
              "      <td>Bureau</td>\n",
              "      <td>Immeuble de bureaux</td>\n",
              "      <td>404</td>\n",
              "    </tr>\n",
              "    <tr>\n",
              "      <th>11</th>\n",
              "      <td>Bureau</td>\n",
              "      <td>Laboratoire</td>\n",
              "      <td>1</td>\n",
              "    </tr>\n",
              "    <tr>\n",
              "      <th>12</th>\n",
              "      <td>Bureau</td>\n",
              "      <td>Préfecture</td>\n",
              "      <td>88</td>\n",
              "    </tr>\n",
              "    <tr>\n",
              "      <th>13</th>\n",
              "      <td>Bureau</td>\n",
              "      <td>Sous-préfecture</td>\n",
              "      <td>40</td>\n",
              "    </tr>\n",
              "    <tr>\n",
              "      <th>14</th>\n",
              "      <td>Bureau</td>\n",
              "      <td>Tribunal</td>\n",
              "      <td>3</td>\n",
              "    </tr>\n",
              "    <tr>\n",
              "      <th>15</th>\n",
              "      <td>Bureau</td>\n",
              "      <td>Trésorerie</td>\n",
              "      <td>1</td>\n",
              "    </tr>\n",
              "    <tr>\n",
              "      <th>16</th>\n",
              "      <td>Bâtiment technique</td>\n",
              "      <td>Ambassade</td>\n",
              "      <td>1</td>\n",
              "    </tr>\n",
              "    <tr>\n",
              "      <th>17</th>\n",
              "      <td>Bâtiment technique</td>\n",
              "      <td>Atelier réparation, entretien</td>\n",
              "      <td>824</td>\n",
              "    </tr>\n",
              "    <tr>\n",
              "      <th>18</th>\n",
              "      <td>Bâtiment technique</td>\n",
              "      <td>Blockhaus</td>\n",
              "      <td>6</td>\n",
              "    </tr>\n",
              "    <tr>\n",
              "      <th>19</th>\n",
              "      <td>Bâtiment technique</td>\n",
              "      <td>Bât. restauration collective</td>\n",
              "      <td>2</td>\n",
              "    </tr>\n",
              "    <tr>\n",
              "      <th>20</th>\n",
              "      <td>Bâtiment technique</td>\n",
              "      <td>Bâtiment agricole</td>\n",
              "      <td>1</td>\n",
              "    </tr>\n",
              "    <tr>\n",
              "      <th>21</th>\n",
              "      <td>Bâtiment technique</td>\n",
              "      <td>Bâtiment de casernement</td>\n",
              "      <td>2</td>\n",
              "    </tr>\n",
              "    <tr>\n",
              "      <th>22</th>\n",
              "      <td>Bâtiment technique</td>\n",
              "      <td>Bâtiment de stockage</td>\n",
              "      <td>753</td>\n",
              "    </tr>\n",
              "    <tr>\n",
              "      <th>23</th>\n",
              "      <td>Bâtiment technique</td>\n",
              "      <td>Bâtiment scientifique</td>\n",
              "      <td>7</td>\n",
              "    </tr>\n",
              "    <tr>\n",
              "      <th>24</th>\n",
              "      <td>Bâtiment technique</td>\n",
              "      <td>Bâtiment technique</td>\n",
              "      <td>784</td>\n",
              "    </tr>\n",
              "    <tr>\n",
              "      <th>25</th>\n",
              "      <td>Bâtiment technique</td>\n",
              "      <td>Centre Informatique</td>\n",
              "      <td>2</td>\n",
              "    </tr>\n",
              "    <tr>\n",
              "      <th>26</th>\n",
              "      <td>Bâtiment technique</td>\n",
              "      <td>Centre entretien, intervention</td>\n",
              "      <td>5</td>\n",
              "    </tr>\n",
              "    <tr>\n",
              "      <th>27</th>\n",
              "      <td>Bâtiment technique</td>\n",
              "      <td>Chenil</td>\n",
              "      <td>8</td>\n",
              "    </tr>\n",
              "    <tr>\n",
              "      <th>28</th>\n",
              "      <td>Bâtiment technique</td>\n",
              "      <td>Commissariat</td>\n",
              "      <td>12</td>\n",
              "    </tr>\n",
              "    <tr>\n",
              "      <th>29</th>\n",
              "      <td>Bâtiment technique</td>\n",
              "      <td>Consulat</td>\n",
              "      <td>1</td>\n",
              "    </tr>\n",
              "    <tr>\n",
              "      <th>30</th>\n",
              "      <td>Bâtiment technique</td>\n",
              "      <td>Dépôt d'archives</td>\n",
              "      <td>29</td>\n",
              "    </tr>\n",
              "    <tr>\n",
              "      <th>31</th>\n",
              "      <td>Bâtiment technique</td>\n",
              "      <td>Garage</td>\n",
              "      <td>518</td>\n",
              "    </tr>\n",
              "    <tr>\n",
              "      <th>32</th>\n",
              "      <td>Bâtiment technique</td>\n",
              "      <td>Gendarmerie</td>\n",
              "      <td>280</td>\n",
              "    </tr>\n",
              "    <tr>\n",
              "      <th>33</th>\n",
              "      <td>Bâtiment technique</td>\n",
              "      <td>Immeuble de bureaux</td>\n",
              "      <td>10</td>\n",
              "    </tr>\n",
              "    <tr>\n",
              "      <th>34</th>\n",
              "      <td>Bâtiment technique</td>\n",
              "      <td>Inst. prod. ou transf. énergie</td>\n",
              "      <td>2</td>\n",
              "    </tr>\n",
              "    <tr>\n",
              "      <th>35</th>\n",
              "      <td>Bâtiment technique</td>\n",
              "      <td>Installation production indus.</td>\n",
              "      <td>4</td>\n",
              "    </tr>\n",
              "    <tr>\n",
              "      <th>36</th>\n",
              "      <td>Bâtiment technique</td>\n",
              "      <td>Observatoire</td>\n",
              "      <td>5</td>\n",
              "    </tr>\n",
              "    <tr>\n",
              "      <th>37</th>\n",
              "      <td>Bâtiment technique</td>\n",
              "      <td>Ouvrage de télécommunication</td>\n",
              "      <td>3</td>\n",
              "    </tr>\n",
              "    <tr>\n",
              "      <th>38</th>\n",
              "      <td>Bâtiment technique</td>\n",
              "      <td>Poste de commandement</td>\n",
              "      <td>15</td>\n",
              "    </tr>\n",
              "    <tr>\n",
              "      <th>39</th>\n",
              "      <td>Bâtiment technique</td>\n",
              "      <td>Préfecture</td>\n",
              "      <td>1</td>\n",
              "    </tr>\n",
              "    <tr>\n",
              "      <th>40</th>\n",
              "      <td>Bâtiment technique</td>\n",
              "      <td>Stand de tir</td>\n",
              "      <td>56</td>\n",
              "    </tr>\n",
              "    <tr>\n",
              "      <th>41</th>\n",
              "      <td>Bâtiment technique</td>\n",
              "      <td>Terrain de jeux ou de loisirs</td>\n",
              "      <td>1</td>\n",
              "    </tr>\n",
              "    <tr>\n",
              "      <th>42</th>\n",
              "      <td>Espace aménagé</td>\n",
              "      <td>Aire de lavage</td>\n",
              "      <td>247</td>\n",
              "    </tr>\n",
              "    <tr>\n",
              "      <th>43</th>\n",
              "      <td>Espace aménagé</td>\n",
              "      <td>Aire de stationnement</td>\n",
              "      <td>1174</td>\n",
              "    </tr>\n",
              "    <tr>\n",
              "      <th>44</th>\n",
              "      <td>Espace aménagé</td>\n",
              "      <td>Atelier réparation, entretien</td>\n",
              "      <td>1</td>\n",
              "    </tr>\n",
              "    <tr>\n",
              "      <th>45</th>\n",
              "      <td>Espace aménagé</td>\n",
              "      <td>Bâtiment technique</td>\n",
              "      <td>1</td>\n",
              "    </tr>\n",
              "    <tr>\n",
              "      <th>46</th>\n",
              "      <td>Espace aménagé</td>\n",
              "      <td>Camp d'entraînement</td>\n",
              "      <td>9</td>\n",
              "    </tr>\n",
              "    <tr>\n",
              "      <th>47</th>\n",
              "      <td>Espace aménagé</td>\n",
              "      <td>Champ d'exercice</td>\n",
              "      <td>162</td>\n",
              "    </tr>\n",
              "    <tr>\n",
              "      <th>48</th>\n",
              "      <td>Espace aménagé</td>\n",
              "      <td>Champ de tir</td>\n",
              "      <td>4</td>\n",
              "    </tr>\n",
              "    <tr>\n",
              "      <th>49</th>\n",
              "      <td>Espace aménagé</td>\n",
              "      <td>Décharge</td>\n",
              "      <td>3</td>\n",
              "    </tr>\n",
              "    <tr>\n",
              "      <th>50</th>\n",
              "      <td>Espace aménagé</td>\n",
              "      <td>Gendarmerie</td>\n",
              "      <td>71</td>\n",
              "    </tr>\n",
              "    <tr>\n",
              "      <th>51</th>\n",
              "      <td>Espace aménagé</td>\n",
              "      <td>Installation aéroportuaire</td>\n",
              "      <td>1</td>\n",
              "    </tr>\n",
              "    <tr>\n",
              "      <th>52</th>\n",
              "      <td>Espace aménagé</td>\n",
              "      <td>Plateforme aéronautique</td>\n",
              "      <td>1</td>\n",
              "    </tr>\n",
              "    <tr>\n",
              "      <th>53</th>\n",
              "      <td>Espace aménagé</td>\n",
              "      <td>Terrain de jeux ou de loisirs</td>\n",
              "      <td>1179</td>\n",
              "    </tr>\n",
              "  </tbody>\n",
              "</table>\n",
              "</div>"
            ],
            "text/plain": [
              "                  Type                        Fonction  count\n",
              "0               Bureau                       Ambassade      2\n",
              "1               Bureau   Atelier réparation, entretien      2\n",
              "2               Bureau                    Bibliothèque      1\n",
              "3               Bureau         Bâtiment de casernement      5\n",
              "4               Bureau                 Centre d'examen      1\n",
              "5               Bureau                          Chenil      1\n",
              "6               Bureau                    Commissariat    606\n",
              "7               Bureau                Dépôt d'archives      1\n",
              "8               Bureau                          Garage      1\n",
              "9               Bureau                     Gendarmerie   1264\n",
              "10              Bureau             Immeuble de bureaux    404\n",
              "11              Bureau                     Laboratoire      1\n",
              "12              Bureau                      Préfecture     88\n",
              "13              Bureau                 Sous-préfecture     40\n",
              "14              Bureau                        Tribunal      3\n",
              "15              Bureau                      Trésorerie      1\n",
              "16  Bâtiment technique                       Ambassade      1\n",
              "17  Bâtiment technique   Atelier réparation, entretien    824\n",
              "18  Bâtiment technique                       Blockhaus      6\n",
              "19  Bâtiment technique    Bât. restauration collective      2\n",
              "20  Bâtiment technique               Bâtiment agricole      1\n",
              "21  Bâtiment technique         Bâtiment de casernement      2\n",
              "22  Bâtiment technique            Bâtiment de stockage    753\n",
              "23  Bâtiment technique           Bâtiment scientifique      7\n",
              "24  Bâtiment technique              Bâtiment technique    784\n",
              "25  Bâtiment technique             Centre Informatique      2\n",
              "26  Bâtiment technique  Centre entretien, intervention      5\n",
              "27  Bâtiment technique                          Chenil      8\n",
              "28  Bâtiment technique                    Commissariat     12\n",
              "29  Bâtiment technique                        Consulat      1\n",
              "30  Bâtiment technique                Dépôt d'archives     29\n",
              "31  Bâtiment technique                          Garage    518\n",
              "32  Bâtiment technique                     Gendarmerie    280\n",
              "33  Bâtiment technique             Immeuble de bureaux     10\n",
              "34  Bâtiment technique  Inst. prod. ou transf. énergie      2\n",
              "35  Bâtiment technique  Installation production indus.      4\n",
              "36  Bâtiment technique                    Observatoire      5\n",
              "37  Bâtiment technique    Ouvrage de télécommunication      3\n",
              "38  Bâtiment technique           Poste de commandement     15\n",
              "39  Bâtiment technique                      Préfecture      1\n",
              "40  Bâtiment technique                    Stand de tir     56\n",
              "41  Bâtiment technique   Terrain de jeux ou de loisirs      1\n",
              "42      Espace aménagé                  Aire de lavage    247\n",
              "43      Espace aménagé           Aire de stationnement   1174\n",
              "44      Espace aménagé   Atelier réparation, entretien      1\n",
              "45      Espace aménagé              Bâtiment technique      1\n",
              "46      Espace aménagé             Camp d'entraînement      9\n",
              "47      Espace aménagé                Champ d'exercice    162\n",
              "48      Espace aménagé                    Champ de tir      4\n",
              "49      Espace aménagé                        Décharge      3\n",
              "50      Espace aménagé                     Gendarmerie     71\n",
              "51      Espace aménagé      Installation aéroportuaire      1\n",
              "52      Espace aménagé         Plateforme aéronautique      1\n",
              "53      Espace aménagé   Terrain de jeux ou de loisirs   1179"
            ]
          },
          "metadata": {
            "tags": []
          },
          "execution_count": 196
        }
      ]
    },
    {
      "cell_type": "code",
      "metadata": {
        "id": "Mp49w7QDi3Ly",
        "outputId": "cd364167-595e-44ab-f8fb-a80a50bf0229",
        "colab": {
          "base_uri": "https://localhost:8080/",
          "height": 542
        }
      },
      "source": [
        "all_nodes = sank14.Type.values.tolist() + sank14.Fonction.values.tolist()\n",
        "source_indices = [all_nodes.index(types) for types in sank14.Type]\n",
        "target_indices = [all_nodes.index(fonction) for fonction in sank14.Fonction]\n",
        "\n",
        "fig = go.Figure(data=[go.Sankey(\n",
        "    # Define nodes\n",
        "    node = dict(\n",
        "      pad = 5,\n",
        "      thickness = 80,\n",
        "      label =  all_nodes,\n",
        "      color =  \"blue\"\n",
        "      \n",
        "    ),\n",
        "\n",
        "    # Add links\n",
        "    link = dict(\n",
        "      source =  source_indices,\n",
        "      target =  target_indices,\n",
        "      value =  sank14['count'],\n",
        "))])\n",
        "\n",
        "fig.update_layout(title_text=\"visualisation de la repartiion des fonctions des differents de types de batiments pour 2014 \",\n",
        "                  font_size=9)\n",
        "fig.show()"
      ],
      "execution_count": null,
      "outputs": [
        {
          "output_type": "display_data",
          "data": {
            "text/html": [
              "<html>\n",
              "<head><meta charset=\"utf-8\" /></head>\n",
              "<body>\n",
              "    <div>\n",
              "            <script src=\"https://cdnjs.cloudflare.com/ajax/libs/mathjax/2.7.5/MathJax.js?config=TeX-AMS-MML_SVG\"></script><script type=\"text/javascript\">if (window.MathJax) {MathJax.Hub.Config({SVG: {font: \"STIX-Web\"}});}</script>\n",
              "                <script type=\"text/javascript\">window.PlotlyConfig = {MathJaxConfig: 'local'};</script>\n",
              "        <script src=\"https://cdn.plot.ly/plotly-latest.min.js\"></script>    \n",
              "            <div id=\"5f44a4d9-478d-4bd1-82a6-d803d501fb9b\" class=\"plotly-graph-div\" style=\"height:525px; width:100%;\"></div>\n",
              "            <script type=\"text/javascript\">\n",
              "                \n",
              "                    window.PLOTLYENV=window.PLOTLYENV || {};\n",
              "                    \n",
              "                if (document.getElementById(\"5f44a4d9-478d-4bd1-82a6-d803d501fb9b\")) {\n",
              "                    Plotly.newPlot(\n",
              "                        '5f44a4d9-478d-4bd1-82a6-d803d501fb9b',\n",
              "                        [{\"link\": {\"source\": [0, 0, 0, 0, 0, 0, 0, 0, 0, 0, 0, 0, 0, 0, 0, 0, 16, 16, 16, 16, 16, 16, 16, 16, 16, 16, 16, 16, 16, 16, 16, 16, 16, 16, 16, 16, 16, 16, 16, 16, 16, 16, 42, 42, 42, 42, 42, 42, 42, 42, 42, 42, 42, 42], \"target\": [54, 55, 56, 57, 58, 59, 60, 61, 62, 63, 64, 65, 66, 67, 68, 69, 54, 55, 72, 73, 74, 57, 76, 77, 16, 79, 80, 59, 60, 83, 61, 62, 63, 64, 88, 89, 90, 91, 92, 66, 94, 95, 96, 97, 55, 16, 100, 101, 102, 103, 63, 105, 106, 95], \"value\": [2, 2, 1, 5, 1, 1, 606, 1, 1, 1264, 404, 1, 88, 40, 3, 1, 1, 824, 6, 2, 1, 2, 753, 7, 784, 2, 5, 8, 12, 1, 29, 518, 280, 10, 2, 4, 5, 3, 15, 1, 56, 1, 247, 1174, 1, 1, 9, 162, 4, 3, 71, 1, 1, 1179]}, \"node\": {\"color\": \"blue\", \"label\": [\"Bureau\", \"Bureau\", \"Bureau\", \"Bureau\", \"Bureau\", \"Bureau\", \"Bureau\", \"Bureau\", \"Bureau\", \"Bureau\", \"Bureau\", \"Bureau\", \"Bureau\", \"Bureau\", \"Bureau\", \"Bureau\", \"B\\u00e2timent technique\", \"B\\u00e2timent technique\", \"B\\u00e2timent technique\", \"B\\u00e2timent technique\", \"B\\u00e2timent technique\", \"B\\u00e2timent technique\", \"B\\u00e2timent technique\", \"B\\u00e2timent technique\", \"B\\u00e2timent technique\", \"B\\u00e2timent technique\", \"B\\u00e2timent technique\", \"B\\u00e2timent technique\", \"B\\u00e2timent technique\", \"B\\u00e2timent technique\", \"B\\u00e2timent technique\", \"B\\u00e2timent technique\", \"B\\u00e2timent technique\", \"B\\u00e2timent technique\", \"B\\u00e2timent technique\", \"B\\u00e2timent technique\", \"B\\u00e2timent technique\", \"B\\u00e2timent technique\", \"B\\u00e2timent technique\", \"B\\u00e2timent technique\", \"B\\u00e2timent technique\", \"B\\u00e2timent technique\", \"Espace am\\u00e9nag\\u00e9\", \"Espace am\\u00e9nag\\u00e9\", \"Espace am\\u00e9nag\\u00e9\", \"Espace am\\u00e9nag\\u00e9\", \"Espace am\\u00e9nag\\u00e9\", \"Espace am\\u00e9nag\\u00e9\", \"Espace am\\u00e9nag\\u00e9\", \"Espace am\\u00e9nag\\u00e9\", \"Espace am\\u00e9nag\\u00e9\", \"Espace am\\u00e9nag\\u00e9\", \"Espace am\\u00e9nag\\u00e9\", \"Espace am\\u00e9nag\\u00e9\", \"Ambassade\", \"Atelier r\\u00e9paration, entretien\", \"Biblioth\\u00e8que\", \"B\\u00e2timent de casernement\", \"Centre d'examen\", \"Chenil\", \"Commissariat\", \"D\\u00e9p\\u00f4t d'archives\", \"Garage\", \"Gendarmerie\", \"Immeuble de bureaux\", \"Laboratoire\", \"Pr\\u00e9fecture\", \"Sous-pr\\u00e9fecture\", \"Tribunal\", \"Tr\\u00e9sorerie\", \"Ambassade\", \"Atelier r\\u00e9paration, entretien\", \"Blockhaus\", \"B\\u00e2t. restauration collective\", \"B\\u00e2timent agricole\", \"B\\u00e2timent de casernement\", \"B\\u00e2timent de stockage\", \"B\\u00e2timent scientifique\", \"B\\u00e2timent technique\", \"Centre Informatique\", \"Centre entretien, intervention\", \"Chenil\", \"Commissariat\", \"Consulat\", \"D\\u00e9p\\u00f4t d'archives\", \"Garage\", \"Gendarmerie\", \"Immeuble de bureaux\", \"Inst. prod. ou transf. \\u00e9nergie\", \"Installation production indus.\", \"Observatoire\", \"Ouvrage de t\\u00e9l\\u00e9communication\", \"Poste de commandement\", \"Pr\\u00e9fecture\", \"Stand de tir\", \"Terrain de jeux ou de loisirs\", \"Aire de lavage\", \"Aire de stationnement\", \"Atelier r\\u00e9paration, entretien\", \"B\\u00e2timent technique\", \"Camp d'entra\\u00eenement\", \"Champ d'exercice\", \"Champ de tir\", \"D\\u00e9charge\", \"Gendarmerie\", \"Installation a\\u00e9roportuaire\", \"Plateforme a\\u00e9ronautique\", \"Terrain de jeux ou de loisirs\"], \"pad\": 5, \"thickness\": 80}, \"type\": \"sankey\"}],\n",
              "                        {\"font\": {\"size\": 9}, \"template\": {\"data\": {\"bar\": [{\"error_x\": {\"color\": \"#2a3f5f\"}, \"error_y\": {\"color\": \"#2a3f5f\"}, \"marker\": {\"line\": {\"color\": \"#E5ECF6\", \"width\": 0.5}}, \"type\": \"bar\"}], \"barpolar\": [{\"marker\": {\"line\": {\"color\": \"#E5ECF6\", \"width\": 0.5}}, \"type\": \"barpolar\"}], \"carpet\": [{\"aaxis\": {\"endlinecolor\": \"#2a3f5f\", \"gridcolor\": \"white\", \"linecolor\": \"white\", \"minorgridcolor\": \"white\", \"startlinecolor\": \"#2a3f5f\"}, \"baxis\": {\"endlinecolor\": \"#2a3f5f\", \"gridcolor\": \"white\", \"linecolor\": \"white\", \"minorgridcolor\": \"white\", \"startlinecolor\": \"#2a3f5f\"}, \"type\": \"carpet\"}], \"choropleth\": [{\"colorbar\": {\"outlinewidth\": 0, \"ticks\": \"\"}, \"type\": \"choropleth\"}], \"contour\": [{\"colorbar\": {\"outlinewidth\": 0, \"ticks\": \"\"}, \"colorscale\": [[0.0, \"#0d0887\"], [0.1111111111111111, \"#46039f\"], [0.2222222222222222, \"#7201a8\"], [0.3333333333333333, \"#9c179e\"], [0.4444444444444444, \"#bd3786\"], [0.5555555555555556, \"#d8576b\"], [0.6666666666666666, \"#ed7953\"], [0.7777777777777778, \"#fb9f3a\"], [0.8888888888888888, \"#fdca26\"], [1.0, \"#f0f921\"]], \"type\": \"contour\"}], \"contourcarpet\": [{\"colorbar\": {\"outlinewidth\": 0, \"ticks\": \"\"}, \"type\": \"contourcarpet\"}], \"heatmap\": [{\"colorbar\": {\"outlinewidth\": 0, \"ticks\": \"\"}, \"colorscale\": [[0.0, \"#0d0887\"], [0.1111111111111111, \"#46039f\"], [0.2222222222222222, \"#7201a8\"], [0.3333333333333333, \"#9c179e\"], [0.4444444444444444, \"#bd3786\"], [0.5555555555555556, \"#d8576b\"], [0.6666666666666666, \"#ed7953\"], [0.7777777777777778, \"#fb9f3a\"], [0.8888888888888888, \"#fdca26\"], [1.0, \"#f0f921\"]], \"type\": \"heatmap\"}], \"heatmapgl\": [{\"colorbar\": {\"outlinewidth\": 0, \"ticks\": \"\"}, \"colorscale\": [[0.0, \"#0d0887\"], [0.1111111111111111, \"#46039f\"], [0.2222222222222222, \"#7201a8\"], [0.3333333333333333, \"#9c179e\"], [0.4444444444444444, \"#bd3786\"], [0.5555555555555556, \"#d8576b\"], [0.6666666666666666, \"#ed7953\"], [0.7777777777777778, \"#fb9f3a\"], [0.8888888888888888, \"#fdca26\"], [1.0, \"#f0f921\"]], \"type\": \"heatmapgl\"}], \"histogram\": [{\"marker\": {\"colorbar\": {\"outlinewidth\": 0, \"ticks\": \"\"}}, \"type\": \"histogram\"}], \"histogram2d\": [{\"colorbar\": {\"outlinewidth\": 0, \"ticks\": \"\"}, \"colorscale\": [[0.0, \"#0d0887\"], [0.1111111111111111, \"#46039f\"], [0.2222222222222222, \"#7201a8\"], [0.3333333333333333, \"#9c179e\"], [0.4444444444444444, \"#bd3786\"], [0.5555555555555556, \"#d8576b\"], [0.6666666666666666, \"#ed7953\"], [0.7777777777777778, \"#fb9f3a\"], [0.8888888888888888, \"#fdca26\"], [1.0, \"#f0f921\"]], \"type\": \"histogram2d\"}], \"histogram2dcontour\": [{\"colorbar\": {\"outlinewidth\": 0, \"ticks\": \"\"}, \"colorscale\": [[0.0, \"#0d0887\"], [0.1111111111111111, \"#46039f\"], [0.2222222222222222, \"#7201a8\"], [0.3333333333333333, \"#9c179e\"], [0.4444444444444444, \"#bd3786\"], [0.5555555555555556, \"#d8576b\"], [0.6666666666666666, \"#ed7953\"], [0.7777777777777778, \"#fb9f3a\"], [0.8888888888888888, \"#fdca26\"], [1.0, \"#f0f921\"]], \"type\": \"histogram2dcontour\"}], \"mesh3d\": [{\"colorbar\": {\"outlinewidth\": 0, \"ticks\": \"\"}, \"type\": \"mesh3d\"}], \"parcoords\": [{\"line\": {\"colorbar\": {\"outlinewidth\": 0, \"ticks\": \"\"}}, \"type\": \"parcoords\"}], \"pie\": [{\"automargin\": true, \"type\": \"pie\"}], \"scatter\": [{\"marker\": {\"colorbar\": {\"outlinewidth\": 0, \"ticks\": \"\"}}, \"type\": \"scatter\"}], \"scatter3d\": [{\"line\": {\"colorbar\": {\"outlinewidth\": 0, \"ticks\": \"\"}}, \"marker\": {\"colorbar\": {\"outlinewidth\": 0, \"ticks\": \"\"}}, \"type\": \"scatter3d\"}], \"scattercarpet\": [{\"marker\": {\"colorbar\": {\"outlinewidth\": 0, \"ticks\": \"\"}}, \"type\": \"scattercarpet\"}], \"scattergeo\": [{\"marker\": {\"colorbar\": {\"outlinewidth\": 0, \"ticks\": \"\"}}, \"type\": \"scattergeo\"}], \"scattergl\": [{\"marker\": {\"colorbar\": {\"outlinewidth\": 0, \"ticks\": \"\"}}, \"type\": \"scattergl\"}], \"scattermapbox\": [{\"marker\": {\"colorbar\": {\"outlinewidth\": 0, \"ticks\": \"\"}}, \"type\": \"scattermapbox\"}], \"scatterpolar\": [{\"marker\": {\"colorbar\": {\"outlinewidth\": 0, \"ticks\": \"\"}}, \"type\": \"scatterpolar\"}], \"scatterpolargl\": [{\"marker\": {\"colorbar\": {\"outlinewidth\": 0, \"ticks\": \"\"}}, \"type\": \"scatterpolargl\"}], \"scatterternary\": [{\"marker\": {\"colorbar\": {\"outlinewidth\": 0, \"ticks\": \"\"}}, \"type\": \"scatterternary\"}], \"surface\": [{\"colorbar\": {\"outlinewidth\": 0, \"ticks\": \"\"}, \"colorscale\": [[0.0, \"#0d0887\"], [0.1111111111111111, \"#46039f\"], [0.2222222222222222, \"#7201a8\"], [0.3333333333333333, \"#9c179e\"], [0.4444444444444444, \"#bd3786\"], [0.5555555555555556, \"#d8576b\"], [0.6666666666666666, \"#ed7953\"], [0.7777777777777778, \"#fb9f3a\"], [0.8888888888888888, \"#fdca26\"], [1.0, \"#f0f921\"]], \"type\": \"surface\"}], \"table\": [{\"cells\": {\"fill\": {\"color\": \"#EBF0F8\"}, \"line\": {\"color\": \"white\"}}, \"header\": {\"fill\": {\"color\": \"#C8D4E3\"}, \"line\": {\"color\": \"white\"}}, \"type\": \"table\"}]}, \"layout\": {\"annotationdefaults\": {\"arrowcolor\": \"#2a3f5f\", \"arrowhead\": 0, \"arrowwidth\": 1}, \"coloraxis\": {\"colorbar\": {\"outlinewidth\": 0, \"ticks\": \"\"}}, \"colorscale\": {\"diverging\": [[0, \"#8e0152\"], [0.1, \"#c51b7d\"], [0.2, \"#de77ae\"], [0.3, \"#f1b6da\"], [0.4, \"#fde0ef\"], [0.5, \"#f7f7f7\"], [0.6, \"#e6f5d0\"], [0.7, \"#b8e186\"], [0.8, \"#7fbc41\"], [0.9, \"#4d9221\"], [1, \"#276419\"]], \"sequential\": [[0.0, \"#0d0887\"], [0.1111111111111111, \"#46039f\"], [0.2222222222222222, \"#7201a8\"], [0.3333333333333333, \"#9c179e\"], [0.4444444444444444, \"#bd3786\"], [0.5555555555555556, \"#d8576b\"], [0.6666666666666666, \"#ed7953\"], [0.7777777777777778, \"#fb9f3a\"], [0.8888888888888888, \"#fdca26\"], [1.0, \"#f0f921\"]], \"sequentialminus\": [[0.0, \"#0d0887\"], [0.1111111111111111, \"#46039f\"], [0.2222222222222222, \"#7201a8\"], [0.3333333333333333, \"#9c179e\"], [0.4444444444444444, \"#bd3786\"], [0.5555555555555556, \"#d8576b\"], [0.6666666666666666, \"#ed7953\"], [0.7777777777777778, \"#fb9f3a\"], [0.8888888888888888, \"#fdca26\"], [1.0, \"#f0f921\"]]}, \"colorway\": [\"#636efa\", \"#EF553B\", \"#00cc96\", \"#ab63fa\", \"#FFA15A\", \"#19d3f3\", \"#FF6692\", \"#B6E880\", \"#FF97FF\", \"#FECB52\"], \"font\": {\"color\": \"#2a3f5f\"}, \"geo\": {\"bgcolor\": \"white\", \"lakecolor\": \"white\", \"landcolor\": \"#E5ECF6\", \"showlakes\": true, \"showland\": true, \"subunitcolor\": \"white\"}, \"hoverlabel\": {\"align\": \"left\"}, \"hovermode\": \"closest\", \"mapbox\": {\"style\": \"light\"}, \"paper_bgcolor\": \"white\", \"plot_bgcolor\": \"#E5ECF6\", \"polar\": {\"angularaxis\": {\"gridcolor\": \"white\", \"linecolor\": \"white\", \"ticks\": \"\"}, \"bgcolor\": \"#E5ECF6\", \"radialaxis\": {\"gridcolor\": \"white\", \"linecolor\": \"white\", \"ticks\": \"\"}}, \"scene\": {\"xaxis\": {\"backgroundcolor\": \"#E5ECF6\", \"gridcolor\": \"white\", \"gridwidth\": 2, \"linecolor\": \"white\", \"showbackground\": true, \"ticks\": \"\", \"zerolinecolor\": \"white\"}, \"yaxis\": {\"backgroundcolor\": \"#E5ECF6\", \"gridcolor\": \"white\", \"gridwidth\": 2, \"linecolor\": \"white\", \"showbackground\": true, \"ticks\": \"\", \"zerolinecolor\": \"white\"}, \"zaxis\": {\"backgroundcolor\": \"#E5ECF6\", \"gridcolor\": \"white\", \"gridwidth\": 2, \"linecolor\": \"white\", \"showbackground\": true, \"ticks\": \"\", \"zerolinecolor\": \"white\"}}, \"shapedefaults\": {\"line\": {\"color\": \"#2a3f5f\"}}, \"ternary\": {\"aaxis\": {\"gridcolor\": \"white\", \"linecolor\": \"white\", \"ticks\": \"\"}, \"baxis\": {\"gridcolor\": \"white\", \"linecolor\": \"white\", \"ticks\": \"\"}, \"bgcolor\": \"#E5ECF6\", \"caxis\": {\"gridcolor\": \"white\", \"linecolor\": \"white\", \"ticks\": \"\"}}, \"title\": {\"x\": 0.05}, \"xaxis\": {\"automargin\": true, \"gridcolor\": \"white\", \"linecolor\": \"white\", \"ticks\": \"\", \"title\": {\"standoff\": 15}, \"zerolinecolor\": \"white\", \"zerolinewidth\": 2}, \"yaxis\": {\"automargin\": true, \"gridcolor\": \"white\", \"linecolor\": \"white\", \"ticks\": \"\", \"title\": {\"standoff\": 15}, \"zerolinecolor\": \"white\", \"zerolinewidth\": 2}}}, \"title\": {\"text\": \"visualisation de la repartiion des fonctions des differents de types de batiments pour 2014 \"}},\n",
              "                        {\"responsive\": true}\n",
              "                    ).then(function(){\n",
              "                            \n",
              "var gd = document.getElementById('5f44a4d9-478d-4bd1-82a6-d803d501fb9b');\n",
              "var x = new MutationObserver(function (mutations, observer) {{\n",
              "        var display = window.getComputedStyle(gd).display;\n",
              "        if (!display || display === 'none') {{\n",
              "            console.log([gd, 'removed!']);\n",
              "            Plotly.purge(gd);\n",
              "            observer.disconnect();\n",
              "        }}\n",
              "}});\n",
              "\n",
              "// Listen for the removal of the full notebook cells\n",
              "var notebookContainer = gd.closest('#notebook-container');\n",
              "if (notebookContainer) {{\n",
              "    x.observe(notebookContainer, {childList: true});\n",
              "}}\n",
              "\n",
              "// Listen for the clearing of the current output cell\n",
              "var outputEl = gd.closest('.output');\n",
              "if (outputEl) {{\n",
              "    x.observe(outputEl, {childList: true});\n",
              "}}\n",
              "\n",
              "                        })\n",
              "                };\n",
              "                \n",
              "            </script>\n",
              "        </div>\n",
              "</body>\n",
              "</html>"
            ]
          },
          "metadata": {
            "tags": []
          }
        }
      ]
    },
    {
      "cell_type": "markdown",
      "metadata": {
        "id": "f1a1xNCF8D_Q"
      },
      "source": [
        "Les 2420 batiments de type bureau se repartissent en 16 sous categories.les immeubles de bureaux , la gendarmerie et les commissariats representent la proportion la plus importante.\n",
        "les batiments techniques sont une sous categorie du type espace aménagé. ils se distinguent en 26 sous parties.\n",
        "Les batiments de stockages, d'ateliers reparation et les batiments techniques sont les plus nombreux pour ce type de batiments.\n",
        "les espaces aménagés sont au nombre de 2855 et se dintinguent en 12 sous categories.\n",
        "Les aires de stationnements ainsi que les terrains de jeux et loisirs reprensentent la plus grande parti de ce type de batiment\n"
      ]
    },
    {
      "cell_type": "code",
      "metadata": {
        "id": "KsY82FUbnpSb"
      },
      "source": [
        "df13type_fonction=df13.groupby(['Type','Fonction']).count()\n",
        "df13type_fonction=df13type_fonction['count']\n",
        "df13type_fonction=df13type_fonction.to_frame()\n",
        "df13type_fonction=df13type_fonction.reset_index()\n",
        "df13type_fonction=df13type_fonction.set_index('Type')\n",
        "df_diagsankey13=df13type_fonction.loc[[\"Bureau\",\"Bâtiment technique\",'Espace aménagé']]\n",
        "sank13=df_diagsankey13.reset_index()"
      ],
      "execution_count": null,
      "outputs": []
    },
    {
      "cell_type": "code",
      "metadata": {
        "id": "2yTeGuyai7JO",
        "outputId": "64c89328-d29f-4fcf-81ba-605735478394",
        "colab": {
          "base_uri": "https://localhost:8080/",
          "height": 1000
        }
      },
      "source": [
        "sank13"
      ],
      "execution_count": null,
      "outputs": [
        {
          "output_type": "execute_result",
          "data": {
            "text/html": [
              "<div>\n",
              "<style scoped>\n",
              "    .dataframe tbody tr th:only-of-type {\n",
              "        vertical-align: middle;\n",
              "    }\n",
              "\n",
              "    .dataframe tbody tr th {\n",
              "        vertical-align: top;\n",
              "    }\n",
              "\n",
              "    .dataframe thead th {\n",
              "        text-align: right;\n",
              "    }\n",
              "</style>\n",
              "<table border=\"1\" class=\"dataframe\">\n",
              "  <thead>\n",
              "    <tr style=\"text-align: right;\">\n",
              "      <th></th>\n",
              "      <th>Type</th>\n",
              "      <th>Fonction</th>\n",
              "      <th>count</th>\n",
              "    </tr>\n",
              "  </thead>\n",
              "  <tbody>\n",
              "    <tr>\n",
              "      <th>0</th>\n",
              "      <td>Bureau</td>\n",
              "      <td>Ambassade</td>\n",
              "      <td>4</td>\n",
              "    </tr>\n",
              "    <tr>\n",
              "      <th>1</th>\n",
              "      <td>Bureau</td>\n",
              "      <td>Bât. restauration collective</td>\n",
              "      <td>1</td>\n",
              "    </tr>\n",
              "    <tr>\n",
              "      <th>2</th>\n",
              "      <td>Bureau</td>\n",
              "      <td>Bâtiment de stockage</td>\n",
              "      <td>1</td>\n",
              "    </tr>\n",
              "    <tr>\n",
              "      <th>3</th>\n",
              "      <td>Bureau</td>\n",
              "      <td>Commissariat</td>\n",
              "      <td>650</td>\n",
              "    </tr>\n",
              "    <tr>\n",
              "      <th>4</th>\n",
              "      <td>Bureau</td>\n",
              "      <td>Dépôt d'archives</td>\n",
              "      <td>1</td>\n",
              "    </tr>\n",
              "    <tr>\n",
              "      <th>5</th>\n",
              "      <td>Bureau</td>\n",
              "      <td>Gendarmerie</td>\n",
              "      <td>2316</td>\n",
              "    </tr>\n",
              "    <tr>\n",
              "      <th>6</th>\n",
              "      <td>Bureau</td>\n",
              "      <td>Immeuble de bureaux</td>\n",
              "      <td>404</td>\n",
              "    </tr>\n",
              "    <tr>\n",
              "      <th>7</th>\n",
              "      <td>Bureau</td>\n",
              "      <td>Préfecture</td>\n",
              "      <td>96</td>\n",
              "    </tr>\n",
              "    <tr>\n",
              "      <th>8</th>\n",
              "      <td>Bureau</td>\n",
              "      <td>Sous-préfecture</td>\n",
              "      <td>48</td>\n",
              "    </tr>\n",
              "    <tr>\n",
              "      <th>9</th>\n",
              "      <td>Bureau</td>\n",
              "      <td>Tribunal</td>\n",
              "      <td>3</td>\n",
              "    </tr>\n",
              "    <tr>\n",
              "      <th>10</th>\n",
              "      <td>Bureau</td>\n",
              "      <td>Trésorerie</td>\n",
              "      <td>1</td>\n",
              "    </tr>\n",
              "    <tr>\n",
              "      <th>11</th>\n",
              "      <td>Bâtiment technique</td>\n",
              "      <td>Atelier réparation, entretien</td>\n",
              "      <td>858</td>\n",
              "    </tr>\n",
              "    <tr>\n",
              "      <th>12</th>\n",
              "      <td>Bâtiment technique</td>\n",
              "      <td>Blockhaus</td>\n",
              "      <td>5</td>\n",
              "    </tr>\n",
              "    <tr>\n",
              "      <th>13</th>\n",
              "      <td>Bâtiment technique</td>\n",
              "      <td>Bâtiment de stockage</td>\n",
              "      <td>719</td>\n",
              "    </tr>\n",
              "    <tr>\n",
              "      <th>14</th>\n",
              "      <td>Bâtiment technique</td>\n",
              "      <td>Bâtiment scientifique</td>\n",
              "      <td>4</td>\n",
              "    </tr>\n",
              "    <tr>\n",
              "      <th>15</th>\n",
              "      <td>Bâtiment technique</td>\n",
              "      <td>Bâtiment technique</td>\n",
              "      <td>658</td>\n",
              "    </tr>\n",
              "    <tr>\n",
              "      <th>16</th>\n",
              "      <td>Bâtiment technique</td>\n",
              "      <td>Centre Informatique</td>\n",
              "      <td>1</td>\n",
              "    </tr>\n",
              "    <tr>\n",
              "      <th>17</th>\n",
              "      <td>Bâtiment technique</td>\n",
              "      <td>Centre entretien, intervention</td>\n",
              "      <td>7</td>\n",
              "    </tr>\n",
              "    <tr>\n",
              "      <th>18</th>\n",
              "      <td>Bâtiment technique</td>\n",
              "      <td>Commissariat</td>\n",
              "      <td>5</td>\n",
              "    </tr>\n",
              "    <tr>\n",
              "      <th>19</th>\n",
              "      <td>Bâtiment technique</td>\n",
              "      <td>Consulat</td>\n",
              "      <td>1</td>\n",
              "    </tr>\n",
              "    <tr>\n",
              "      <th>20</th>\n",
              "      <td>Bâtiment technique</td>\n",
              "      <td>Dépôt d'archives</td>\n",
              "      <td>26</td>\n",
              "    </tr>\n",
              "    <tr>\n",
              "      <th>21</th>\n",
              "      <td>Bâtiment technique</td>\n",
              "      <td>Garage</td>\n",
              "      <td>500</td>\n",
              "    </tr>\n",
              "    <tr>\n",
              "      <th>22</th>\n",
              "      <td>Bâtiment technique</td>\n",
              "      <td>Gendarmerie</td>\n",
              "      <td>62</td>\n",
              "    </tr>\n",
              "    <tr>\n",
              "      <th>23</th>\n",
              "      <td>Bâtiment technique</td>\n",
              "      <td>Inst. prod. ou transf. énergie</td>\n",
              "      <td>2</td>\n",
              "    </tr>\n",
              "    <tr>\n",
              "      <th>24</th>\n",
              "      <td>Bâtiment technique</td>\n",
              "      <td>Installation production indus.</td>\n",
              "      <td>5</td>\n",
              "    </tr>\n",
              "    <tr>\n",
              "      <th>25</th>\n",
              "      <td>Bâtiment technique</td>\n",
              "      <td>Laboratoire</td>\n",
              "      <td>1</td>\n",
              "    </tr>\n",
              "    <tr>\n",
              "      <th>26</th>\n",
              "      <td>Bâtiment technique</td>\n",
              "      <td>Observatoire</td>\n",
              "      <td>4</td>\n",
              "    </tr>\n",
              "    <tr>\n",
              "      <th>27</th>\n",
              "      <td>Bâtiment technique</td>\n",
              "      <td>Ouvrage de télécommunication</td>\n",
              "      <td>3</td>\n",
              "    </tr>\n",
              "    <tr>\n",
              "      <th>28</th>\n",
              "      <td>Bâtiment technique</td>\n",
              "      <td>Poste de commandement</td>\n",
              "      <td>15</td>\n",
              "    </tr>\n",
              "    <tr>\n",
              "      <th>29</th>\n",
              "      <td>Bâtiment technique</td>\n",
              "      <td>Stand de tir</td>\n",
              "      <td>50</td>\n",
              "    </tr>\n",
              "    <tr>\n",
              "      <th>30</th>\n",
              "      <td>Espace aménagé</td>\n",
              "      <td>Aire de lavage</td>\n",
              "      <td>254</td>\n",
              "    </tr>\n",
              "    <tr>\n",
              "      <th>31</th>\n",
              "      <td>Espace aménagé</td>\n",
              "      <td>Aire de stationnement</td>\n",
              "      <td>818</td>\n",
              "    </tr>\n",
              "    <tr>\n",
              "      <th>32</th>\n",
              "      <td>Espace aménagé</td>\n",
              "      <td>Camp d'entraînement</td>\n",
              "      <td>7</td>\n",
              "    </tr>\n",
              "    <tr>\n",
              "      <th>33</th>\n",
              "      <td>Espace aménagé</td>\n",
              "      <td>Champ d'exercice</td>\n",
              "      <td>164</td>\n",
              "    </tr>\n",
              "    <tr>\n",
              "      <th>34</th>\n",
              "      <td>Espace aménagé</td>\n",
              "      <td>Champ de tir</td>\n",
              "      <td>3</td>\n",
              "    </tr>\n",
              "    <tr>\n",
              "      <th>35</th>\n",
              "      <td>Espace aménagé</td>\n",
              "      <td>Décharge</td>\n",
              "      <td>2</td>\n",
              "    </tr>\n",
              "    <tr>\n",
              "      <th>36</th>\n",
              "      <td>Espace aménagé</td>\n",
              "      <td>Gendarmerie</td>\n",
              "      <td>14</td>\n",
              "    </tr>\n",
              "    <tr>\n",
              "      <th>37</th>\n",
              "      <td>Espace aménagé</td>\n",
              "      <td>Installation aéroportuaire</td>\n",
              "      <td>1</td>\n",
              "    </tr>\n",
              "    <tr>\n",
              "      <th>38</th>\n",
              "      <td>Espace aménagé</td>\n",
              "      <td>Plateforme aéronautique</td>\n",
              "      <td>1</td>\n",
              "    </tr>\n",
              "    <tr>\n",
              "      <th>39</th>\n",
              "      <td>Espace aménagé</td>\n",
              "      <td>Terrain cultivé</td>\n",
              "      <td>1</td>\n",
              "    </tr>\n",
              "    <tr>\n",
              "      <th>40</th>\n",
              "      <td>Espace aménagé</td>\n",
              "      <td>Terrain de jeux ou de loisirs</td>\n",
              "      <td>1189</td>\n",
              "    </tr>\n",
              "  </tbody>\n",
              "</table>\n",
              "</div>"
            ],
            "text/plain": [
              "                  Type                        Fonction  count\n",
              "0               Bureau                       Ambassade      4\n",
              "1               Bureau    Bât. restauration collective      1\n",
              "2               Bureau            Bâtiment de stockage      1\n",
              "3               Bureau                    Commissariat    650\n",
              "4               Bureau                Dépôt d'archives      1\n",
              "5               Bureau                     Gendarmerie   2316\n",
              "6               Bureau             Immeuble de bureaux    404\n",
              "7               Bureau                      Préfecture     96\n",
              "8               Bureau                 Sous-préfecture     48\n",
              "9               Bureau                        Tribunal      3\n",
              "10              Bureau                      Trésorerie      1\n",
              "11  Bâtiment technique   Atelier réparation, entretien    858\n",
              "12  Bâtiment technique                       Blockhaus      5\n",
              "13  Bâtiment technique            Bâtiment de stockage    719\n",
              "14  Bâtiment technique           Bâtiment scientifique      4\n",
              "15  Bâtiment technique              Bâtiment technique    658\n",
              "16  Bâtiment technique             Centre Informatique      1\n",
              "17  Bâtiment technique  Centre entretien, intervention      7\n",
              "18  Bâtiment technique                    Commissariat      5\n",
              "19  Bâtiment technique                        Consulat      1\n",
              "20  Bâtiment technique                Dépôt d'archives     26\n",
              "21  Bâtiment technique                          Garage    500\n",
              "22  Bâtiment technique                     Gendarmerie     62\n",
              "23  Bâtiment technique  Inst. prod. ou transf. énergie      2\n",
              "24  Bâtiment technique  Installation production indus.      5\n",
              "25  Bâtiment technique                     Laboratoire      1\n",
              "26  Bâtiment technique                    Observatoire      4\n",
              "27  Bâtiment technique    Ouvrage de télécommunication      3\n",
              "28  Bâtiment technique           Poste de commandement     15\n",
              "29  Bâtiment technique                    Stand de tir     50\n",
              "30      Espace aménagé                  Aire de lavage    254\n",
              "31      Espace aménagé           Aire de stationnement    818\n",
              "32      Espace aménagé             Camp d'entraînement      7\n",
              "33      Espace aménagé                Champ d'exercice    164\n",
              "34      Espace aménagé                    Champ de tir      3\n",
              "35      Espace aménagé                        Décharge      2\n",
              "36      Espace aménagé                     Gendarmerie     14\n",
              "37      Espace aménagé      Installation aéroportuaire      1\n",
              "38      Espace aménagé         Plateforme aéronautique      1\n",
              "39      Espace aménagé                 Terrain cultivé      1\n",
              "40      Espace aménagé   Terrain de jeux ou de loisirs   1189"
            ]
          },
          "metadata": {
            "tags": []
          },
          "execution_count": 202
        }
      ]
    },
    {
      "cell_type": "code",
      "metadata": {
        "id": "73kvC_MboDdq",
        "outputId": "824d2960-db30-489a-daef-61bd4d8ffb5f",
        "colab": {
          "base_uri": "https://localhost:8080/",
          "height": 542
        }
      },
      "source": [
        "all_nodes = sank13.Type.values.tolist() + sank13.Fonction.values.tolist()\n",
        "source_indices = [all_nodes.index(types) for types in sank13.Type]\n",
        "target_indices = [all_nodes.index(fonction) for fonction in sank13.Fonction]\n",
        "\n",
        "fig = go.Figure(data=[go.Sankey(\n",
        "    # Define nodes\n",
        "    node = dict(\n",
        "      pad = 5,\n",
        "      thickness = 80,\n",
        "      label =  all_nodes,\n",
        "      color =  \"yellow\"\n",
        "      \n",
        "    ),\n",
        "\n",
        "    # Add links\n",
        "    link = dict(\n",
        "      source =  source_indices,\n",
        "      target =  target_indices,\n",
        "      value =  sank13['count'],\n",
        "))])\n",
        "\n",
        "fig.update_layout(title_text=\"visualisation de la repartiion des fonctions des differents de types de batiments pour 2013 \",\n",
        "                  font_size=9)\n",
        "fig.show()"
      ],
      "execution_count": null,
      "outputs": [
        {
          "output_type": "display_data",
          "data": {
            "text/html": [
              "<html>\n",
              "<head><meta charset=\"utf-8\" /></head>\n",
              "<body>\n",
              "    <div>\n",
              "            <script src=\"https://cdnjs.cloudflare.com/ajax/libs/mathjax/2.7.5/MathJax.js?config=TeX-AMS-MML_SVG\"></script><script type=\"text/javascript\">if (window.MathJax) {MathJax.Hub.Config({SVG: {font: \"STIX-Web\"}});}</script>\n",
              "                <script type=\"text/javascript\">window.PlotlyConfig = {MathJaxConfig: 'local'};</script>\n",
              "        <script src=\"https://cdn.plot.ly/plotly-latest.min.js\"></script>    \n",
              "            <div id=\"30ad36f7-0ca1-4d9c-b6e9-e3dbc2cb7d17\" class=\"plotly-graph-div\" style=\"height:525px; width:100%;\"></div>\n",
              "            <script type=\"text/javascript\">\n",
              "                \n",
              "                    window.PLOTLYENV=window.PLOTLYENV || {};\n",
              "                    \n",
              "                if (document.getElementById(\"30ad36f7-0ca1-4d9c-b6e9-e3dbc2cb7d17\")) {\n",
              "                    Plotly.newPlot(\n",
              "                        '30ad36f7-0ca1-4d9c-b6e9-e3dbc2cb7d17',\n",
              "                        [{\"link\": {\"source\": [0, 0, 0, 0, 0, 0, 0, 0, 0, 0, 0, 11, 11, 11, 11, 11, 11, 11, 11, 11, 11, 11, 11, 11, 11, 11, 11, 11, 11, 11, 30, 30, 30, 30, 30, 30, 30, 30, 30, 30, 30], \"target\": [41, 42, 43, 44, 45, 46, 47, 48, 49, 50, 51, 52, 53, 43, 55, 11, 57, 58, 44, 60, 45, 62, 46, 64, 65, 66, 67, 68, 69, 70, 71, 72, 73, 74, 75, 76, 46, 78, 79, 80, 81], \"value\": [4, 1, 1, 650, 1, 2316, 404, 96, 48, 3, 1, 858, 5, 719, 4, 658, 1, 7, 5, 1, 26, 500, 62, 2, 5, 1, 4, 3, 15, 50, 254, 818, 7, 164, 3, 2, 14, 1, 1, 1, 1189]}, \"node\": {\"color\": \"yellow\", \"label\": [\"Bureau\", \"Bureau\", \"Bureau\", \"Bureau\", \"Bureau\", \"Bureau\", \"Bureau\", \"Bureau\", \"Bureau\", \"Bureau\", \"Bureau\", \"B\\u00e2timent technique\", \"B\\u00e2timent technique\", \"B\\u00e2timent technique\", \"B\\u00e2timent technique\", \"B\\u00e2timent technique\", \"B\\u00e2timent technique\", \"B\\u00e2timent technique\", \"B\\u00e2timent technique\", \"B\\u00e2timent technique\", \"B\\u00e2timent technique\", \"B\\u00e2timent technique\", \"B\\u00e2timent technique\", \"B\\u00e2timent technique\", \"B\\u00e2timent technique\", \"B\\u00e2timent technique\", \"B\\u00e2timent technique\", \"B\\u00e2timent technique\", \"B\\u00e2timent technique\", \"B\\u00e2timent technique\", \"Espace am\\u00e9nag\\u00e9\", \"Espace am\\u00e9nag\\u00e9\", \"Espace am\\u00e9nag\\u00e9\", \"Espace am\\u00e9nag\\u00e9\", \"Espace am\\u00e9nag\\u00e9\", \"Espace am\\u00e9nag\\u00e9\", \"Espace am\\u00e9nag\\u00e9\", \"Espace am\\u00e9nag\\u00e9\", \"Espace am\\u00e9nag\\u00e9\", \"Espace am\\u00e9nag\\u00e9\", \"Espace am\\u00e9nag\\u00e9\", \"Ambassade\", \"B\\u00e2t. restauration collective\", \"B\\u00e2timent de stockage\", \"Commissariat\", \"D\\u00e9p\\u00f4t d'archives\", \"Gendarmerie\", \"Immeuble de bureaux\", \"Pr\\u00e9fecture\", \"Sous-pr\\u00e9fecture\", \"Tribunal\", \"Tr\\u00e9sorerie\", \"Atelier r\\u00e9paration, entretien\", \"Blockhaus\", \"B\\u00e2timent de stockage\", \"B\\u00e2timent scientifique\", \"B\\u00e2timent technique\", \"Centre Informatique\", \"Centre entretien, intervention\", \"Commissariat\", \"Consulat\", \"D\\u00e9p\\u00f4t d'archives\", \"Garage\", \"Gendarmerie\", \"Inst. prod. ou transf. \\u00e9nergie\", \"Installation production indus.\", \"Laboratoire\", \"Observatoire\", \"Ouvrage de t\\u00e9l\\u00e9communication\", \"Poste de commandement\", \"Stand de tir\", \"Aire de lavage\", \"Aire de stationnement\", \"Camp d'entra\\u00eenement\", \"Champ d'exercice\", \"Champ de tir\", \"D\\u00e9charge\", \"Gendarmerie\", \"Installation a\\u00e9roportuaire\", \"Plateforme a\\u00e9ronautique\", \"Terrain cultiv\\u00e9\", \"Terrain de jeux ou de loisirs\"], \"pad\": 5, \"thickness\": 80}, \"type\": \"sankey\"}],\n",
              "                        {\"font\": {\"size\": 9}, \"template\": {\"data\": {\"bar\": [{\"error_x\": {\"color\": \"#2a3f5f\"}, \"error_y\": {\"color\": \"#2a3f5f\"}, \"marker\": {\"line\": {\"color\": \"#E5ECF6\", \"width\": 0.5}}, \"type\": \"bar\"}], \"barpolar\": [{\"marker\": {\"line\": {\"color\": \"#E5ECF6\", \"width\": 0.5}}, \"type\": \"barpolar\"}], \"carpet\": [{\"aaxis\": {\"endlinecolor\": \"#2a3f5f\", \"gridcolor\": \"white\", \"linecolor\": \"white\", \"minorgridcolor\": \"white\", \"startlinecolor\": \"#2a3f5f\"}, \"baxis\": {\"endlinecolor\": \"#2a3f5f\", \"gridcolor\": \"white\", \"linecolor\": \"white\", \"minorgridcolor\": \"white\", \"startlinecolor\": \"#2a3f5f\"}, \"type\": \"carpet\"}], \"choropleth\": [{\"colorbar\": {\"outlinewidth\": 0, \"ticks\": \"\"}, \"type\": \"choropleth\"}], \"contour\": [{\"colorbar\": {\"outlinewidth\": 0, \"ticks\": \"\"}, \"colorscale\": [[0.0, \"#0d0887\"], [0.1111111111111111, \"#46039f\"], [0.2222222222222222, \"#7201a8\"], [0.3333333333333333, \"#9c179e\"], [0.4444444444444444, \"#bd3786\"], [0.5555555555555556, \"#d8576b\"], [0.6666666666666666, \"#ed7953\"], [0.7777777777777778, \"#fb9f3a\"], [0.8888888888888888, \"#fdca26\"], [1.0, \"#f0f921\"]], \"type\": \"contour\"}], \"contourcarpet\": [{\"colorbar\": {\"outlinewidth\": 0, \"ticks\": \"\"}, \"type\": \"contourcarpet\"}], \"heatmap\": [{\"colorbar\": {\"outlinewidth\": 0, \"ticks\": \"\"}, \"colorscale\": [[0.0, \"#0d0887\"], [0.1111111111111111, \"#46039f\"], [0.2222222222222222, \"#7201a8\"], [0.3333333333333333, \"#9c179e\"], [0.4444444444444444, \"#bd3786\"], [0.5555555555555556, \"#d8576b\"], [0.6666666666666666, \"#ed7953\"], [0.7777777777777778, \"#fb9f3a\"], [0.8888888888888888, \"#fdca26\"], [1.0, \"#f0f921\"]], \"type\": \"heatmap\"}], \"heatmapgl\": [{\"colorbar\": {\"outlinewidth\": 0, \"ticks\": \"\"}, \"colorscale\": [[0.0, \"#0d0887\"], [0.1111111111111111, \"#46039f\"], [0.2222222222222222, \"#7201a8\"], [0.3333333333333333, \"#9c179e\"], [0.4444444444444444, \"#bd3786\"], [0.5555555555555556, \"#d8576b\"], [0.6666666666666666, \"#ed7953\"], [0.7777777777777778, \"#fb9f3a\"], [0.8888888888888888, \"#fdca26\"], [1.0, \"#f0f921\"]], \"type\": \"heatmapgl\"}], \"histogram\": [{\"marker\": {\"colorbar\": {\"outlinewidth\": 0, \"ticks\": \"\"}}, \"type\": \"histogram\"}], \"histogram2d\": [{\"colorbar\": {\"outlinewidth\": 0, \"ticks\": \"\"}, \"colorscale\": [[0.0, \"#0d0887\"], [0.1111111111111111, \"#46039f\"], [0.2222222222222222, \"#7201a8\"], [0.3333333333333333, \"#9c179e\"], [0.4444444444444444, \"#bd3786\"], [0.5555555555555556, \"#d8576b\"], [0.6666666666666666, \"#ed7953\"], [0.7777777777777778, \"#fb9f3a\"], [0.8888888888888888, \"#fdca26\"], [1.0, \"#f0f921\"]], \"type\": \"histogram2d\"}], \"histogram2dcontour\": [{\"colorbar\": {\"outlinewidth\": 0, \"ticks\": \"\"}, \"colorscale\": [[0.0, \"#0d0887\"], [0.1111111111111111, \"#46039f\"], [0.2222222222222222, \"#7201a8\"], [0.3333333333333333, \"#9c179e\"], [0.4444444444444444, \"#bd3786\"], [0.5555555555555556, \"#d8576b\"], [0.6666666666666666, \"#ed7953\"], [0.7777777777777778, \"#fb9f3a\"], [0.8888888888888888, \"#fdca26\"], [1.0, \"#f0f921\"]], \"type\": \"histogram2dcontour\"}], \"mesh3d\": [{\"colorbar\": {\"outlinewidth\": 0, \"ticks\": \"\"}, \"type\": \"mesh3d\"}], \"parcoords\": [{\"line\": {\"colorbar\": {\"outlinewidth\": 0, \"ticks\": \"\"}}, \"type\": \"parcoords\"}], \"pie\": [{\"automargin\": true, \"type\": \"pie\"}], \"scatter\": [{\"marker\": {\"colorbar\": {\"outlinewidth\": 0, \"ticks\": \"\"}}, \"type\": \"scatter\"}], \"scatter3d\": [{\"line\": {\"colorbar\": {\"outlinewidth\": 0, \"ticks\": \"\"}}, \"marker\": {\"colorbar\": {\"outlinewidth\": 0, \"ticks\": \"\"}}, \"type\": \"scatter3d\"}], \"scattercarpet\": [{\"marker\": {\"colorbar\": {\"outlinewidth\": 0, \"ticks\": \"\"}}, \"type\": \"scattercarpet\"}], \"scattergeo\": [{\"marker\": {\"colorbar\": {\"outlinewidth\": 0, \"ticks\": \"\"}}, \"type\": \"scattergeo\"}], \"scattergl\": [{\"marker\": {\"colorbar\": {\"outlinewidth\": 0, \"ticks\": \"\"}}, \"type\": \"scattergl\"}], \"scattermapbox\": [{\"marker\": {\"colorbar\": {\"outlinewidth\": 0, \"ticks\": \"\"}}, \"type\": \"scattermapbox\"}], \"scatterpolar\": [{\"marker\": {\"colorbar\": {\"outlinewidth\": 0, \"ticks\": \"\"}}, \"type\": \"scatterpolar\"}], \"scatterpolargl\": [{\"marker\": {\"colorbar\": {\"outlinewidth\": 0, \"ticks\": \"\"}}, \"type\": \"scatterpolargl\"}], \"scatterternary\": [{\"marker\": {\"colorbar\": {\"outlinewidth\": 0, \"ticks\": \"\"}}, \"type\": \"scatterternary\"}], \"surface\": [{\"colorbar\": {\"outlinewidth\": 0, \"ticks\": \"\"}, \"colorscale\": [[0.0, \"#0d0887\"], [0.1111111111111111, \"#46039f\"], [0.2222222222222222, \"#7201a8\"], [0.3333333333333333, \"#9c179e\"], [0.4444444444444444, \"#bd3786\"], [0.5555555555555556, \"#d8576b\"], [0.6666666666666666, \"#ed7953\"], [0.7777777777777778, \"#fb9f3a\"], [0.8888888888888888, \"#fdca26\"], [1.0, \"#f0f921\"]], \"type\": \"surface\"}], \"table\": [{\"cells\": {\"fill\": {\"color\": \"#EBF0F8\"}, \"line\": {\"color\": \"white\"}}, \"header\": {\"fill\": {\"color\": \"#C8D4E3\"}, \"line\": {\"color\": \"white\"}}, \"type\": \"table\"}]}, \"layout\": {\"annotationdefaults\": {\"arrowcolor\": \"#2a3f5f\", \"arrowhead\": 0, \"arrowwidth\": 1}, \"coloraxis\": {\"colorbar\": {\"outlinewidth\": 0, \"ticks\": \"\"}}, \"colorscale\": {\"diverging\": [[0, \"#8e0152\"], [0.1, \"#c51b7d\"], [0.2, \"#de77ae\"], [0.3, \"#f1b6da\"], [0.4, \"#fde0ef\"], [0.5, \"#f7f7f7\"], [0.6, \"#e6f5d0\"], [0.7, \"#b8e186\"], [0.8, \"#7fbc41\"], [0.9, \"#4d9221\"], [1, \"#276419\"]], \"sequential\": [[0.0, \"#0d0887\"], [0.1111111111111111, \"#46039f\"], [0.2222222222222222, \"#7201a8\"], [0.3333333333333333, \"#9c179e\"], [0.4444444444444444, \"#bd3786\"], [0.5555555555555556, \"#d8576b\"], [0.6666666666666666, \"#ed7953\"], [0.7777777777777778, \"#fb9f3a\"], [0.8888888888888888, \"#fdca26\"], [1.0, \"#f0f921\"]], \"sequentialminus\": [[0.0, \"#0d0887\"], [0.1111111111111111, \"#46039f\"], [0.2222222222222222, \"#7201a8\"], [0.3333333333333333, \"#9c179e\"], [0.4444444444444444, \"#bd3786\"], [0.5555555555555556, \"#d8576b\"], [0.6666666666666666, \"#ed7953\"], [0.7777777777777778, \"#fb9f3a\"], [0.8888888888888888, \"#fdca26\"], [1.0, \"#f0f921\"]]}, \"colorway\": [\"#636efa\", \"#EF553B\", \"#00cc96\", \"#ab63fa\", \"#FFA15A\", \"#19d3f3\", \"#FF6692\", \"#B6E880\", \"#FF97FF\", \"#FECB52\"], \"font\": {\"color\": \"#2a3f5f\"}, \"geo\": {\"bgcolor\": \"white\", \"lakecolor\": \"white\", \"landcolor\": \"#E5ECF6\", \"showlakes\": true, \"showland\": true, \"subunitcolor\": \"white\"}, \"hoverlabel\": {\"align\": \"left\"}, \"hovermode\": \"closest\", \"mapbox\": {\"style\": \"light\"}, \"paper_bgcolor\": \"white\", \"plot_bgcolor\": \"#E5ECF6\", \"polar\": {\"angularaxis\": {\"gridcolor\": \"white\", \"linecolor\": \"white\", \"ticks\": \"\"}, \"bgcolor\": \"#E5ECF6\", \"radialaxis\": {\"gridcolor\": \"white\", \"linecolor\": \"white\", \"ticks\": \"\"}}, \"scene\": {\"xaxis\": {\"backgroundcolor\": \"#E5ECF6\", \"gridcolor\": \"white\", \"gridwidth\": 2, \"linecolor\": \"white\", \"showbackground\": true, \"ticks\": \"\", \"zerolinecolor\": \"white\"}, \"yaxis\": {\"backgroundcolor\": \"#E5ECF6\", \"gridcolor\": \"white\", \"gridwidth\": 2, \"linecolor\": \"white\", \"showbackground\": true, \"ticks\": \"\", \"zerolinecolor\": \"white\"}, \"zaxis\": {\"backgroundcolor\": \"#E5ECF6\", \"gridcolor\": \"white\", \"gridwidth\": 2, \"linecolor\": \"white\", \"showbackground\": true, \"ticks\": \"\", \"zerolinecolor\": \"white\"}}, \"shapedefaults\": {\"line\": {\"color\": \"#2a3f5f\"}}, \"ternary\": {\"aaxis\": {\"gridcolor\": \"white\", \"linecolor\": \"white\", \"ticks\": \"\"}, \"baxis\": {\"gridcolor\": \"white\", \"linecolor\": \"white\", \"ticks\": \"\"}, \"bgcolor\": \"#E5ECF6\", \"caxis\": {\"gridcolor\": \"white\", \"linecolor\": \"white\", \"ticks\": \"\"}}, \"title\": {\"x\": 0.05}, \"xaxis\": {\"automargin\": true, \"gridcolor\": \"white\", \"linecolor\": \"white\", \"ticks\": \"\", \"title\": {\"standoff\": 15}, \"zerolinecolor\": \"white\", \"zerolinewidth\": 2}, \"yaxis\": {\"automargin\": true, \"gridcolor\": \"white\", \"linecolor\": \"white\", \"ticks\": \"\", \"title\": {\"standoff\": 15}, \"zerolinecolor\": \"white\", \"zerolinewidth\": 2}}}, \"title\": {\"text\": \"visualisation de la repartiion des fonctions des differents de types de batiments pour 2013 \"}},\n",
              "                        {\"responsive\": true}\n",
              "                    ).then(function(){\n",
              "                            \n",
              "var gd = document.getElementById('30ad36f7-0ca1-4d9c-b6e9-e3dbc2cb7d17');\n",
              "var x = new MutationObserver(function (mutations, observer) {{\n",
              "        var display = window.getComputedStyle(gd).display;\n",
              "        if (!display || display === 'none') {{\n",
              "            console.log([gd, 'removed!']);\n",
              "            Plotly.purge(gd);\n",
              "            observer.disconnect();\n",
              "        }}\n",
              "}});\n",
              "\n",
              "// Listen for the removal of the full notebook cells\n",
              "var notebookContainer = gd.closest('#notebook-container');\n",
              "if (notebookContainer) {{\n",
              "    x.observe(notebookContainer, {childList: true});\n",
              "}}\n",
              "\n",
              "// Listen for the clearing of the current output cell\n",
              "var outputEl = gd.closest('.output');\n",
              "if (outputEl) {{\n",
              "    x.observe(outputEl, {childList: true});\n",
              "}}\n",
              "\n",
              "                        })\n",
              "                };\n",
              "                \n",
              "            </script>\n",
              "        </div>\n",
              "</body>\n",
              "</html>"
            ]
          },
          "metadata": {
            "tags": []
          }
        }
      ]
    },
    {
      "cell_type": "markdown",
      "metadata": {
        "id": "gOdcdQer-_lf"
      },
      "source": [
        "les 3535 bureaux se divisent en 11 sous categories. La gendarmerie , les commisariats et les immeubles de bureaux constituent la majeure partie des batiments de types bureaux.\n",
        "Les espaces aménagés sont au nombre de 2450 et sont repartis en 11 sous catégories les plus importantes en proportion sont les terrains de jeux ou loisirs et les aires de stationnements\n",
        "Les batiments techniques sont au nombre de 2937 et sont divisés en 19 sous categories . les plus importantes  sont les batiments de stockages les ateliers reparations entretien ainsi que les garages."
      ]
    },
    {
      "cell_type": "code",
      "metadata": {
        "id": "3Ge0F_aUxDzX"
      },
      "source": [
        ""
      ],
      "execution_count": null,
      "outputs": []
    },
    {
      "cell_type": "code",
      "metadata": {
        "id": "64s3yNjmEsib",
        "outputId": "8689d84e-1f1d-44e5-ace1-05fd38708758",
        "colab": {
          "base_uri": "https://localhost:8080/",
          "height": 452
        }
      },
      "source": [
        "rr218"
      ],
      "execution_count": null,
      "outputs": [
        {
          "output_type": "execute_result",
          "data": {
            "text/html": [
              "<div>\n",
              "<style scoped>\n",
              "    .dataframe tbody tr th:only-of-type {\n",
              "        vertical-align: middle;\n",
              "    }\n",
              "\n",
              "    .dataframe tbody tr th {\n",
              "        vertical-align: top;\n",
              "    }\n",
              "\n",
              "    .dataframe thead th {\n",
              "        text-align: right;\n",
              "    }\n",
              "</style>\n",
              "<table border=\"1\" class=\"dataframe\">\n",
              "  <thead>\n",
              "    <tr style=\"text-align: right;\">\n",
              "      <th></th>\n",
              "      <th>count</th>\n",
              "      <th>Type</th>\n",
              "    </tr>\n",
              "  </thead>\n",
              "  <tbody>\n",
              "    <tr>\n",
              "      <th>0</th>\n",
              "      <td>2155</td>\n",
              "      <td>Bureau</td>\n",
              "    </tr>\n",
              "    <tr>\n",
              "      <th>1</th>\n",
              "      <td>232</td>\n",
              "      <td>Bâtiment agricole ou d'élevage</td>\n",
              "    </tr>\n",
              "    <tr>\n",
              "      <th>2</th>\n",
              "      <td>18</td>\n",
              "      <td>Bâtiment culturel</td>\n",
              "    </tr>\n",
              "    <tr>\n",
              "      <th>3</th>\n",
              "      <td>460</td>\n",
              "      <td>Bâtiment d'enseignement ou de sport</td>\n",
              "    </tr>\n",
              "    <tr>\n",
              "      <th>4</th>\n",
              "      <td>411</td>\n",
              "      <td>Bâtiment sanitaire ou social</td>\n",
              "    </tr>\n",
              "    <tr>\n",
              "      <th>5</th>\n",
              "      <td>3525</td>\n",
              "      <td>Bâtiment technique</td>\n",
              "    </tr>\n",
              "    <tr>\n",
              "      <th>6</th>\n",
              "      <td>1</td>\n",
              "      <td>Commerce</td>\n",
              "    </tr>\n",
              "    <tr>\n",
              "      <th>7</th>\n",
              "      <td>2746</td>\n",
              "      <td>Espace aménagé</td>\n",
              "    </tr>\n",
              "    <tr>\n",
              "      <th>8</th>\n",
              "      <td>138</td>\n",
              "      <td>Espace naturel</td>\n",
              "    </tr>\n",
              "    <tr>\n",
              "      <th>9</th>\n",
              "      <td>4</td>\n",
              "      <td>Monument et mémorial</td>\n",
              "    </tr>\n",
              "    <tr>\n",
              "      <th>10</th>\n",
              "      <td>471</td>\n",
              "      <td>Ouvrage d'art des réseaux et voiries</td>\n",
              "    </tr>\n",
              "    <tr>\n",
              "      <th>11</th>\n",
              "      <td>62</td>\n",
              "      <td>Réseaux et voirie</td>\n",
              "    </tr>\n",
              "    <tr>\n",
              "      <th>12</th>\n",
              "      <td>7</td>\n",
              "      <td>Édifice du culte</td>\n",
              "    </tr>\n",
              "  </tbody>\n",
              "</table>\n",
              "</div>"
            ],
            "text/plain": [
              "    count                                  Type\n",
              "0    2155                                Bureau\n",
              "1     232        Bâtiment agricole ou d'élevage\n",
              "2      18                    Bâtiment culturel \n",
              "3     460   Bâtiment d'enseignement ou de sport\n",
              "4     411          Bâtiment sanitaire ou social\n",
              "5    3525                    Bâtiment technique\n",
              "6       1                              Commerce\n",
              "7    2746                        Espace aménagé\n",
              "8     138                        Espace naturel\n",
              "9       4                  Monument et mémorial\n",
              "10    471  Ouvrage d'art des réseaux et voiries\n",
              "11     62                     Réseaux et voirie\n",
              "12      7                     Édifice du culte "
            ]
          },
          "metadata": {
            "tags": []
          },
          "execution_count": 148
        }
      ]
    },
    {
      "cell_type": "code",
      "metadata": {
        "id": "jxQQfSFh84bm"
      },
      "source": [
        "total_per_reg = pd.DataFrame(df18['Région'])\n",
        "total_per_reg['count']=1\n",
        "total_per_reg = total_per_reg.groupby('Région').count()\n",
        "total_per_reg = total_per_reg.reset_index()\n",
        "total_per_reg = total_per_reg.sort_values('Région')"
      ],
      "execution_count": null,
      "outputs": []
    },
    {
      "cell_type": "code",
      "metadata": {
        "id": "xGyGUru4du-A",
        "outputId": "b49799ce-a90d-4313-f568-05a8014b6c12",
        "colab": {
          "base_uri": "https://localhost:8080/",
          "height": 793
        }
      },
      "source": [
        "total_per_reg"
      ],
      "execution_count": null,
      "outputs": [
        {
          "output_type": "execute_result",
          "data": {
            "text/html": [
              "<div>\n",
              "<style scoped>\n",
              "    .dataframe tbody tr th:only-of-type {\n",
              "        vertical-align: middle;\n",
              "    }\n",
              "\n",
              "    .dataframe tbody tr th {\n",
              "        vertical-align: top;\n",
              "    }\n",
              "\n",
              "    .dataframe thead th {\n",
              "        text-align: right;\n",
              "    }\n",
              "</style>\n",
              "<table border=\"1\" class=\"dataframe\">\n",
              "  <thead>\n",
              "    <tr style=\"text-align: right;\">\n",
              "      <th></th>\n",
              "      <th>Région</th>\n",
              "      <th>count</th>\n",
              "    </tr>\n",
              "  </thead>\n",
              "  <tbody>\n",
              "    <tr>\n",
              "      <th>0</th>\n",
              "      <td>ALSACE</td>\n",
              "      <td>161</td>\n",
              "    </tr>\n",
              "    <tr>\n",
              "      <th>1</th>\n",
              "      <td>AQUITAINE</td>\n",
              "      <td>544</td>\n",
              "    </tr>\n",
              "    <tr>\n",
              "      <th>2</th>\n",
              "      <td>AUVERGNE</td>\n",
              "      <td>242</td>\n",
              "    </tr>\n",
              "    <tr>\n",
              "      <th>3</th>\n",
              "      <td>BASSE NORMANDIE</td>\n",
              "      <td>118</td>\n",
              "    </tr>\n",
              "    <tr>\n",
              "      <th>4</th>\n",
              "      <td>BOURGOGNE</td>\n",
              "      <td>398</td>\n",
              "    </tr>\n",
              "    <tr>\n",
              "      <th>5</th>\n",
              "      <td>BRETAGNE</td>\n",
              "      <td>366</td>\n",
              "    </tr>\n",
              "    <tr>\n",
              "      <th>6</th>\n",
              "      <td>CENTRE</td>\n",
              "      <td>419</td>\n",
              "    </tr>\n",
              "    <tr>\n",
              "      <th>7</th>\n",
              "      <td>CHAMPAGNE-ARDENNES</td>\n",
              "      <td>259</td>\n",
              "    </tr>\n",
              "    <tr>\n",
              "      <th>8</th>\n",
              "      <td>CORSE</td>\n",
              "      <td>241</td>\n",
              "    </tr>\n",
              "    <tr>\n",
              "      <th>9</th>\n",
              "      <td>D.O.M</td>\n",
              "      <td>1741</td>\n",
              "    </tr>\n",
              "    <tr>\n",
              "      <th>10</th>\n",
              "      <td>ETRANGER</td>\n",
              "      <td>4</td>\n",
              "    </tr>\n",
              "    <tr>\n",
              "      <th>11</th>\n",
              "      <td>FRANCHE COMTE</td>\n",
              "      <td>269</td>\n",
              "    </tr>\n",
              "    <tr>\n",
              "      <th>12</th>\n",
              "      <td>HAUTE NORMANDIE</td>\n",
              "      <td>167</td>\n",
              "    </tr>\n",
              "    <tr>\n",
              "      <th>13</th>\n",
              "      <td>ILE DE France</td>\n",
              "      <td>1324</td>\n",
              "    </tr>\n",
              "    <tr>\n",
              "      <th>14</th>\n",
              "      <td>LANGUEDOC-ROUSSILLON</td>\n",
              "      <td>251</td>\n",
              "    </tr>\n",
              "    <tr>\n",
              "      <th>15</th>\n",
              "      <td>LIMOUSIN</td>\n",
              "      <td>257</td>\n",
              "    </tr>\n",
              "    <tr>\n",
              "      <th>16</th>\n",
              "      <td>LORRAINE</td>\n",
              "      <td>448</td>\n",
              "    </tr>\n",
              "    <tr>\n",
              "      <th>17</th>\n",
              "      <td>MIDI-PYRENNEES</td>\n",
              "      <td>442</td>\n",
              "    </tr>\n",
              "    <tr>\n",
              "      <th>18</th>\n",
              "      <td>NORD-PAS DE CALAIS</td>\n",
              "      <td>408</td>\n",
              "    </tr>\n",
              "    <tr>\n",
              "      <th>19</th>\n",
              "      <td>PACA</td>\n",
              "      <td>663</td>\n",
              "    </tr>\n",
              "    <tr>\n",
              "      <th>20</th>\n",
              "      <td>PAYS DE LOIRE</td>\n",
              "      <td>339</td>\n",
              "    </tr>\n",
              "    <tr>\n",
              "      <th>21</th>\n",
              "      <td>PICARDIE</td>\n",
              "      <td>330</td>\n",
              "    </tr>\n",
              "    <tr>\n",
              "      <th>22</th>\n",
              "      <td>POITOU</td>\n",
              "      <td>282</td>\n",
              "    </tr>\n",
              "    <tr>\n",
              "      <th>23</th>\n",
              "      <td>RHONE ALPES</td>\n",
              "      <td>557</td>\n",
              "    </tr>\n",
              "  </tbody>\n",
              "</table>\n",
              "</div>"
            ],
            "text/plain": [
              "                  Région  count\n",
              "0                 ALSACE    161\n",
              "1              AQUITAINE    544\n",
              "2               AUVERGNE    242\n",
              "3       BASSE NORMANDIE     118\n",
              "4              BOURGOGNE    398\n",
              "5               BRETAGNE    366\n",
              "6                 CENTRE    419\n",
              "7     CHAMPAGNE-ARDENNES    259\n",
              "8                  CORSE    241\n",
              "9                  D.O.M   1741\n",
              "10              ETRANGER      4\n",
              "11         FRANCHE COMTE    269\n",
              "12       HAUTE NORMANDIE    167\n",
              "13         ILE DE France   1324\n",
              "14  LANGUEDOC-ROUSSILLON    251\n",
              "15              LIMOUSIN    257\n",
              "16              LORRAINE    448\n",
              "17        MIDI-PYRENNEES    442\n",
              "18    NORD-PAS DE CALAIS    408\n",
              "19                  PACA    663\n",
              "20         PAYS DE LOIRE    339\n",
              "21              PICARDIE    330\n",
              "22                POITOU    282\n",
              "23           RHONE ALPES    557"
            ]
          },
          "metadata": {
            "tags": []
          },
          "execution_count": 88
        }
      ]
    },
    {
      "cell_type": "code",
      "metadata": {
        "id": "VIVGcnZllu_4"
      },
      "source": [
        ""
      ],
      "execution_count": null,
      "outputs": []
    }
  ]
}